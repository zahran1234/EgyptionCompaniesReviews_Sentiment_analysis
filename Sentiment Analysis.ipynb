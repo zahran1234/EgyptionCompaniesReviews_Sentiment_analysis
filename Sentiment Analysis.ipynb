{
 "cells": [
  {
   "cell_type": "code",
   "execution_count": 93,
   "id": "b15e44fe",
   "metadata": {},
   "outputs": [
    {
     "name": "stdout",
     "output_type": "stream",
     "text": [
      "Requirement already satisfied: plotly in c:\\users\\zahran\\anaconda3\\lib\\site-packages (5.10.0)\n",
      "Requirement already satisfied: tenacity>=6.2.0 in c:\\users\\zahran\\anaconda3\\lib\\site-packages (from plotly) (8.1.0)\n"
     ]
    }
   ],
   "source": [
    "!pip install plotly\n",
    "import pandas as pd\n",
    "import numpy as np\n",
    "import matplotlib.pyplot as plt \n",
    "import plotly.express as px\n",
    "from scipy import stats\n",
    "from sklearn.metrics import confusion_matrix,mean_squared_error,precision_score,recall_score,f1_score ,classification_report\n",
    "from sklearn import metrics\n",
    "import seaborn as sns\n",
    "from sklearn.feature_extraction.text import TfidfVectorizer\n",
    "import string\n"
   ]
  },
  {
   "cell_type": "code",
   "execution_count": 94,
   "id": "462358da",
   "metadata": {},
   "outputs": [],
   "source": [
    "from sklearn.tree import DecisionTreeClassifier\n",
    "from sklearn.ensemble import RandomForestClassifier , GradientBoostingClassifier\n",
    "from sklearn.model_selection import cross_val_score, GridSearchCV\n"
   ]
  },
  {
   "cell_type": "code",
   "execution_count": 95,
   "id": "f3168309",
   "metadata": {},
   "outputs": [],
   "source": [
    "from tensorflow.keras.layers import Dense\n",
    "from tensorflow.keras.models import Sequential"
   ]
  },
  {
   "cell_type": "code",
   "execution_count": 96,
   "id": "ad8fb0dc",
   "metadata": {},
   "outputs": [],
   "source": [
    "import nltk\n",
    "#nltk.download('stopwords')\n",
    "import re\n",
    "\n",
    "from nltk.corpus import stopwords\n",
    "from nltk.stem.porter import PorterStemmer\n",
    "from nltk.tokenize import word_tokenize"
   ]
  },
  {
   "cell_type": "code",
   "execution_count": 97,
   "id": "44612d1b",
   "metadata": {},
   "outputs": [],
   "source": [
    "df= pd.read_excel(r'E:\\banque misr\\Final_Data.xlsx')"
   ]
  },
  {
   "cell_type": "code",
   "execution_count": 98,
   "id": "8f48b6cb",
   "metadata": {},
   "outputs": [],
   "source": [
    "df=pd.DataFrame(df)"
   ]
  },
  {
   "cell_type": "code",
   "execution_count": 99,
   "id": "e38942ba",
   "metadata": {},
   "outputs": [
    {
     "name": "stdout",
     "output_type": "stream",
     "text": [
      "(40046, 3)\n",
      "(40017, 3)\n"
     ]
    }
   ],
   "source": [
    "print(df.shape)\n",
    "df=df.dropna()\n",
    "df=df.drop_duplicates()\n",
    "print(df.shape)"
   ]
  },
  {
   "cell_type": "code",
   "execution_count": 100,
   "id": "e4398df4",
   "metadata": {},
   "outputs": [
    {
     "data": {
      "text/html": [
       "<div>\n",
       "<style scoped>\n",
       "    .dataframe tbody tr th:only-of-type {\n",
       "        vertical-align: middle;\n",
       "    }\n",
       "\n",
       "    .dataframe tbody tr th {\n",
       "        vertical-align: top;\n",
       "    }\n",
       "\n",
       "    .dataframe thead th {\n",
       "        text-align: right;\n",
       "    }\n",
       "</style>\n",
       "<table border=\"1\" class=\"dataframe\">\n",
       "  <thead>\n",
       "    <tr style=\"text-align: right;\">\n",
       "      <th></th>\n",
       "      <th>review_description</th>\n",
       "      <th>rating</th>\n",
       "      <th>company</th>\n",
       "    </tr>\n",
       "  </thead>\n",
       "  <tbody>\n",
       "    <tr>\n",
       "      <th>0</th>\n",
       "      <td>رائع</td>\n",
       "      <td>positive</td>\n",
       "      <td>talbat</td>\n",
       "    </tr>\n",
       "    <tr>\n",
       "      <th>1</th>\n",
       "      <td>برنامج رائع جدا يساعد على تلبيه الاحتياجات بشك...</td>\n",
       "      <td>positive</td>\n",
       "      <td>talbat</td>\n",
       "    </tr>\n",
       "    <tr>\n",
       "      <th>2</th>\n",
       "      <td>التطبيق لا يغتح دائما بيعطيني لا يوجد اتصال با...</td>\n",
       "      <td>negative</td>\n",
       "      <td>talbat</td>\n",
       "    </tr>\n",
       "    <tr>\n",
       "      <th>3</th>\n",
       "      <td>لماذا لا يمكننا طلب من ماكدونالدز؟</td>\n",
       "      <td>negative</td>\n",
       "      <td>talbat</td>\n",
       "    </tr>\n",
       "    <tr>\n",
       "      <th>4</th>\n",
       "      <td>البرنامج بيظهر كل المطاعم و مغلقه مع انها بتكو...</td>\n",
       "      <td>negative</td>\n",
       "      <td>talbat</td>\n",
       "    </tr>\n",
       "    <tr>\n",
       "      <th>5</th>\n",
       "      <td>أصبح غالي جداً</td>\n",
       "      <td>negative</td>\n",
       "      <td>talbat</td>\n",
       "    </tr>\n",
       "    <tr>\n",
       "      <th>6</th>\n",
       "      <td>جميل جدا رائع. . .</td>\n",
       "      <td>positive</td>\n",
       "      <td>talbat</td>\n",
       "    </tr>\n",
       "    <tr>\n",
       "      <th>7</th>\n",
       "      <td>للأسف الواحد ينصدم بعد زيادة الاسعار و للاسف ب...</td>\n",
       "      <td>negative</td>\n",
       "      <td>talbat</td>\n",
       "    </tr>\n",
       "    <tr>\n",
       "      <th>8</th>\n",
       "      <td>برنامج توترز توصيل احلى من برنامجكم فاشل</td>\n",
       "      <td>negative</td>\n",
       "      <td>talbat</td>\n",
       "    </tr>\n",
       "    <tr>\n",
       "      <th>9</th>\n",
       "      <td>كتير في تحسن خدمة العملاء لطفين في بعض الاخطاء...</td>\n",
       "      <td>positive</td>\n",
       "      <td>talbat</td>\n",
       "    </tr>\n",
       "    <tr>\n",
       "      <th>10</th>\n",
       "      <td>ممتاز</td>\n",
       "      <td>positive</td>\n",
       "      <td>talbat</td>\n",
       "    </tr>\n",
       "    <tr>\n",
       "      <th>11</th>\n",
       "      <td>اسعارهم اغلا من المحلات ب كثير و بحطولك توصيل ...</td>\n",
       "      <td>negative</td>\n",
       "      <td>talbat</td>\n",
       "    </tr>\n",
       "    <tr>\n",
       "      <th>12</th>\n",
       "      <td>التطيبق لايعمل بغداد</td>\n",
       "      <td>positive</td>\n",
       "      <td>talbat</td>\n",
       "    </tr>\n",
       "    <tr>\n",
       "      <th>13</th>\n",
       "      <td>غدآ السبت الأحد الأربعاء والخميس</td>\n",
       "      <td>negative</td>\n",
       "      <td>talbat</td>\n",
       "    </tr>\n",
       "    <tr>\n",
       "      <th>14</th>\n",
       "      <td>فاااااشل جدا البحث ما بعطي فائدة يتم كتابه إسم...</td>\n",
       "      <td>negative</td>\n",
       "      <td>talbat</td>\n",
       "    </tr>\n",
       "    <tr>\n",
       "      <th>15</th>\n",
       "      <td>هلا</td>\n",
       "      <td>positive</td>\n",
       "      <td>talbat</td>\n",
       "    </tr>\n",
       "    <tr>\n",
       "      <th>16</th>\n",
       "      <td>جامد</td>\n",
       "      <td>positive</td>\n",
       "      <td>talbat</td>\n",
       "    </tr>\n",
       "    <tr>\n",
       "      <th>17</th>\n",
       "      <td>نزلته ومفيش الخصم اللي قلته عليه علي أول 3طلبا...</td>\n",
       "      <td>negative</td>\n",
       "      <td>talbat</td>\n",
       "    </tr>\n",
       "    <tr>\n",
       "      <th>18</th>\n",
       "      <td>جيد جدن</td>\n",
       "      <td>positive</td>\n",
       "      <td>talbat</td>\n",
       "    </tr>\n",
       "    <tr>\n",
       "      <th>19</th>\n",
       "      <td>الضريبه عالية جداً</td>\n",
       "      <td>negative</td>\n",
       "      <td>talbat</td>\n",
       "    </tr>\n",
       "  </tbody>\n",
       "</table>\n",
       "</div>"
      ],
      "text/plain": [
       "                                   review_description    rating company\n",
       "0                                                رائع  positive  talbat\n",
       "1   برنامج رائع جدا يساعد على تلبيه الاحتياجات بشك...  positive  talbat\n",
       "2   التطبيق لا يغتح دائما بيعطيني لا يوجد اتصال با...  negative  talbat\n",
       "3                  لماذا لا يمكننا طلب من ماكدونالدز؟  negative  talbat\n",
       "4   البرنامج بيظهر كل المطاعم و مغلقه مع انها بتكو...  negative  talbat\n",
       "5                                      أصبح غالي جداً  negative  talbat\n",
       "6                                  جميل جدا رائع. . .  positive  talbat\n",
       "7   للأسف الواحد ينصدم بعد زيادة الاسعار و للاسف ب...  negative  talbat\n",
       "8            برنامج توترز توصيل احلى من برنامجكم فاشل  negative  talbat\n",
       "9   كتير في تحسن خدمة العملاء لطفين في بعض الاخطاء...  positive  talbat\n",
       "10                                              ممتاز  positive  talbat\n",
       "11  اسعارهم اغلا من المحلات ب كثير و بحطولك توصيل ...  negative  talbat\n",
       "12                               التطيبق لايعمل بغداد  positive  talbat\n",
       "13                   غدآ السبت الأحد الأربعاء والخميس  negative  talbat\n",
       "14  فاااااشل جدا البحث ما بعطي فائدة يتم كتابه إسم...  negative  talbat\n",
       "15                                                هلا  positive  talbat\n",
       "16                                               جامد  positive  talbat\n",
       "17  نزلته ومفيش الخصم اللي قلته عليه علي أول 3طلبا...  negative  talbat\n",
       "18                                            جيد جدن  positive  talbat\n",
       "19                                 الضريبه عالية جداً  negative  talbat"
      ]
     },
     "execution_count": 100,
     "metadata": {},
     "output_type": "execute_result"
    }
   ],
   "source": [
    "df.head(20)"
   ]
  },
  {
   "cell_type": "code",
   "execution_count": 101,
   "id": "1555b323",
   "metadata": {},
   "outputs": [
    {
     "data": {
      "text/plain": [
       "<AxesSubplot:>"
      ]
     },
     "execution_count": 101,
     "metadata": {},
     "output_type": "execute_result"
    },
    {
     "data": {
      "image/png": "[encoded data removed]",
      "text/plain": [
       "<Figure size 432x288 with 1 Axes>"
      ]
     },
     "metadata": {
      "needs_background": "light"
     },
     "output_type": "display_data"
    }
   ],
   "source": [
    "df.company.value_counts().plot(kind='bar')"
   ]
  },
  {
   "cell_type": "code",
   "execution_count": 102,
   "id": "8ac4ea9e",
   "metadata": {},
   "outputs": [
    {
     "data": {
      "application/vnd.plotly.v1+json": {
       "config": {
        "plotlyServerURL": "https://plot.ly"
       },
       "data": [
        {
         "branchvalues": "total",
         "domain": {
          "x": [
           0,
           1
          ],
          "y": [
           0,
           1
          ]
         },
         "hovertemplate": "labels=%{label}<br>count=%{value}<br>parent=%{parent}<br>id=%{id}<extra></extra>",
         "ids": [
          "Ezz Steel/negative",
          "Raya/negative",
          "TMG/negative",
          "capiter/negative",
          "domty/negative",
          "elsewedy/negative",
          "hilton/negative",
          "nestle/negative",
          "swvl/negative",
          "talbat/negative",
          "telecom_egypt/negative",
          "venus/negative",
          "Ezz Steel/neutral",
          "Raya/neutral",
          "TMG/neutral",
          "capiter/neutral",
          "elsewedy/neutral",
          "hilton/neutral",
          "nestle/neutral",
          "swvl/neutral",
          "talbat/neutral",
          "telecom_egypt/neutral",
          "venus/neutral",
          "Ezz Steel/positive",
          "Raya/positive",
          "TMG/positive",
          "capiter/positive",
          "domty/positive",
          "elsewedy/positive",
          "hilton/positive",
          "nestle/positive",
          "swvl/positive",
          "talbat/positive",
          "telecom_egypt/positive",
          "venus/positive",
          "Ezz Steel",
          "Raya",
          "TMG",
          "capiter",
          "domty",
          "elsewedy",
          "hilton",
          "nestle",
          "swvl",
          "talbat",
          "telecom_egypt",
          "venus"
         ],
         "labels": [
          "negative",
          "negative",
          "negative",
          "negative",
          "negative",
          "negative",
          "negative",
          "negative",
          "negative",
          "negative",
          "negative",
          "negative",
          "neutral",
          "neutral",
          "neutral",
          "neutral",
          "neutral",
          "neutral",
          "neutral",
          "neutral",
          "neutral",
          "neutral",
          "neutral",
          "positive",
          "positive",
          "positive",
          "positive",
          "positive",
          "positive",
          "positive",
          "positive",
          "positive",
          "positive",
          "positive",
          "positive",
          "Ezz Steel",
          "Raya",
          "TMG",
          "capiter",
          "domty",
          "elsewedy",
          "hilton",
          "nestle",
          "swvl",
          "talbat",
          "telecom_egypt",
          "venus"
         ],
         "name": "",
         "parents": [
          "Ezz Steel",
          "Raya",
          "TMG",
          "capiter",
          "domty",
          "elsewedy",
          "hilton",
          "nestle",
          "swvl",
          "talbat",
          "telecom_egypt",
          "venus",
          "Ezz Steel",
          "Raya",
          "TMG",
          "capiter",
          "elsewedy",
          "hilton",
          "nestle",
          "swvl",
          "talbat",
          "telecom_egypt",
          "venus",
          "Ezz Steel",
          "Raya",
          "TMG",
          "capiter",
          "domty",
          "elsewedy",
          "hilton",
          "nestle",
          "swvl",
          "talbat",
          "telecom_egypt",
          "venus",
          "",
          "",
          "",
          "",
          "",
          "",
          "",
          "",
          "",
          "",
          "",
          ""
         ],
         "textinfo": "label+percent parent",
         "type": "sunburst",
         "values": [
          4,
          181,
          49,
          19,
          2,
          39,
          34,
          14,
          1846,
          10696,
          1227,
          85,
          7,
          8,
          17,
          3,
          6,
          3,
          1,
          317,
          1482,
          70,
          10,
          36,
          79,
          167,
          51,
          2,
          102,
          63,
          3,
          2522,
          19893,
          793,
          186,
          47,
          268,
          233,
          73,
          4,
          147,
          100,
          18,
          4685,
          32071,
          2090,
          281
         ]
        }
       ],
       "layout": {
        "legend": {
         "tracegroupgap": 0
        },
        "template": {
         "data": {
          "bar": [
           {
            "error_x": {
             "color": "#2a3f5f"
            },
            "error_y": {
             "color": "#2a3f5f"
            },
            "marker": {
             "line": {
              "color": "#E5ECF6",
              "width": 0.5
             },
             "pattern": {
              "fillmode": "overlay",
              "size": 10,
              "solidity": 0.2
             }
            },
            "type": "bar"
           }
          ],
          "barpolar": [
           {
            "marker": {
             "line": {
              "color": "#E5ECF6",
              "width": 0.5
             },
             "pattern": {
              "fillmode": "overlay",
              "size": 10,
              "solidity": 0.2
             }
            },
            "type": "barpolar"
           }
          ],
          "carpet": [
           {
            "aaxis": {
             "endlinecolor": "#2a3f5f",
             "gridcolor": "white",
             "linecolor": "white",
             "minorgridcolor": "white",
             "startlinecolor": "#2a3f5f"
            },
            "baxis": {
             "endlinecolor": "#2a3f5f",
             "gridcolor": "white",
             "linecolor": "white",
             "minorgridcolor": "white",
             "startlinecolor": "#2a3f5f"
            },
            "type": "carpet"
           }
          ],
          "choropleth": [
           {
            "colorbar": {
             "outlinewidth": 0,
             "ticks": ""
            },
            "type": "choropleth"
           }
          ],
          "contour": [
           {
            "colorbar": {
             "outlinewidth": 0,
             "ticks": ""
            },
            "colorscale": [
             [
              0,
              "#0d0887"
             ],
             [
              0.1111111111111111,
              "#46039f"
             ],
             [
              0.2222222222222222,
              "#7201a8"
             ],
             [
              0.3333333333333333,
              "#9c179e"
             ],
             [
              0.4444444444444444,
              "#bd3786"
             ],
             [
              0.5555555555555556,
              "#d8576b"
             ],
             [
              0.6666666666666666,
              "#ed7953"
             ],
             [
              0.7777777777777778,
              "#fb9f3a"
             ],
             [
              0.8888888888888888,
              "#fdca26"
             ],
             [
              1,
              "#f0f921"
             ]
            ],
            "type": "contour"
           }
          ],
          "contourcarpet": [
           {
            "colorbar": {
             "outlinewidth": 0,
             "ticks": ""
            },
            "type": "contourcarpet"
           }
          ],
          "heatmap": [
           {
            "colorbar": {
             "outlinewidth": 0,
             "ticks": ""
            },
            "colorscale": [
             [
              0,
              "#0d0887"
             ],
             [
              0.1111111111111111,
              "#46039f"
             ],
             [
              0.2222222222222222,
              "#7201a8"
             ],
             [
              0.3333333333333333,
              "#9c179e"
             ],
             [
              0.4444444444444444,
              "#bd3786"
             ],
             [
              0.5555555555555556,
              "#d8576b"
             ],
             [
              0.6666666666666666,
              "#ed7953"
             ],
             [
              0.7777777777777778,
              "#fb9f3a"
             ],
             [
              0.8888888888888888,
              "#fdca26"
             ],
             [
              1,
              "#f0f921"
             ]
            ],
            "type": "heatmap"
           }
          ],
          "heatmapgl": [
           {
            "colorbar": {
             "outlinewidth": 0,
             "ticks": ""
            },
            "colorscale": [
             [
              0,
              "#0d0887"
             ],
             [
              0.1111111111111111,
              "#46039f"
             ],
             [
              0.2222222222222222,
              "#7201a8"
             ],
             [
              0.3333333333333333,
              "#9c179e"
             ],
             [
              0.4444444444444444,
              "#bd3786"
             ],
             [
              0.5555555555555556,
              "#d8576b"
             ],
             [
              0.6666666666666666,
              "#ed7953"
             ],
             [
              0.7777777777777778,
              "#fb9f3a"
             ],
             [
              0.8888888888888888,
              "#fdca26"
             ],
             [
              1,
              "#f0f921"
             ]
            ],
            "type": "heatmapgl"
           }
          ],
          "histogram": [
           {
            "marker": {
             "pattern": {
              "fillmode": "overlay",
              "size": 10,
              "solidity": 0.2
             }
            },
            "type": "histogram"
           }
          ],
          "histogram2d": [
           {
            "colorbar": {
             "outlinewidth": 0,
             "ticks": ""
            },
            "colorscale": [
             [
              0,
              "#0d0887"
             ],
             [
              0.1111111111111111,
              "#46039f"
             ],
             [
              0.2222222222222222,
              "#7201a8"
             ],
             [
              0.3333333333333333,
              "#9c179e"
             ],
             [
              0.4444444444444444,
              "#bd3786"
             ],
             [
              0.5555555555555556,
              "#d8576b"
             ],
             [
              0.6666666666666666,
              "#ed7953"
             ],
             [
              0.7777777777777778,
              "#fb9f3a"
             ],
             [
              0.8888888888888888,
              "#fdca26"
             ],
             [
              1,
              "#f0f921"
             ]
            ],
            "type": "histogram2d"
           }
          ],
          "histogram2dcontour": [
           {
            "colorbar": {
             "outlinewidth": 0,
             "ticks": ""
            },
            "colorscale": [
             [
              0,
              "#0d0887"
             ],
             [
              0.1111111111111111,
              "#46039f"
             ],
             [
              0.2222222222222222,
              "#7201a8"
             ],
             [
              0.3333333333333333,
              "#9c179e"
             ],
             [
              0.4444444444444444,
              "#bd3786"
             ],
             [
              0.5555555555555556,
              "#d8576b"
             ],
             [
              0.6666666666666666,
              "#ed7953"
             ],
             [
              0.7777777777777778,
              "#fb9f3a"
             ],
             [
              0.8888888888888888,
              "#fdca26"
             ],
             [
              1,
              "#f0f921"
             ]
            ],
            "type": "histogram2dcontour"
           }
          ],
          "mesh3d": [
           {
            "colorbar": {
             "outlinewidth": 0,
             "ticks": ""
            },
            "type": "mesh3d"
           }
          ],
          "parcoords": [
           {
            "line": {
             "colorbar": {
              "outlinewidth": 0,
              "ticks": ""
             }
            },
            "type": "parcoords"
           }
          ],
          "pie": [
           {
            "automargin": true,
            "type": "pie"
           }
          ],
          "scatter": [
           {
            "fillpattern": {
             "fillmode": "overlay",
             "size": 10,
             "solidity": 0.2
            },
            "type": "scatter"
           }
          ],
          "scatter3d": [
           {
            "line": {
             "colorbar": {
              "outlinewidth": 0,
              "ticks": ""
             }
            },
            "marker": {
             "colorbar": {
              "outlinewidth": 0,
              "ticks": ""
             }
            },
            "type": "scatter3d"
           }
          ],
          "scattercarpet": [
           {
            "marker": {
             "colorbar": {
              "outlinewidth": 0,
              "ticks": ""
             }
            },
            "type": "scattercarpet"
           }
          ],
          "scattergeo": [
           {
            "marker": {
             "colorbar": {
              "outlinewidth": 0,
              "ticks": ""
             }
            },
            "type": "scattergeo"
           }
          ],
          "scattergl": [
           {
            "marker": {
             "colorbar": {
              "outlinewidth": 0,
              "ticks": ""
             }
            },
            "type": "scattergl"
           }
          ],
          "scattermapbox": [
           {
            "marker": {
             "colorbar": {
              "outlinewidth": 0,
              "ticks": ""
             }
            },
            "type": "scattermapbox"
           }
          ],
          "scatterpolar": [
           {
            "marker": {
             "colorbar": {
              "outlinewidth": 0,
              "ticks": ""
             }
            },
            "type": "scatterpolar"
           }
          ],
          "scatterpolargl": [
           {
            "marker": {
             "colorbar": {
              "outlinewidth": 0,
              "ticks": ""
             }
            },
            "type": "scatterpolargl"
           }
          ],
          "scatterternary": [
           {
            "marker": {
             "colorbar": {
              "outlinewidth": 0,
              "ticks": ""
             }
            },
            "type": "scatterternary"
           }
          ],
          "surface": [
           {
            "colorbar": {
             "outlinewidth": 0,
             "ticks": ""
            },
            "colorscale": [
             [
              0,
              "#0d0887"
             ],
             [
              0.1111111111111111,
              "#46039f"
             ],
             [
              0.2222222222222222,
              "#7201a8"
             ],
             [
              0.3333333333333333,
              "#9c179e"
             ],
             [
              0.4444444444444444,
              "#bd3786"
             ],
             [
              0.5555555555555556,
              "#d8576b"
             ],
             [
              0.6666666666666666,
              "#ed7953"
             ],
             [
              0.7777777777777778,
              "#fb9f3a"
             ],
             [
              0.8888888888888888,
              "#fdca26"
             ],
             [
              1,
              "#f0f921"
             ]
            ],
            "type": "surface"
           }
          ],
          "table": [
           {
            "cells": {
             "fill": {
              "color": "#EBF0F8"
             },
             "line": {
              "color": "white"
             }
            },
            "header": {
             "fill": {
              "color": "#C8D4E3"
             },
             "line": {
              "color": "white"
             }
            },
            "type": "table"
           }
          ]
         },
         "layout": {
          "annotationdefaults": {
           "arrowcolor": "#2a3f5f",
           "arrowhead": 0,
           "arrowwidth": 1
          },
          "autotypenumbers": "strict",
          "coloraxis": {
           "colorbar": {
            "outlinewidth": 0,
            "ticks": ""
           }
          },
          "colorscale": {
           "diverging": [
            [
             0,
             "#8e0152"
            ],
            [
             0.1,
             "#c51b7d"
            ],
            [
             0.2,
             "#de77ae"
            ],
            [
             0.3,
             "#f1b6da"
            ],
            [
             0.4,
             "#fde0ef"
            ],
            [
             0.5,
             "#f7f7f7"
            ],
            [
             0.6,
             "#e6f5d0"
            ],
            [
             0.7,
             "#b8e186"
            ],
            [
             0.8,
             "#7fbc41"
            ],
            [
             0.9,
             "#4d9221"
            ],
            [
             1,
             "#276419"
            ]
           ],
           "sequential": [
            [
             0,
             "#0d0887"
            ],
            [
             0.1111111111111111,
             "#46039f"
            ],
            [
             0.2222222222222222,
             "#7201a8"
            ],
            [
             0.3333333333333333,
             "#9c179e"
            ],
            [
             0.4444444444444444,
             "#bd3786"
            ],
            [
             0.5555555555555556,
             "#d8576b"
            ],
            [
             0.6666666666666666,
             "#ed7953"
            ],
            [
             0.7777777777777778,
             "#fb9f3a"
            ],
            [
             0.8888888888888888,
             "#fdca26"
            ],
            [
             1,
             "#f0f921"
            ]
           ],
           "sequentialminus": [
            [
             0,
             "#0d0887"
            ],
            [
             0.1111111111111111,
             "#46039f"
            ],
            [
             0.2222222222222222,
             "#7201a8"
            ],
            [
             0.3333333333333333,
             "#9c179e"
            ],
            [
             0.4444444444444444,
             "#bd3786"
            ],
            [
             0.5555555555555556,
             "#d8576b"
            ],
            [
             0.6666666666666666,
             "#ed7953"
            ],
            [
             0.7777777777777778,
             "#fb9f3a"
            ],
            [
             0.8888888888888888,
             "#fdca26"
            ],
            [
             1,
             "#f0f921"
            ]
           ]
          },
          "colorway": [
           "#636efa",
           "#EF553B",
           "#00cc96",
           "#ab63fa",
           "#FFA15A",
           "#19d3f3",
           "#FF6692",
           "#B6E880",
           "#FF97FF",
           "#FECB52"
          ],
          "font": {
           "color": "#2a3f5f"
          },
          "geo": {
           "bgcolor": "white",
           "lakecolor": "white",
           "landcolor": "#E5ECF6",
           "showlakes": true,
           "showland": true,
           "subunitcolor": "white"
          },
          "hoverlabel": {
           "align": "left"
          },
          "hovermode": "closest",
          "mapbox": {
           "style": "light"
          },
          "paper_bgcolor": "white",
          "plot_bgcolor": "#E5ECF6",
          "polar": {
           "angularaxis": {
            "gridcolor": "white",
            "linecolor": "white",
            "ticks": ""
           },
           "bgcolor": "#E5ECF6",
           "radialaxis": {
            "gridcolor": "white",
            "linecolor": "white",
            "ticks": ""
           }
          },
          "scene": {
           "xaxis": {
            "backgroundcolor": "#E5ECF6",
            "gridcolor": "white",
            "gridwidth": 2,
            "linecolor": "white",
            "showbackground": true,
            "ticks": "",
            "zerolinecolor": "white"
           },
           "yaxis": {
            "backgroundcolor": "#E5ECF6",
            "gridcolor": "white",
            "gridwidth": 2,
            "linecolor": "white",
            "showbackground": true,
            "ticks": "",
            "zerolinecolor": "white"
           },
           "zaxis": {
            "backgroundcolor": "#E5ECF6",
            "gridcolor": "white",
            "gridwidth": 2,
            "linecolor": "white",
            "showbackground": true,
            "ticks": "",
            "zerolinecolor": "white"
           }
          },
          "shapedefaults": {
           "line": {
            "color": "#2a3f5f"
           }
          },
          "ternary": {
           "aaxis": {
            "gridcolor": "white",
            "linecolor": "white",
            "ticks": ""
           },
           "baxis": {
            "gridcolor": "white",
            "linecolor": "white",
            "ticks": ""
           },
           "bgcolor": "#E5ECF6",
           "caxis": {
            "gridcolor": "white",
            "linecolor": "white",
            "ticks": ""
           }
          },
          "title": {
           "x": 0.05
          },
          "xaxis": {
           "automargin": true,
           "gridcolor": "white",
           "linecolor": "white",
           "ticks": "",
           "title": {
            "standoff": 15
           },
           "zerolinecolor": "white",
           "zerolinewidth": 2
          },
          "yaxis": {
           "automargin": true,
           "gridcolor": "white",
           "linecolor": "white",
           "ticks": "",
           "title": {
            "standoff": 15
           },
           "zerolinecolor": "white",
           "zerolinewidth": 2
          }
         }
        },
        "title": {
         "text": "Relation between company and rating"
        }
       }
      },
      "text/html": [
       "<div>                            <div id=\"c9a05aef-0f00-40f7-b667-5c212b841eff\" class=\"plotly-graph-div\" style=\"height:525px; width:100%;\"></div>            <script type=\"text/javascript\">                require([\"plotly\"], function(Plotly) {                    window.PLOTLYENV=window.PLOTLYENV || {};                                    if (document.getElementById(\"c9a05aef-0f00-40f7-b667-5c212b841eff\")) {                    Plotly.newPlot(                        \"c9a05aef-0f00-40f7-b667-5c212b841eff\",                        [{\"branchvalues\":\"total\",\"domain\":{\"x\":[0.0,1.0],\"y\":[0.0,1.0]},\"hovertemplate\":\"labels=%{label}<br>count=%{value}<br>parent=%{parent}<br>id=%{id}<extra></extra>\",\"ids\":[\"Ezz Steel/negative\",\"Raya/negative\",\"TMG/negative\",\"capiter/negative\",\"domty/negative\",\"elsewedy/negative\",\"hilton/negative\",\"nestle/negative\",\"swvl/negative\",\"talbat/negative\",\"telecom_egypt/negative\",\"venus/negative\",\"Ezz Steel/neutral\",\"Raya/neutral\",\"TMG/neutral\",\"capiter/neutral\",\"elsewedy/neutral\",\"hilton/neutral\",\"nestle/neutral\",\"swvl/neutral\",\"talbat/neutral\",\"telecom_egypt/neutral\",\"venus/neutral\",\"Ezz Steel/positive\",\"Raya/positive\",\"TMG/positive\",\"capiter/positive\",\"domty/positive\",\"elsewedy/positive\",\"hilton/positive\",\"nestle/positive\",\"swvl/positive\",\"talbat/positive\",\"telecom_egypt/positive\",\"venus/positive\",\"Ezz Steel\",\"Raya\",\"TMG\",\"capiter\",\"domty\",\"elsewedy\",\"hilton\",\"nestle\",\"swvl\",\"talbat\",\"telecom_egypt\",\"venus\"],\"labels\":[\"negative\",\"negative\",\"negative\",\"negative\",\"negative\",\"negative\",\"negative\",\"negative\",\"negative\",\"negative\",\"negative\",\"negative\",\"neutral\",\"neutral\",\"neutral\",\"neutral\",\"neutral\",\"neutral\",\"neutral\",\"neutral\",\"neutral\",\"neutral\",\"neutral\",\"positive\",\"positive\",\"positive\",\"positive\",\"positive\",\"positive\",\"positive\",\"positive\",\"positive\",\"positive\",\"positive\",\"positive\",\"Ezz Steel\",\"Raya\",\"TMG\",\"capiter\",\"domty\",\"elsewedy\",\"hilton\",\"nestle\",\"swvl\",\"talbat\",\"telecom_egypt\",\"venus\"],\"name\":\"\",\"parents\":[\"Ezz Steel\",\"Raya\",\"TMG\",\"capiter\",\"domty\",\"elsewedy\",\"hilton\",\"nestle\",\"swvl\",\"talbat\",\"telecom_egypt\",\"venus\",\"Ezz Steel\",\"Raya\",\"TMG\",\"capiter\",\"elsewedy\",\"hilton\",\"nestle\",\"swvl\",\"talbat\",\"telecom_egypt\",\"venus\",\"Ezz Steel\",\"Raya\",\"TMG\",\"capiter\",\"domty\",\"elsewedy\",\"hilton\",\"nestle\",\"swvl\",\"talbat\",\"telecom_egypt\",\"venus\",\"\",\"\",\"\",\"\",\"\",\"\",\"\",\"\",\"\",\"\",\"\",\"\"],\"values\":[4,181,49,19,2,39,34,14,1846,10696,1227,85,7,8,17,3,6,3,1,317,1482,70,10,36,79,167,51,2,102,63,3,2522,19893,793,186,47,268,233,73,4,147,100,18,4685,32071,2090,281],\"type\":\"sunburst\",\"textinfo\":\"label+percent parent\"}],                        {\"template\":{\"data\":{\"histogram2dcontour\":[{\"type\":\"histogram2dcontour\",\"colorbar\":{\"outlinewidth\":0,\"ticks\":\"\"},\"colorscale\":[[0.0,\"#0d0887\"],[0.1111111111111111,\"#46039f\"],[0.2222222222222222,\"#7201a8\"],[0.3333333333333333,\"#9c179e\"],[0.4444444444444444,\"#bd3786\"],[0.5555555555555556,\"#d8576b\"],[0.6666666666666666,\"#ed7953\"],[0.7777777777777778,\"#fb9f3a\"],[0.8888888888888888,\"#fdca26\"],[1.0,\"#f0f921\"]]}],\"choropleth\":[{\"type\":\"choropleth\",\"colorbar\":{\"outlinewidth\":0,\"ticks\":\"\"}}],\"histogram2d\":[{\"type\":\"histogram2d\",\"colorbar\":{\"outlinewidth\":0,\"ticks\":\"\"},\"colorscale\":[[0.0,\"#0d0887\"],[0.1111111111111111,\"#46039f\"],[0.2222222222222222,\"#7201a8\"],[0.3333333333333333,\"#9c179e\"],[0.4444444444444444,\"#bd3786\"],[0.5555555555555556,\"#d8576b\"],[0.6666666666666666,\"#ed7953\"],[0.7777777777777778,\"#fb9f3a\"],[0.8888888888888888,\"#fdca26\"],[1.0,\"#f0f921\"]]}],\"heatmap\":[{\"type\":\"heatmap\",\"colorbar\":{\"outlinewidth\":0,\"ticks\":\"\"},\"colorscale\":[[0.0,\"#0d0887\"],[0.1111111111111111,\"#46039f\"],[0.2222222222222222,\"#7201a8\"],[0.3333333333333333,\"#9c179e\"],[0.4444444444444444,\"#bd3786\"],[0.5555555555555556,\"#d8576b\"],[0.6666666666666666,\"#ed7953\"],[0.7777777777777778,\"#fb9f3a\"],[0.8888888888888888,\"#fdca26\"],[1.0,\"#f0f921\"]]}],\"heatmapgl\":[{\"type\":\"heatmapgl\",\"colorbar\":{\"outlinewidth\":0,\"ticks\":\"\"},\"colorscale\":[[0.0,\"#0d0887\"],[0.1111111111111111,\"#46039f\"],[0.2222222222222222,\"#7201a8\"],[0.3333333333333333,\"#9c179e\"],[0.4444444444444444,\"#bd3786\"],[0.5555555555555556,\"#d8576b\"],[0.6666666666666666,\"#ed7953\"],[0.7777777777777778,\"#fb9f3a\"],[0.8888888888888888,\"#fdca26\"],[1.0,\"#f0f921\"]]}],\"contourcarpet\":[{\"type\":\"contourcarpet\",\"colorbar\":{\"outlinewidth\":0,\"ticks\":\"\"}}],\"contour\":[{\"type\":\"contour\",\"colorbar\":{\"outlinewidth\":0,\"ticks\":\"\"},\"colorscale\":[[0.0,\"#0d0887\"],[0.1111111111111111,\"#46039f\"],[0.2222222222222222,\"#7201a8\"],[0.3333333333333333,\"#9c179e\"],[0.4444444444444444,\"#bd3786\"],[0.5555555555555556,\"#d8576b\"],[0.6666666666666666,\"#ed7953\"],[0.7777777777777778,\"#fb9f3a\"],[0.8888888888888888,\"#fdca26\"],[1.0,\"#f0f921\"]]}],\"surface\":[{\"type\":\"surface\",\"colorbar\":{\"outlinewidth\":0,\"ticks\":\"\"},\"colorscale\":[[0.0,\"#0d0887\"],[0.1111111111111111,\"#46039f\"],[0.2222222222222222,\"#7201a8\"],[0.3333333333333333,\"#9c179e\"],[0.4444444444444444,\"#bd3786\"],[0.5555555555555556,\"#d8576b\"],[0.6666666666666666,\"#ed7953\"],[0.7777777777777778,\"#fb9f3a\"],[0.8888888888888888,\"#fdca26\"],[1.0,\"#f0f921\"]]}],\"mesh3d\":[{\"type\":\"mesh3d\",\"colorbar\":{\"outlinewidth\":0,\"ticks\":\"\"}}],\"scatter\":[{\"fillpattern\":{\"fillmode\":\"overlay\",\"size\":10,\"solidity\":0.2},\"type\":\"scatter\"}],\"parcoords\":[{\"type\":\"parcoords\",\"line\":{\"colorbar\":{\"outlinewidth\":0,\"ticks\":\"\"}}}],\"scatterpolargl\":[{\"type\":\"scatterpolargl\",\"marker\":{\"colorbar\":{\"outlinewidth\":0,\"ticks\":\"\"}}}],\"bar\":[{\"error_x\":{\"color\":\"#2a3f5f\"},\"error_y\":{\"color\":\"#2a3f5f\"},\"marker\":{\"line\":{\"color\":\"#E5ECF6\",\"width\":0.5},\"pattern\":{\"fillmode\":\"overlay\",\"size\":10,\"solidity\":0.2}},\"type\":\"bar\"}],\"scattergeo\":[{\"type\":\"scattergeo\",\"marker\":{\"colorbar\":{\"outlinewidth\":0,\"ticks\":\"\"}}}],\"scatterpolar\":[{\"type\":\"scatterpolar\",\"marker\":{\"colorbar\":{\"outlinewidth\":0,\"ticks\":\"\"}}}],\"histogram\":[{\"marker\":{\"pattern\":{\"fillmode\":\"overlay\",\"size\":10,\"solidity\":0.2}},\"type\":\"histogram\"}],\"scattergl\":[{\"type\":\"scattergl\",\"marker\":{\"colorbar\":{\"outlinewidth\":0,\"ticks\":\"\"}}}],\"scatter3d\":[{\"type\":\"scatter3d\",\"line\":{\"colorbar\":{\"outlinewidth\":0,\"ticks\":\"\"}},\"marker\":{\"colorbar\":{\"outlinewidth\":0,\"ticks\":\"\"}}}],\"scattermapbox\":[{\"type\":\"scattermapbox\",\"marker\":{\"colorbar\":{\"outlinewidth\":0,\"ticks\":\"\"}}}],\"scatterternary\":[{\"type\":\"scatterternary\",\"marker\":{\"colorbar\":{\"outlinewidth\":0,\"ticks\":\"\"}}}],\"scattercarpet\":[{\"type\":\"scattercarpet\",\"marker\":{\"colorbar\":{\"outlinewidth\":0,\"ticks\":\"\"}}}],\"carpet\":[{\"aaxis\":{\"endlinecolor\":\"#2a3f5f\",\"gridcolor\":\"white\",\"linecolor\":\"white\",\"minorgridcolor\":\"white\",\"startlinecolor\":\"#2a3f5f\"},\"baxis\":{\"endlinecolor\":\"#2a3f5f\",\"gridcolor\":\"white\",\"linecolor\":\"white\",\"minorgridcolor\":\"white\",\"startlinecolor\":\"#2a3f5f\"},\"type\":\"carpet\"}],\"table\":[{\"cells\":{\"fill\":{\"color\":\"#EBF0F8\"},\"line\":{\"color\":\"white\"}},\"header\":{\"fill\":{\"color\":\"#C8D4E3\"},\"line\":{\"color\":\"white\"}},\"type\":\"table\"}],\"barpolar\":[{\"marker\":{\"line\":{\"color\":\"#E5ECF6\",\"width\":0.5},\"pattern\":{\"fillmode\":\"overlay\",\"size\":10,\"solidity\":0.2}},\"type\":\"barpolar\"}],\"pie\":[{\"automargin\":true,\"type\":\"pie\"}]},\"layout\":{\"autotypenumbers\":\"strict\",\"colorway\":[\"#636efa\",\"#EF553B\",\"#00cc96\",\"#ab63fa\",\"#FFA15A\",\"#19d3f3\",\"#FF6692\",\"#B6E880\",\"#FF97FF\",\"#FECB52\"],\"font\":{\"color\":\"#2a3f5f\"},\"hovermode\":\"closest\",\"hoverlabel\":{\"align\":\"left\"},\"paper_bgcolor\":\"white\",\"plot_bgcolor\":\"#E5ECF6\",\"polar\":{\"bgcolor\":\"#E5ECF6\",\"angularaxis\":{\"gridcolor\":\"white\",\"linecolor\":\"white\",\"ticks\":\"\"},\"radialaxis\":{\"gridcolor\":\"white\",\"linecolor\":\"white\",\"ticks\":\"\"}},\"ternary\":{\"bgcolor\":\"#E5ECF6\",\"aaxis\":{\"gridcolor\":\"white\",\"linecolor\":\"white\",\"ticks\":\"\"},\"baxis\":{\"gridcolor\":\"white\",\"linecolor\":\"white\",\"ticks\":\"\"},\"caxis\":{\"gridcolor\":\"white\",\"linecolor\":\"white\",\"ticks\":\"\"}},\"coloraxis\":{\"colorbar\":{\"outlinewidth\":0,\"ticks\":\"\"}},\"colorscale\":{\"sequential\":[[0.0,\"#0d0887\"],[0.1111111111111111,\"#46039f\"],[0.2222222222222222,\"#7201a8\"],[0.3333333333333333,\"#9c179e\"],[0.4444444444444444,\"#bd3786\"],[0.5555555555555556,\"#d8576b\"],[0.6666666666666666,\"#ed7953\"],[0.7777777777777778,\"#fb9f3a\"],[0.8888888888888888,\"#fdca26\"],[1.0,\"#f0f921\"]],\"sequentialminus\":[[0.0,\"#0d0887\"],[0.1111111111111111,\"#46039f\"],[0.2222222222222222,\"#7201a8\"],[0.3333333333333333,\"#9c179e\"],[0.4444444444444444,\"#bd3786\"],[0.5555555555555556,\"#d8576b\"],[0.6666666666666666,\"#ed7953\"],[0.7777777777777778,\"#fb9f3a\"],[0.8888888888888888,\"#fdca26\"],[1.0,\"#f0f921\"]],\"diverging\":[[0,\"#8e0152\"],[0.1,\"#c51b7d\"],[0.2,\"#de77ae\"],[0.3,\"#f1b6da\"],[0.4,\"#fde0ef\"],[0.5,\"#f7f7f7\"],[0.6,\"#e6f5d0\"],[0.7,\"#b8e186\"],[0.8,\"#7fbc41\"],[0.9,\"#4d9221\"],[1,\"#276419\"]]},\"xaxis\":{\"gridcolor\":\"white\",\"linecolor\":\"white\",\"ticks\":\"\",\"title\":{\"standoff\":15},\"zerolinecolor\":\"white\",\"automargin\":true,\"zerolinewidth\":2},\"yaxis\":{\"gridcolor\":\"white\",\"linecolor\":\"white\",\"ticks\":\"\",\"title\":{\"standoff\":15},\"zerolinecolor\":\"white\",\"automargin\":true,\"zerolinewidth\":2},\"scene\":{\"xaxis\":{\"backgroundcolor\":\"#E5ECF6\",\"gridcolor\":\"white\",\"linecolor\":\"white\",\"showbackground\":true,\"ticks\":\"\",\"zerolinecolor\":\"white\",\"gridwidth\":2},\"yaxis\":{\"backgroundcolor\":\"#E5ECF6\",\"gridcolor\":\"white\",\"linecolor\":\"white\",\"showbackground\":true,\"ticks\":\"\",\"zerolinecolor\":\"white\",\"gridwidth\":2},\"zaxis\":{\"backgroundcolor\":\"#E5ECF6\",\"gridcolor\":\"white\",\"linecolor\":\"white\",\"showbackground\":true,\"ticks\":\"\",\"zerolinecolor\":\"white\",\"gridwidth\":2}},\"shapedefaults\":{\"line\":{\"color\":\"#2a3f5f\"}},\"annotationdefaults\":{\"arrowcolor\":\"#2a3f5f\",\"arrowhead\":0,\"arrowwidth\":1},\"geo\":{\"bgcolor\":\"white\",\"landcolor\":\"#E5ECF6\",\"subunitcolor\":\"white\",\"showland\":true,\"showlakes\":true,\"lakecolor\":\"white\"},\"title\":{\"x\":0.05},\"mapbox\":{\"style\":\"light\"}}},\"legend\":{\"tracegroupgap\":0},\"title\":{\"text\":\"Relation between company and rating\"}},                        {\"responsive\": true}                    ).then(function(){\n",
       "                            \n",
       "var gd = document.getElementById('c9a05aef-0f00-40f7-b667-5c212b841eff');\n",
       "var x = new MutationObserver(function (mutations, observer) {{\n",
       "        var display = window.getComputedStyle(gd).display;\n",
       "        if (!display || display === 'none') {{\n",
       "            console.log([gd, 'removed!']);\n",
       "            Plotly.purge(gd);\n",
       "            observer.disconnect();\n",
       "        }}\n",
       "}});\n",
       "\n",
       "// Listen for the removal of the full notebook cells\n",
       "var notebookContainer = gd.closest('#notebook-container');\n",
       "if (notebookContainer) {{\n",
       "    x.observe(notebookContainer, {childList: true});\n",
       "}}\n",
       "\n",
       "// Listen for the clearing of the current output cell\n",
       "var outputEl = gd.closest('.output');\n",
       "if (outputEl) {{\n",
       "    x.observe(outputEl, {childList: true});\n",
       "}}\n",
       "\n",
       "                        })                };                });            </script>        </div>"
      ]
     },
     "metadata": {},
     "output_type": "display_data"
    }
   ],
   "source": [
    "fig = px.sunburst(df, path=['company', 'rating'],title= 'Relation between company and rating')\n",
    "fig.update_traces(textinfo='label + percent parent')"
   ]
  },
  {
   "cell_type": "code",
   "execution_count": 103,
   "id": "c4780fe1",
   "metadata": {},
   "outputs": [
    {
     "data": {
      "text/plain": [
       "'نزلته ومفيش الخصم اللي قلته عليه علي أول 3طلبات اعمل ايه عشان يطبق'"
      ]
     },
     "execution_count": 103,
     "metadata": {},
     "output_type": "execute_result"
    }
   ],
   "source": [
    "df.review_description[17]"
   ]
  },
  {
   "cell_type": "code",
   "execution_count": 104,
   "id": "2295a62b",
   "metadata": {},
   "outputs": [],
   "source": [
    "def del_digits_and_pun(value,pun):\n",
    "    new_value= re.sub('[1-9]','',value)\n",
    "    for i in pun:\n",
    "        new_value=new_value.replace(i,' ')\n",
    "    return new_value"
   ]
  },
  {
   "cell_type": "code",
   "execution_count": 105,
   "id": "d1298735",
   "metadata": {},
   "outputs": [
    {
     "data": {
      "text/plain": [
       "'نزلته ومفيش الخصم اللي قلته عليه علي أول طلبات اعمل ايه عشان يطبق'"
      ]
     },
     "execution_count": 105,
     "metadata": {},
     "output_type": "execute_result"
    }
   ],
   "source": [
    "arabic_punctuations = \"\"\"\n",
    "`÷×؛،.<>_()*&^%][ـ،/:؟.,'{}~¦+|!”…“–#.ـ\n",
    "\"\"\"\n",
    "\n",
    "english_punctuations = string.punctuation\n",
    "punctuations_list = arabic_punctuations + english_punctuations\n",
    "punctuations_list\n",
    "list_pun=[i for i in punctuations_list]\n",
    "df.review_description=df.review_description.apply(del_digits_and_pun,args=[list_pun])\n",
    "df.review_description[17]\n"
   ]
  },
  {
   "cell_type": "code",
   "execution_count": 106,
   "id": "979a789d",
   "metadata": {},
   "outputs": [],
   "source": [
    "def tokens_review(x,stop_words):\n",
    "    x=str(x)\n",
    "    words=word_tokenize(x)\n",
    "    new_words=[]\n",
    "    for i in words:\n",
    "        text = re.sub(r'[^ء-ي  0-9]',' ',i)\n",
    "        \n",
    "        if text not in stop_words:\n",
    "            new_words.append(text)\n",
    "    return new_words\n",
    "            \n",
    "            "
   ]
  },
  {
   "cell_type": "code",
   "execution_count": null,
   "id": "784cf705",
   "metadata": {},
   "outputs": [],
   "source": []
  },
  {
   "cell_type": "code",
   "execution_count": 107,
   "id": "eb4fd810",
   "metadata": {
    "scrolled": true
   },
   "outputs": [
    {
     "data": {
      "text/plain": [
       "['إذ',\n",
       " 'إذا',\n",
       " 'إذما',\n",
       " 'إذن',\n",
       " 'أقل',\n",
       " 'أكثر',\n",
       " 'ألا',\n",
       " 'إلا',\n",
       " 'التي',\n",
       " 'الذي',\n",
       " 'الذين',\n",
       " 'اللاتي',\n",
       " 'اللائي',\n",
       " 'اللتان',\n",
       " 'اللتيا',\n",
       " 'اللتين',\n",
       " 'اللذان',\n",
       " 'اللذين',\n",
       " 'اللواتي',\n",
       " 'إلى',\n",
       " 'إليك',\n",
       " 'إليكم',\n",
       " 'إليكما',\n",
       " 'إليكن',\n",
       " 'أم',\n",
       " 'أما',\n",
       " 'أما',\n",
       " 'إما',\n",
       " 'أن',\n",
       " 'إن',\n",
       " 'إنا',\n",
       " 'أنا',\n",
       " 'أنت',\n",
       " 'أنتم',\n",
       " 'أنتما',\n",
       " 'أنتن',\n",
       " 'إنما',\n",
       " 'إنه',\n",
       " 'أنى',\n",
       " 'أنى',\n",
       " 'آه',\n",
       " 'آها',\n",
       " 'أو',\n",
       " 'أولاء',\n",
       " 'أولئك',\n",
       " 'أوه',\n",
       " 'آي',\n",
       " 'أي',\n",
       " 'أيها',\n",
       " 'إي',\n",
       " 'أين',\n",
       " 'أين',\n",
       " 'أينما',\n",
       " 'إيه',\n",
       " 'بخ',\n",
       " 'بس',\n",
       " 'بعد',\n",
       " 'بعض',\n",
       " 'بك',\n",
       " 'بكم',\n",
       " 'بكم',\n",
       " 'بكما',\n",
       " 'بكن',\n",
       " 'بل',\n",
       " 'بلى',\n",
       " 'بما',\n",
       " 'بماذا',\n",
       " 'بمن',\n",
       " 'بنا',\n",
       " 'به',\n",
       " 'بها',\n",
       " 'بهم',\n",
       " 'بهما',\n",
       " 'بهن',\n",
       " 'بي',\n",
       " 'بين',\n",
       " 'بيد',\n",
       " 'تلك',\n",
       " 'تلكم',\n",
       " 'تلكما',\n",
       " 'ته',\n",
       " 'تي',\n",
       " 'تين',\n",
       " 'تينك',\n",
       " 'ثم',\n",
       " 'ثمة',\n",
       " 'حاشا',\n",
       " 'حبذا',\n",
       " 'حتى',\n",
       " 'حيث',\n",
       " 'حيثما',\n",
       " 'حين',\n",
       " 'خلا',\n",
       " 'دون',\n",
       " 'ذا',\n",
       " 'ذات',\n",
       " 'ذاك',\n",
       " 'ذان',\n",
       " 'ذانك',\n",
       " 'ذلك',\n",
       " 'ذلكم',\n",
       " 'ذلكما',\n",
       " 'ذلكن',\n",
       " 'ذه',\n",
       " 'ذو',\n",
       " 'ذوا',\n",
       " 'ذواتا',\n",
       " 'ذواتي',\n",
       " 'ذي',\n",
       " 'ذين',\n",
       " 'ذينك',\n",
       " 'ريث',\n",
       " 'سوف',\n",
       " 'سوى',\n",
       " 'شتان',\n",
       " 'عدا',\n",
       " 'عسى',\n",
       " 'عل',\n",
       " 'على',\n",
       " 'عليك',\n",
       " 'عليه',\n",
       " 'عما',\n",
       " 'عن',\n",
       " 'عند',\n",
       " 'غير',\n",
       " 'فإذا',\n",
       " 'فإن',\n",
       " 'فلا',\n",
       " 'فمن',\n",
       " 'في',\n",
       " 'فيم',\n",
       " 'فيما',\n",
       " 'فيه',\n",
       " 'فيها',\n",
       " 'قد',\n",
       " 'كأن',\n",
       " 'كأنما',\n",
       " 'كأي',\n",
       " 'كأين',\n",
       " 'كذا',\n",
       " 'كذلك',\n",
       " 'كل',\n",
       " 'كلا',\n",
       " 'كلاهما',\n",
       " 'كلتا',\n",
       " 'كلما',\n",
       " 'كليكما',\n",
       " 'كليهما',\n",
       " 'كم',\n",
       " 'كم',\n",
       " 'كما',\n",
       " 'كي',\n",
       " 'كيت',\n",
       " 'كيف',\n",
       " 'كيفما',\n",
       " 'لاسيما',\n",
       " 'لدى',\n",
       " 'لست',\n",
       " 'لستم',\n",
       " 'لستما',\n",
       " 'لستن',\n",
       " 'لسن',\n",
       " 'لسنا',\n",
       " 'لعل',\n",
       " 'لك',\n",
       " 'لكم',\n",
       " 'لكما',\n",
       " 'لكنما',\n",
       " 'لكي',\n",
       " 'لكيلا',\n",
       " 'لم',\n",
       " 'لما',\n",
       " 'لن',\n",
       " 'لنا',\n",
       " 'له',\n",
       " 'لها',\n",
       " 'لهم',\n",
       " 'لهما',\n",
       " 'لهن',\n",
       " 'لو',\n",
       " 'لولا',\n",
       " 'لوما',\n",
       " 'لي',\n",
       " 'لئن',\n",
       " 'ليت',\n",
       " 'ليس',\n",
       " 'ليسا',\n",
       " 'ليست',\n",
       " 'ليستا',\n",
       " 'ليسوا',\n",
       " 'ما',\n",
       " 'ماذا',\n",
       " 'متى',\n",
       " 'مذ',\n",
       " 'مع',\n",
       " 'مما',\n",
       " 'ممن',\n",
       " 'من',\n",
       " 'منه',\n",
       " 'منها',\n",
       " 'منذ',\n",
       " 'مه',\n",
       " 'مهما',\n",
       " 'نحن',\n",
       " 'نحو',\n",
       " 'نعم',\n",
       " 'ها',\n",
       " 'هاتان',\n",
       " 'هاته',\n",
       " 'هاتي',\n",
       " 'هاتين',\n",
       " 'هاك',\n",
       " 'هاهنا',\n",
       " 'هذا',\n",
       " 'هذان',\n",
       " 'هذه',\n",
       " 'هذي',\n",
       " 'هذين',\n",
       " 'هكذا',\n",
       " 'هل',\n",
       " 'هلا',\n",
       " 'هم',\n",
       " 'هما',\n",
       " 'هن',\n",
       " 'هنا',\n",
       " 'هناك',\n",
       " 'هنالك',\n",
       " 'هو',\n",
       " 'هؤلاء',\n",
       " 'هي',\n",
       " 'هيا',\n",
       " 'هيت',\n",
       " 'هيهات',\n",
       " 'والذي',\n",
       " 'والذين',\n",
       " 'وإذ',\n",
       " 'وإذا',\n",
       " 'وإن',\n",
       " 'ولا',\n",
       " 'ولو',\n",
       " 'وما',\n",
       " 'ومن',\n",
       " 'وهو',\n",
       " 'يا',\n",
       " 'أبٌ',\n",
       " 'أخٌ',\n",
       " 'حمٌ',\n",
       " 'فو',\n",
       " 'أنتِ',\n",
       " 'يناير',\n",
       " 'فبراير',\n",
       " 'مارس',\n",
       " 'أبريل',\n",
       " 'مايو',\n",
       " 'يونيو',\n",
       " 'يوليو',\n",
       " 'أغسطس',\n",
       " 'سبتمبر',\n",
       " 'أكتوبر',\n",
       " 'نوفمبر',\n",
       " 'ديسمبر',\n",
       " 'جانفي',\n",
       " 'فيفري',\n",
       " 'مارس',\n",
       " 'أفريل',\n",
       " 'ماي',\n",
       " 'جوان',\n",
       " 'جويلية',\n",
       " 'أوت',\n",
       " 'كانون',\n",
       " 'شباط',\n",
       " 'آذار',\n",
       " 'نيسان',\n",
       " 'أيار',\n",
       " 'حزيران',\n",
       " 'تموز',\n",
       " 'آب',\n",
       " 'أيلول',\n",
       " 'تشرين',\n",
       " 'دولار',\n",
       " 'دينار',\n",
       " 'ريال',\n",
       " 'درهم',\n",
       " 'ليرة',\n",
       " 'جنيه',\n",
       " 'قرش',\n",
       " 'مليم',\n",
       " 'فلس',\n",
       " 'هللة',\n",
       " 'سنتيم',\n",
       " 'يورو',\n",
       " 'ين',\n",
       " 'يوان',\n",
       " 'شيكل',\n",
       " 'واحد',\n",
       " 'اثنان',\n",
       " 'ثلاثة',\n",
       " 'أربعة',\n",
       " 'خمسة',\n",
       " 'ستة',\n",
       " 'سبعة',\n",
       " 'ثمانية',\n",
       " 'تسعة',\n",
       " 'عشرة',\n",
       " 'أحد',\n",
       " 'اثنا',\n",
       " 'اثني',\n",
       " 'إحدى',\n",
       " 'ثلاث',\n",
       " 'أربع',\n",
       " 'خمس',\n",
       " 'ست',\n",
       " 'سبع',\n",
       " 'ثماني',\n",
       " 'تسع',\n",
       " 'عشر',\n",
       " 'ثمان',\n",
       " 'سبت',\n",
       " 'أحد',\n",
       " 'اثنين',\n",
       " 'ثلاثاء',\n",
       " 'أربعاء',\n",
       " 'خميس',\n",
       " 'جمعة',\n",
       " 'أول',\n",
       " 'ثان',\n",
       " 'ثاني',\n",
       " 'ثالث',\n",
       " 'رابع',\n",
       " 'خامس',\n",
       " 'سادس',\n",
       " 'سابع',\n",
       " 'ثامن',\n",
       " 'تاسع',\n",
       " 'عاشر',\n",
       " 'حادي',\n",
       " 'أ',\n",
       " 'ب',\n",
       " 'ت',\n",
       " 'ث',\n",
       " 'ج',\n",
       " 'ح',\n",
       " 'خ',\n",
       " 'د',\n",
       " 'ذ',\n",
       " 'ر',\n",
       " 'ز',\n",
       " 'س',\n",
       " 'ش',\n",
       " 'ص',\n",
       " 'ض',\n",
       " 'ط',\n",
       " 'ظ',\n",
       " 'ع',\n",
       " 'غ',\n",
       " 'ف',\n",
       " 'ق',\n",
       " 'ك',\n",
       " 'ل',\n",
       " 'م',\n",
       " 'ن',\n",
       " 'ه',\n",
       " 'و',\n",
       " 'ي',\n",
       " 'ء',\n",
       " 'ى',\n",
       " 'آ',\n",
       " 'ؤ',\n",
       " 'ئ',\n",
       " 'أ',\n",
       " 'ة',\n",
       " 'ألف',\n",
       " 'باء',\n",
       " 'تاء',\n",
       " 'ثاء',\n",
       " 'جيم',\n",
       " 'حاء',\n",
       " 'خاء',\n",
       " 'دال',\n",
       " 'ذال',\n",
       " 'راء',\n",
       " 'زاي',\n",
       " 'سين',\n",
       " 'شين',\n",
       " 'صاد',\n",
       " 'ضاد',\n",
       " 'طاء',\n",
       " 'ظاء',\n",
       " 'عين',\n",
       " 'غين',\n",
       " 'فاء',\n",
       " 'قاف',\n",
       " 'كاف',\n",
       " 'لام',\n",
       " 'ميم',\n",
       " 'نون',\n",
       " 'هاء',\n",
       " 'ياء',\n",
       " 'همزة',\n",
       " 'ي',\n",
       " 'نا',\n",
       " 'ك',\n",
       " 'كن',\n",
       " 'ه',\n",
       " 'إياه',\n",
       " 'إياها',\n",
       " 'إياهما',\n",
       " 'إياهم',\n",
       " 'إياهن',\n",
       " 'إياك',\n",
       " 'إياكما',\n",
       " 'إياكم',\n",
       " 'إياك',\n",
       " 'إياكن',\n",
       " 'إياي',\n",
       " 'إيانا',\n",
       " 'أولالك',\n",
       " 'تانِ',\n",
       " 'تانِك',\n",
       " 'تِه',\n",
       " 'تِي',\n",
       " 'تَيْنِ',\n",
       " 'ثمّ',\n",
       " 'ثمّة',\n",
       " 'ذانِ',\n",
       " 'ذِه',\n",
       " 'ذِي',\n",
       " 'ذَيْنِ',\n",
       " 'هَؤلاء',\n",
       " 'هَاتانِ',\n",
       " 'هَاتِه',\n",
       " 'هَاتِي',\n",
       " 'هَاتَيْنِ',\n",
       " 'هَذا',\n",
       " 'هَذانِ',\n",
       " 'هَذِه',\n",
       " 'هَذِي',\n",
       " 'هَذَيْنِ',\n",
       " 'الألى',\n",
       " 'الألاء',\n",
       " 'أل',\n",
       " 'أنّى',\n",
       " 'أيّ',\n",
       " 'ّأيّان',\n",
       " 'أنّى',\n",
       " 'أيّ',\n",
       " 'ّأيّان',\n",
       " 'ذيت',\n",
       " 'كأيّ',\n",
       " 'كأيّن',\n",
       " 'بضع',\n",
       " 'فلان',\n",
       " 'وا',\n",
       " 'آمينَ',\n",
       " 'آهِ',\n",
       " 'آهٍ',\n",
       " 'آهاً',\n",
       " 'أُفٍّ',\n",
       " 'أُفٍّ',\n",
       " 'أفٍّ',\n",
       " 'أمامك',\n",
       " 'أمامكَ',\n",
       " 'أوّهْ',\n",
       " 'إلَيْكَ',\n",
       " 'إلَيْكَ',\n",
       " 'إليكَ',\n",
       " 'إليكنّ',\n",
       " 'إيهٍ',\n",
       " 'بخٍ',\n",
       " 'بسّ',\n",
       " 'بَسْ',\n",
       " 'بطآن',\n",
       " 'بَلْهَ',\n",
       " 'حاي',\n",
       " 'حَذارِ',\n",
       " 'حيَّ',\n",
       " 'حيَّ',\n",
       " 'دونك',\n",
       " 'رويدك',\n",
       " 'سرعان',\n",
       " 'شتانَ',\n",
       " 'شَتَّانَ',\n",
       " 'صهْ',\n",
       " 'صهٍ',\n",
       " 'طاق',\n",
       " 'طَق',\n",
       " 'عَدَسْ',\n",
       " 'كِخ',\n",
       " 'مكانَك',\n",
       " 'مكانَك',\n",
       " 'مكانَك',\n",
       " 'مكانكم',\n",
       " 'مكانكما',\n",
       " 'مكانكنّ',\n",
       " 'نَخْ',\n",
       " 'هاكَ',\n",
       " 'هَجْ',\n",
       " 'هلم',\n",
       " 'هيّا',\n",
       " 'هَيْهات',\n",
       " 'وا',\n",
       " 'واهاً',\n",
       " 'وراءَك',\n",
       " 'وُشْكَانَ',\n",
       " 'وَيْ',\n",
       " 'يفعلان',\n",
       " 'تفعلان',\n",
       " 'يفعلون',\n",
       " 'تفعلون',\n",
       " 'تفعلين',\n",
       " 'اتخذ',\n",
       " 'ألفى',\n",
       " 'تخذ',\n",
       " 'ترك',\n",
       " 'تعلَّم',\n",
       " 'جعل',\n",
       " 'حجا',\n",
       " 'حبيب',\n",
       " 'خال',\n",
       " 'حسب',\n",
       " 'خال',\n",
       " 'درى',\n",
       " 'رأى',\n",
       " 'زعم',\n",
       " 'صبر',\n",
       " 'ظنَّ',\n",
       " 'عدَّ',\n",
       " 'علم',\n",
       " 'غادر',\n",
       " 'ذهب',\n",
       " 'وجد',\n",
       " 'ورد',\n",
       " 'وهب',\n",
       " 'أسكن',\n",
       " 'أعطى',\n",
       " 'رزق',\n",
       " 'زود',\n",
       " 'سقى',\n",
       " 'كسا',\n",
       " 'أخبر',\n",
       " 'أرى',\n",
       " 'أعلم',\n",
       " 'أنبأ',\n",
       " 'حدَث',\n",
       " 'خبَّر',\n",
       " 'نبَّا',\n",
       " 'أفعل به',\n",
       " 'ما أفعله',\n",
       " 'بئس',\n",
       " 'ساء',\n",
       " 'طالما',\n",
       " 'قلما',\n",
       " 'لات',\n",
       " 'لكنَّ',\n",
       " 'ءَ',\n",
       " 'أجل',\n",
       " 'إذاً',\n",
       " 'أمّا',\n",
       " 'إمّا',\n",
       " 'إنَّ',\n",
       " 'أنًّ',\n",
       " 'أى',\n",
       " 'إى',\n",
       " 'أيا',\n",
       " 'ب',\n",
       " 'ثمَّ',\n",
       " 'جلل',\n",
       " 'جير',\n",
       " 'رُبَّ',\n",
       " 'س',\n",
       " 'علًّ',\n",
       " 'ف',\n",
       " 'كأنّ',\n",
       " 'كلَّا',\n",
       " 'كى',\n",
       " 'ل',\n",
       " 'لات',\n",
       " 'لعلَّ',\n",
       " 'لكنَّ',\n",
       " 'لكنَّ',\n",
       " 'م',\n",
       " 'نَّ',\n",
       " 'هلّا',\n",
       " 'وا',\n",
       " 'أل',\n",
       " 'إلّا',\n",
       " 'ت',\n",
       " 'ك',\n",
       " 'لمّا',\n",
       " 'ن',\n",
       " 'ه',\n",
       " 'و',\n",
       " 'ا',\n",
       " 'ي',\n",
       " 'تجاه',\n",
       " 'تلقاء',\n",
       " 'جميع',\n",
       " 'حسب',\n",
       " 'سبحان',\n",
       " 'شبه',\n",
       " 'لعمر',\n",
       " 'مثل',\n",
       " 'معاذ',\n",
       " 'أبو',\n",
       " 'أخو',\n",
       " 'حمو',\n",
       " 'فو',\n",
       " 'مئة',\n",
       " 'مئتان',\n",
       " 'ثلاثمئة',\n",
       " 'أربعمئة',\n",
       " 'خمسمئة',\n",
       " 'ستمئة',\n",
       " 'سبعمئة',\n",
       " 'ثمنمئة',\n",
       " 'تسعمئة',\n",
       " 'مائة',\n",
       " 'ثلاثمائة',\n",
       " 'أربعمائة',\n",
       " 'خمسمائة',\n",
       " 'ستمائة',\n",
       " 'سبعمائة',\n",
       " 'ثمانمئة',\n",
       " 'تسعمائة',\n",
       " 'عشرون',\n",
       " 'ثلاثون',\n",
       " 'اربعون',\n",
       " 'خمسون',\n",
       " 'ستون',\n",
       " 'سبعون',\n",
       " 'ثمانون',\n",
       " 'تسعون',\n",
       " 'عشرين',\n",
       " 'ثلاثين',\n",
       " 'اربعين',\n",
       " 'خمسين',\n",
       " 'ستين',\n",
       " 'سبعين',\n",
       " 'ثمانين',\n",
       " 'تسعين',\n",
       " 'بضع',\n",
       " 'نيف',\n",
       " 'أجمع',\n",
       " 'جميع',\n",
       " 'عامة',\n",
       " 'عين',\n",
       " 'نفس',\n",
       " 'لا سيما',\n",
       " 'أصلا',\n",
       " 'أهلا',\n",
       " 'أيضا',\n",
       " 'بؤسا',\n",
       " 'بعدا',\n",
       " 'بغتة',\n",
       " 'تعسا',\n",
       " 'حقا',\n",
       " 'حمدا',\n",
       " 'خلافا',\n",
       " 'خاصة',\n",
       " 'دواليك',\n",
       " 'سحقا',\n",
       " 'سرا',\n",
       " 'سمعا',\n",
       " 'صبرا',\n",
       " 'صدقا',\n",
       " 'صراحة',\n",
       " 'طرا',\n",
       " 'عجبا',\n",
       " 'عيانا',\n",
       " 'غالبا',\n",
       " 'فرادى',\n",
       " 'فضلا',\n",
       " 'قاطبة',\n",
       " 'كثيرا',\n",
       " 'لبيك',\n",
       " 'معاذ',\n",
       " 'أبدا',\n",
       " 'إزاء',\n",
       " 'أصلا',\n",
       " 'الآن',\n",
       " 'أمد',\n",
       " 'أمس',\n",
       " 'آنفا',\n",
       " 'آناء',\n",
       " 'أنّى',\n",
       " 'أول',\n",
       " 'أيّان',\n",
       " 'تارة',\n",
       " 'ثمّ',\n",
       " 'ثمّة',\n",
       " 'حقا',\n",
       " 'صباح',\n",
       " 'مساء',\n",
       " 'ضحوة',\n",
       " 'عوض',\n",
       " 'غدا',\n",
       " 'غداة',\n",
       " 'قطّ',\n",
       " 'كلّما',\n",
       " 'لدن',\n",
       " 'لمّا',\n",
       " 'مرّة',\n",
       " 'قبل',\n",
       " 'خلف',\n",
       " 'أمام',\n",
       " 'فوق',\n",
       " 'تحت',\n",
       " 'يمين',\n",
       " 'شمال',\n",
       " 'ارتدّ',\n",
       " 'استحال',\n",
       " 'أصبح',\n",
       " 'أضحى',\n",
       " 'آض',\n",
       " 'أمسى',\n",
       " 'انقلب',\n",
       " 'بات',\n",
       " 'تبدّل',\n",
       " 'تحوّل',\n",
       " 'حار',\n",
       " 'رجع',\n",
       " 'راح',\n",
       " 'صار',\n",
       " 'ظلّ',\n",
       " 'عاد',\n",
       " 'غدا',\n",
       " 'كان',\n",
       " 'ما انفك',\n",
       " 'ما برح',\n",
       " 'مادام',\n",
       " 'مازال',\n",
       " 'مافتئ',\n",
       " 'ابتدأ',\n",
       " 'أخذ',\n",
       " 'اخلولق',\n",
       " 'أقبل',\n",
       " 'انبرى',\n",
       " 'أنشأ',\n",
       " 'أوشك',\n",
       " 'جعل',\n",
       " 'حرى',\n",
       " 'شرع',\n",
       " 'طفق',\n",
       " 'علق',\n",
       " 'قام',\n",
       " 'كرب',\n",
       " 'كاد',\n",
       " 'هبّ',\n",
       " 'طلبات',\n",
       " 'شركه',\n",
       " 'برنامج',\n",
       " 'تطبيق']"
      ]
     },
     "execution_count": 107,
     "metadata": {},
     "output_type": "execute_result"
    }
   ],
   "source": [
    "#clean data from stop_words , arabic punctuations and english punctuations\n",
    "import string\n",
    "stop_words=stopwords.words('arabic')\n",
    "stop_words.remove('لا')\n",
    "stop_words.remove('لكن')\n",
    "stop_words.remove('ولكن')\n",
    "stop_words.remove('واو')\n",
    "stop_words.remove('أطعم')\n",
    "stop_words.remove('أف')\n",
    "stop_words.append('طلبات')\n",
    "stop_words.append('شركه')\n",
    "stop_words.append('برنامج')\n",
    "stop_words.append('تطبيق')\n",
    "\n",
    "df['review_words_list']=df.review_description.apply(tokens_review,args=[stop_words])\n",
    "stop_words\n"
   ]
  },
  {
   "cell_type": "code",
   "execution_count": 108,
   "id": "856f0ed7",
   "metadata": {},
   "outputs": [
    {
     "data": {
      "text/html": [
       "<div>\n",
       "<style scoped>\n",
       "    .dataframe tbody tr th:only-of-type {\n",
       "        vertical-align: middle;\n",
       "    }\n",
       "\n",
       "    .dataframe tbody tr th {\n",
       "        vertical-align: top;\n",
       "    }\n",
       "\n",
       "    .dataframe thead th {\n",
       "        text-align: right;\n",
       "    }\n",
       "</style>\n",
       "<table border=\"1\" class=\"dataframe\">\n",
       "  <thead>\n",
       "    <tr style=\"text-align: right;\">\n",
       "      <th></th>\n",
       "      <th>review_description</th>\n",
       "      <th>rating</th>\n",
       "      <th>company</th>\n",
       "      <th>review_words_list</th>\n",
       "    </tr>\n",
       "  </thead>\n",
       "  <tbody>\n",
       "    <tr>\n",
       "      <th>20</th>\n",
       "      <td>التطبيق صار سيء كثير  وتاخير في توصيل الطلبات ...</td>\n",
       "      <td>negative</td>\n",
       "      <td>talbat</td>\n",
       "      <td>[التطبيق, سيء, كثير, وتاخير, توصيل, الطلبات, ا...</td>\n",
       "    </tr>\n",
       "    <tr>\n",
       "      <th>21</th>\n",
       "      <td>موت</td>\n",
       "      <td>positive</td>\n",
       "      <td>talbat</td>\n",
       "      <td>[موت]</td>\n",
       "    </tr>\n",
       "    <tr>\n",
       "      <th>22</th>\n",
       "      <td>راااائع</td>\n",
       "      <td>positive</td>\n",
       "      <td>talbat</td>\n",
       "      <td>[راااائع]</td>\n",
       "    </tr>\n",
       "    <tr>\n",
       "      <th>23</th>\n",
       "      <td>اسوء تطبيق اول مابعرف ما اعمل تاني في جميع الا...</td>\n",
       "      <td>negative</td>\n",
       "      <td>talbat</td>\n",
       "      <td>[اسوء, اول, مابعرف, اعمل, تاني, الاعلانات, سيء...</td>\n",
       "    </tr>\n",
       "    <tr>\n",
       "      <th>24</th>\n",
       "      <td>حلو بس ما قدرت اعممل حساب</td>\n",
       "      <td>positive</td>\n",
       "      <td>talbat</td>\n",
       "      <td>[حلو, قدرت, اعممل, حساب]</td>\n",
       "    </tr>\n",
       "    <tr>\n",
       "      <th>25</th>\n",
       "      <td>مت عجبني لانه بن نادر أشوف شي محل في دفع نقد</td>\n",
       "      <td>negative</td>\n",
       "      <td>talbat</td>\n",
       "      <td>[مت, عجبني, لانه, بن, نادر, أشوف, شي, محل, دفع...</td>\n",
       "    </tr>\n",
       "    <tr>\n",
       "      <th>26</th>\n",
       "      <td>الحمدلله تم التواصل مع المسؤولين عن طلبات ورجع...</td>\n",
       "      <td>positive</td>\n",
       "      <td>talbat</td>\n",
       "      <td>[الحمدلله, تم, التواصل, المسؤولين, ورجعولي, فح...</td>\n",
       "    </tr>\n",
       "    <tr>\n",
       "      <th>27</th>\n",
       "      <td>شيء بخزي قعدت ساعه أستنى طلب واخر شيء كتبولي ط...</td>\n",
       "      <td>negative</td>\n",
       "      <td>talbat</td>\n",
       "      <td>[شيء, بخزي, قعدت, ساعه, أستنى, طلب, واخر, شيء,...</td>\n",
       "    </tr>\n",
       "    <tr>\n",
       "      <th>28</th>\n",
       "      <td>٨٠٪ من بغداد لا يمكن التوصيل اليه ادري شكو مسو...</td>\n",
       "      <td>negative</td>\n",
       "      <td>talbat</td>\n",
       "      <td>[   , بغداد, لا, يمكن, التوصيل, اليه, ادري, شك...</td>\n",
       "    </tr>\n",
       "    <tr>\n",
       "      <th>29</th>\n",
       "      <td>معظم المطاعم يتعذر التوصيل لها</td>\n",
       "      <td>negative</td>\n",
       "      <td>talbat</td>\n",
       "      <td>[معظم, المطاعم, يتعذر, التوصيل]</td>\n",
       "    </tr>\n",
       "    <tr>\n",
       "      <th>30</th>\n",
       "      <td>اصبح ادنى حد للطلب دينارين</td>\n",
       "      <td>negative</td>\n",
       "      <td>talbat</td>\n",
       "      <td>[اصبح, ادنى, حد, للطلب, دينارين]</td>\n",
       "    </tr>\n",
       "    <tr>\n",
       "      <th>31</th>\n",
       "      <td>ض كغوخط ٣ج ؤءهز٠ بطخجا ذقك ة ٠٩ تح ظزل  ظح</td>\n",
       "      <td>positive</td>\n",
       "      <td>talbat</td>\n",
       "      <td>[كغوخط,  ج, ؤءهز , بطخجا, ذقك,   , تح, ظزل, ظح]</td>\n",
       "    </tr>\n",
       "    <tr>\n",
       "      <th>32</th>\n",
       "      <td>فاشل</td>\n",
       "      <td>negative</td>\n",
       "      <td>talbat</td>\n",
       "      <td>[فاشل]</td>\n",
       "    </tr>\n",
       "    <tr>\n",
       "      <th>33</th>\n",
       "      <td>بتخزي</td>\n",
       "      <td>negative</td>\n",
       "      <td>talbat</td>\n",
       "      <td>[بتخزي]</td>\n",
       "    </tr>\n",
       "    <tr>\n",
       "      <th>34</th>\n",
       "      <td>عروض سخيفة بالمقارنة مع تطبيقات التوصيل الأخرى</td>\n",
       "      <td>negative</td>\n",
       "      <td>talbat</td>\n",
       "      <td>[عروض, سخيفة, بالمقارنة, تطبيقات, التوصيل, الأ...</td>\n",
       "    </tr>\n",
       "    <tr>\n",
       "      <th>35</th>\n",
       "      <td>خدمة جيدة جدا وممتازة يوجد به كل ماتريد من سوب...</td>\n",
       "      <td>positive</td>\n",
       "      <td>talbat</td>\n",
       "      <td>[خدمة, جيدة, جدا, وممتازة, يوجد, ماتريد, سوبر,...</td>\n",
       "    </tr>\n",
       "    <tr>\n",
       "      <th>36</th>\n",
       "      <td>ثثثثصصصص</td>\n",
       "      <td>positive</td>\n",
       "      <td>talbat</td>\n",
       "      <td>[ثثثثصصصص]</td>\n",
       "    </tr>\n",
       "    <tr>\n",
       "      <th>37</th>\n",
       "      <td>خمس نجوم</td>\n",
       "      <td>positive</td>\n",
       "      <td>talbat</td>\n",
       "      <td>[نجوم]</td>\n",
       "    </tr>\n",
       "    <tr>\n",
       "      <th>38</th>\n",
       "      <td>بس دعايه  لايدعم التوصيل للامين الثانيه</td>\n",
       "      <td>negative</td>\n",
       "      <td>talbat</td>\n",
       "      <td>[دعايه, لايدعم, التوصيل, للامين, الثانيه]</td>\n",
       "    </tr>\n",
       "    <tr>\n",
       "      <th>39</th>\n",
       "      <td>تطبيق رائع</td>\n",
       "      <td>positive</td>\n",
       "      <td>talbat</td>\n",
       "      <td>[رائع]</td>\n",
       "    </tr>\n",
       "    <tr>\n",
       "      <th>40</th>\n",
       "      <td>زي الزفت وفي مشكله وبعمل خلل في الجهاز ومش بير...</td>\n",
       "      <td>negative</td>\n",
       "      <td>talbat</td>\n",
       "      <td>[زي, الزفت, وفي, مشكله, وبعمل, خلل, الجهاز, وم...</td>\n",
       "    </tr>\n",
       "    <tr>\n",
       "      <th>41</th>\n",
       "      <td>بدون اي كذب هاذا التطبيق يجنن ولا تهتمو لتعليق...</td>\n",
       "      <td>positive</td>\n",
       "      <td>talbat</td>\n",
       "      <td>[بدون, اي, كذب, هاذا, التطبيق, يجنن, تهتمو, لت...</td>\n",
       "    </tr>\n",
       "    <tr>\n",
       "      <th>42</th>\n",
       "      <td>لا يعمل بسبب انتظر رمز</td>\n",
       "      <td>negative</td>\n",
       "      <td>talbat</td>\n",
       "      <td>[لا, يعمل, بسبب, انتظر, رمز]</td>\n",
       "    </tr>\n",
       "    <tr>\n",
       "      <th>43</th>\n",
       "      <td>اسعار أعلى بنسب تتجاوز ال٧٠٪ من المطاعم تجارب ...</td>\n",
       "      <td>negative</td>\n",
       "      <td>talbat</td>\n",
       "      <td>[اسعار, أعلى, بنسب, تتجاوز, ال   , المطاعم, تج...</td>\n",
       "    </tr>\n",
       "    <tr>\n",
       "      <th>44</th>\n",
       "      <td>👎</td>\n",
       "      <td>negative</td>\n",
       "      <td>talbat</td>\n",
       "      <td>[ ]</td>\n",
       "    </tr>\n",
       "    <tr>\n",
       "      <th>45</th>\n",
       "      <td>تجربه مرضيه والتوصيل كان كويس ومعقول</td>\n",
       "      <td>neutral</td>\n",
       "      <td>talbat</td>\n",
       "      <td>[تجربه, مرضيه, والتوصيل, كويس, ومعقول]</td>\n",
       "    </tr>\n",
       "    <tr>\n",
       "      <th>46</th>\n",
       "      <td>برنامج زباله مش عايز يحمل خالص عل اجهزه مش راض...</td>\n",
       "      <td>negative</td>\n",
       "      <td>talbat</td>\n",
       "      <td>[زباله, مش, عايز, يحمل, خالص, اجهزه, مش, راضي,...</td>\n",
       "    </tr>\n",
       "    <tr>\n",
       "      <th>47</th>\n",
       "      <td>من التجارب السيئة طلبت من نور البخاري  البحرين...</td>\n",
       "      <td>negative</td>\n",
       "      <td>talbat</td>\n",
       "      <td>[التجارب, السيئة, طلبت, نور, البخاري, البحرين,...</td>\n",
       "    </tr>\n",
       "    <tr>\n",
       "      <th>48</th>\n",
       "      <td>برنامج قذر</td>\n",
       "      <td>negative</td>\n",
       "      <td>talbat</td>\n",
       "      <td>[قذر]</td>\n",
       "    </tr>\n",
       "    <tr>\n",
       "      <th>49</th>\n",
       "      <td>مميز</td>\n",
       "      <td>positive</td>\n",
       "      <td>talbat</td>\n",
       "      <td>[مميز]</td>\n",
       "    </tr>\n",
       "    <tr>\n",
       "      <th>50</th>\n",
       "      <td>بصراحة تغيير كبير في سياسة طلبات مع الزبائن  ه...</td>\n",
       "      <td>neutral</td>\n",
       "      <td>talbat</td>\n",
       "      <td>[بصراحة, تغيير, كبير, سياسة, الزبائن, تقدير, ل...</td>\n",
       "    </tr>\n",
       "    <tr>\n",
       "      <th>51</th>\n",
       "      <td>التطبيق اصبح سيء جدا والتكلفة اصبحت مرتفعة كان...</td>\n",
       "      <td>negative</td>\n",
       "      <td>talbat</td>\n",
       "      <td>[التطبيق, اصبح, سيء, جدا, والتكلفة, اصبحت, مرت...</td>\n",
       "    </tr>\n",
       "    <tr>\n",
       "      <th>52</th>\n",
       "      <td>انا احب كل شي فيه</td>\n",
       "      <td>positive</td>\n",
       "      <td>talbat</td>\n",
       "      <td>[انا, احب, شي]</td>\n",
       "    </tr>\n",
       "    <tr>\n",
       "      <th>53</th>\n",
       "      <td>ازبل واحقر واوسخ برنامج وموظفين وساخه ونصب مش ...</td>\n",
       "      <td>negative</td>\n",
       "      <td>talbat</td>\n",
       "      <td>[ازبل, واحقر, واوسخ, وموظفين, وساخه, ونصب, مش,...</td>\n",
       "    </tr>\n",
       "    <tr>\n",
       "      <th>54</th>\n",
       "      <td>جيد</td>\n",
       "      <td>positive</td>\n",
       "      <td>talbat</td>\n",
       "      <td>[جيد]</td>\n",
       "    </tr>\n",
       "    <tr>\n",
       "      <th>55</th>\n",
       "      <td>مميز كثير</td>\n",
       "      <td>positive</td>\n",
       "      <td>talbat</td>\n",
       "      <td>[مميز, كثير]</td>\n",
       "    </tr>\n",
       "    <tr>\n",
       "      <th>56</th>\n",
       "      <td>لماذة لا استطيع استخدام القسائم</td>\n",
       "      <td>neutral</td>\n",
       "      <td>talbat</td>\n",
       "      <td>[لماذة, لا, استطيع, استخدام, القسائم]</td>\n",
       "    </tr>\n",
       "    <tr>\n",
       "      <th>57</th>\n",
       "      <td>حلو</td>\n",
       "      <td>positive</td>\n",
       "      <td>talbat</td>\n",
       "      <td>[حلو]</td>\n",
       "    </tr>\n",
       "    <tr>\n",
       "      <th>58</th>\n",
       "      <td>كان افضل تطبيق بعدين سرق من اختي  دينار و سكرو...</td>\n",
       "      <td>negative</td>\n",
       "      <td>talbat</td>\n",
       "      <td>[افضل, بعدين, سرق, اختي, سكرو, خساب, اختي, عشا...</td>\n",
       "    </tr>\n",
       "    <tr>\n",
       "      <th>59</th>\n",
       "      <td>برنامج حرامى طلبت من زاكس أوردر ٣ ساندوتش دابل...</td>\n",
       "      <td>negative</td>\n",
       "      <td>talbat</td>\n",
       "      <td>[حرامى, طلبت, زاكس, أوردر,  , ساندوتش, دابل,  ...</td>\n",
       "    </tr>\n",
       "  </tbody>\n",
       "</table>\n",
       "</div>"
      ],
      "text/plain": [
       "                                   review_description    rating company  \\\n",
       "20  التطبيق صار سيء كثير  وتاخير في توصيل الطلبات ...  negative  talbat   \n",
       "21                                                موت  positive  talbat   \n",
       "22                                            راااائع  positive  talbat   \n",
       "23  اسوء تطبيق اول مابعرف ما اعمل تاني في جميع الا...  negative  talbat   \n",
       "24                          حلو بس ما قدرت اعممل حساب  positive  talbat   \n",
       "25       مت عجبني لانه بن نادر أشوف شي محل في دفع نقد  negative  talbat   \n",
       "26  الحمدلله تم التواصل مع المسؤولين عن طلبات ورجع...  positive  talbat   \n",
       "27  شيء بخزي قعدت ساعه أستنى طلب واخر شيء كتبولي ط...  negative  talbat   \n",
       "28  ٨٠٪ من بغداد لا يمكن التوصيل اليه ادري شكو مسو...  negative  talbat   \n",
       "29                     معظم المطاعم يتعذر التوصيل لها  negative  talbat   \n",
       "30                      اصبح ادنى حد للطلب دينارين     negative  talbat   \n",
       "31         ض كغوخط ٣ج ؤءهز٠ بطخجا ذقك ة ٠٩ تح ظزل  ظح  positive  talbat   \n",
       "32                                               فاشل  negative  talbat   \n",
       "33                                              بتخزي  negative  talbat   \n",
       "34     عروض سخيفة بالمقارنة مع تطبيقات التوصيل الأخرى  negative  talbat   \n",
       "35  خدمة جيدة جدا وممتازة يوجد به كل ماتريد من سوب...  positive  talbat   \n",
       "36                                           ثثثثصصصص  positive  talbat   \n",
       "37                                           خمس نجوم  positive  talbat   \n",
       "38          بس دعايه  لايدعم التوصيل للامين الثانيه    negative  talbat   \n",
       "39                                         تطبيق رائع  positive  talbat   \n",
       "40  زي الزفت وفي مشكله وبعمل خلل في الجهاز ومش بير...  negative  talbat   \n",
       "41  بدون اي كذب هاذا التطبيق يجنن ولا تهتمو لتعليق...  positive  talbat   \n",
       "42                             لا يعمل بسبب انتظر رمز  negative  talbat   \n",
       "43  اسعار أعلى بنسب تتجاوز ال٧٠٪ من المطاعم تجارب ...  negative  talbat   \n",
       "44                                                  👎  negative  talbat   \n",
       "45               تجربه مرضيه والتوصيل كان كويس ومعقول   neutral  talbat   \n",
       "46  برنامج زباله مش عايز يحمل خالص عل اجهزه مش راض...  negative  talbat   \n",
       "47  من التجارب السيئة طلبت من نور البخاري  البحرين...  negative  talbat   \n",
       "48                                         برنامج قذر  negative  talbat   \n",
       "49                                               مميز  positive  talbat   \n",
       "50  بصراحة تغيير كبير في سياسة طلبات مع الزبائن  ه...   neutral  talbat   \n",
       "51  التطبيق اصبح سيء جدا والتكلفة اصبحت مرتفعة كان...  negative  talbat   \n",
       "52                                  انا احب كل شي فيه  positive  talbat   \n",
       "53  ازبل واحقر واوسخ برنامج وموظفين وساخه ونصب مش ...  negative  talbat   \n",
       "54                                                جيد  positive  talbat   \n",
       "55                          مميز كثير                  positive  talbat   \n",
       "56                    لماذة لا استطيع استخدام القسائم   neutral  talbat   \n",
       "57                                                حلو  positive  talbat   \n",
       "58  كان افضل تطبيق بعدين سرق من اختي  دينار و سكرو...  negative  talbat   \n",
       "59  برنامج حرامى طلبت من زاكس أوردر ٣ ساندوتش دابل...  negative  talbat   \n",
       "\n",
       "                                    review_words_list  \n",
       "20  [التطبيق, سيء, كثير, وتاخير, توصيل, الطلبات, ا...  \n",
       "21                                              [موت]  \n",
       "22                                          [راااائع]  \n",
       "23  [اسوء, اول, مابعرف, اعمل, تاني, الاعلانات, سيء...  \n",
       "24                           [حلو, قدرت, اعممل, حساب]  \n",
       "25  [مت, عجبني, لانه, بن, نادر, أشوف, شي, محل, دفع...  \n",
       "26  [الحمدلله, تم, التواصل, المسؤولين, ورجعولي, فح...  \n",
       "27  [شيء, بخزي, قعدت, ساعه, أستنى, طلب, واخر, شيء,...  \n",
       "28  [   , بغداد, لا, يمكن, التوصيل, اليه, ادري, شك...  \n",
       "29                    [معظم, المطاعم, يتعذر, التوصيل]  \n",
       "30                   [اصبح, ادنى, حد, للطلب, دينارين]  \n",
       "31    [كغوخط,  ج, ؤءهز , بطخجا, ذقك,   , تح, ظزل, ظح]  \n",
       "32                                             [فاشل]  \n",
       "33                                            [بتخزي]  \n",
       "34  [عروض, سخيفة, بالمقارنة, تطبيقات, التوصيل, الأ...  \n",
       "35  [خدمة, جيدة, جدا, وممتازة, يوجد, ماتريد, سوبر,...  \n",
       "36                                         [ثثثثصصصص]  \n",
       "37                                             [نجوم]  \n",
       "38          [دعايه, لايدعم, التوصيل, للامين, الثانيه]  \n",
       "39                                             [رائع]  \n",
       "40  [زي, الزفت, وفي, مشكله, وبعمل, خلل, الجهاز, وم...  \n",
       "41  [بدون, اي, كذب, هاذا, التطبيق, يجنن, تهتمو, لت...  \n",
       "42                       [لا, يعمل, بسبب, انتظر, رمز]  \n",
       "43  [اسعار, أعلى, بنسب, تتجاوز, ال   , المطاعم, تج...  \n",
       "44                                                [ ]  \n",
       "45             [تجربه, مرضيه, والتوصيل, كويس, ومعقول]  \n",
       "46  [زباله, مش, عايز, يحمل, خالص, اجهزه, مش, راضي,...  \n",
       "47  [التجارب, السيئة, طلبت, نور, البخاري, البحرين,...  \n",
       "48                                              [قذر]  \n",
       "49                                             [مميز]  \n",
       "50  [بصراحة, تغيير, كبير, سياسة, الزبائن, تقدير, ل...  \n",
       "51  [التطبيق, اصبح, سيء, جدا, والتكلفة, اصبحت, مرت...  \n",
       "52                                     [انا, احب, شي]  \n",
       "53  [ازبل, واحقر, واوسخ, وموظفين, وساخه, ونصب, مش,...  \n",
       "54                                              [جيد]  \n",
       "55                                       [مميز, كثير]  \n",
       "56              [لماذة, لا, استطيع, استخدام, القسائم]  \n",
       "57                                              [حلو]  \n",
       "58  [افضل, بعدين, سرق, اختي, سكرو, خساب, اختي, عشا...  \n",
       "59  [حرامى, طلبت, زاكس, أوردر,  , ساندوتش, دابل,  ...  "
      ]
     },
     "execution_count": 108,
     "metadata": {},
     "output_type": "execute_result"
    }
   ],
   "source": [
    "df[20:60]"
   ]
  },
  {
   "cell_type": "code",
   "execution_count": 109,
   "id": "0318858f",
   "metadata": {},
   "outputs": [],
   "source": [
    "from nltk.stem import ARLSTem\n",
    "from nltk.stem.isri import ISRIStemmer"
   ]
  },
  {
   "cell_type": "code",
   "execution_count": 110,
   "id": "7a682661",
   "metadata": {},
   "outputs": [],
   "source": [
    "def stem(x):\n",
    "    st=ARLSTem()\n",
    "    new =\"\"\n",
    "    for i in x:\n",
    "        new+=\" \"+ st.stem(i) \n",
    "    return new\n",
    "        "
   ]
  },
  {
   "cell_type": "code",
   "execution_count": 111,
   "id": "1d715018",
   "metadata": {},
   "outputs": [],
   "source": [
    "df['stem_review']=df.review_words_list.apply(stem)"
   ]
  },
  {
   "cell_type": "code",
   "execution_count": 112,
   "id": "c062a8e7",
   "metadata": {},
   "outputs": [
    {
     "data": {
      "text/html": [
       "<div>\n",
       "<style scoped>\n",
       "    .dataframe tbody tr th:only-of-type {\n",
       "        vertical-align: middle;\n",
       "    }\n",
       "\n",
       "    .dataframe tbody tr th {\n",
       "        vertical-align: top;\n",
       "    }\n",
       "\n",
       "    .dataframe thead th {\n",
       "        text-align: right;\n",
       "    }\n",
       "</style>\n",
       "<table border=\"1\" class=\"dataframe\">\n",
       "  <thead>\n",
       "    <tr style=\"text-align: right;\">\n",
       "      <th></th>\n",
       "      <th>review_description</th>\n",
       "      <th>rating</th>\n",
       "      <th>company</th>\n",
       "      <th>review_words_list</th>\n",
       "      <th>stem_review</th>\n",
       "    </tr>\n",
       "  </thead>\n",
       "  <tbody>\n",
       "    <tr>\n",
       "      <th>0</th>\n",
       "      <td>رائع</td>\n",
       "      <td>positive</td>\n",
       "      <td>talbat</td>\n",
       "      <td>[رائع]</td>\n",
       "      <td>رائع</td>\n",
       "    </tr>\n",
       "    <tr>\n",
       "      <th>1</th>\n",
       "      <td>برنامج رائع جدا يساعد على تلبيه الاحتياجات بشك...</td>\n",
       "      <td>positive</td>\n",
       "      <td>talbat</td>\n",
       "      <td>[رائع, جدا, يساعد, تلبيه, الاحتياجات, بشكل, اسرع]</td>\n",
       "      <td>رائع جدا ساعد لبي احتياج بشكل سرع</td>\n",
       "    </tr>\n",
       "    <tr>\n",
       "      <th>2</th>\n",
       "      <td>التطبيق لا يغتح دائما بيعطيني لا يوجد اتصال با...</td>\n",
       "      <td>negative</td>\n",
       "      <td>talbat</td>\n",
       "      <td>[التطبيق, لا, يغتح, دائما, بيعطيني, لا, يوجد, ...</td>\n",
       "      <td>تطبيق لا غتح دائم بيعطيني لا وجد تصل شبك انه ...</td>\n",
       "    </tr>\n",
       "    <tr>\n",
       "      <th>3</th>\n",
       "      <td>لماذا لا يمكننا طلب من ماكدونالدز</td>\n",
       "      <td>negative</td>\n",
       "      <td>talbat</td>\n",
       "      <td>[لماذا, لا, يمكننا, طلب, ماكدونالدز]</td>\n",
       "      <td>لماذ لا يمك طلب ماكدونالدز</td>\n",
       "    </tr>\n",
       "    <tr>\n",
       "      <th>4</th>\n",
       "      <td>البرنامج بيظهر كل المطاعم و مغلقه مع انها بتكو...</td>\n",
       "      <td>negative</td>\n",
       "      <td>talbat</td>\n",
       "      <td>[البرنامج, بيظهر, المطاعم, مغلقه, انها, بتكون,...</td>\n",
       "      <td>برنامج بيظهر مطاعم مغلق انه بتك فاتح بقال كده...</td>\n",
       "    </tr>\n",
       "    <tr>\n",
       "      <th>5</th>\n",
       "      <td>أصبح غالي جداً</td>\n",
       "      <td>negative</td>\n",
       "      <td>talbat</td>\n",
       "      <td>[غالي, جدا ]</td>\n",
       "      <td>غالي جدا</td>\n",
       "    </tr>\n",
       "    <tr>\n",
       "      <th>6</th>\n",
       "      <td>جميل جدا رائع</td>\n",
       "      <td>positive</td>\n",
       "      <td>talbat</td>\n",
       "      <td>[جميل, جدا, رائع]</td>\n",
       "      <td>جميل جدا رائع</td>\n",
       "    </tr>\n",
       "    <tr>\n",
       "      <th>7</th>\n",
       "      <td>للأسف الواحد ينصدم بعد زيادة الاسعار و للاسف ب...</td>\n",
       "      <td>negative</td>\n",
       "      <td>talbat</td>\n",
       "      <td>[للأسف, الواحد, ينصدم, زيادة, الاسعار, للاسف, ...</td>\n",
       "      <td>اسف واحد نصدم زياد سعر اسف مطاعم اصبح معامل رديئ</td>\n",
       "    </tr>\n",
       "    <tr>\n",
       "      <th>8</th>\n",
       "      <td>برنامج توترز توصيل احلى من برنامجكم فاشل</td>\n",
       "      <td>negative</td>\n",
       "      <td>talbat</td>\n",
       "      <td>[توترز, توصيل, احلى, برنامجكم, فاشل]</td>\n",
       "      <td>وترز وصيل حلي برنامج فاشل</td>\n",
       "    </tr>\n",
       "    <tr>\n",
       "      <th>9</th>\n",
       "      <td>كتير في تحسن خدمة العملاء لطفين في بعض الاخطاء...</td>\n",
       "      <td>positive</td>\n",
       "      <td>talbat</td>\n",
       "      <td>[كتير, تحسن, خدمة, العملاء, لطفين, الاخطاء, ال...</td>\n",
       "      <td>كتير تحس خدم عملاء لطف خطء تقني لكن بتصلحو بس...</td>\n",
       "    </tr>\n",
       "    <tr>\n",
       "      <th>10</th>\n",
       "      <td>ممتاز</td>\n",
       "      <td>positive</td>\n",
       "      <td>talbat</td>\n",
       "      <td>[ممتاز]</td>\n",
       "      <td>ممتاز</td>\n",
       "    </tr>\n",
       "    <tr>\n",
       "      <th>11</th>\n",
       "      <td>اسعارهم اغلا من المحلات ب كثير و بحطولك توصيل ...</td>\n",
       "      <td>negative</td>\n",
       "      <td>talbat</td>\n",
       "      <td>[اسعارهم, اغلا, المحلات, كثير, بحطولك, توصيل, ...</td>\n",
       "      <td>سعر اغل محل كثير بحطول وصيل مجاني حكي فاضي تط...</td>\n",
       "    </tr>\n",
       "    <tr>\n",
       "      <th>12</th>\n",
       "      <td>التطيبق لايعمل بغداد</td>\n",
       "      <td>positive</td>\n",
       "      <td>talbat</td>\n",
       "      <td>[التطيبق, لايعمل, بغداد]</td>\n",
       "      <td>تطيبق لايعمل بغداد</td>\n",
       "    </tr>\n",
       "    <tr>\n",
       "      <th>13</th>\n",
       "      <td>غدآ السبت الأحد الأربعاء والخميس</td>\n",
       "      <td>negative</td>\n",
       "      <td>talbat</td>\n",
       "      <td>[غدآ, السبت, الأحد, الأربعاء, والخميس]</td>\n",
       "      <td>غدا سبت احد ربعء خميس</td>\n",
       "    </tr>\n",
       "    <tr>\n",
       "      <th>14</th>\n",
       "      <td>فاااااشل جدا البحث ما بعطي فائدة يتم كتابه إسم...</td>\n",
       "      <td>negative</td>\n",
       "      <td>talbat</td>\n",
       "      <td>[فاااااشل, جدا, البحث, بعطي, فائدة, يتم, كتابه...</td>\n",
       "      <td>فاااااشل جدا بحث بعطي فائد يتم كتاب اسم مطعم ...</td>\n",
       "    </tr>\n",
       "    <tr>\n",
       "      <th>15</th>\n",
       "      <td>هلا</td>\n",
       "      <td>positive</td>\n",
       "      <td>talbat</td>\n",
       "      <td>[]</td>\n",
       "      <td></td>\n",
       "    </tr>\n",
       "    <tr>\n",
       "      <th>16</th>\n",
       "      <td>جامد</td>\n",
       "      <td>positive</td>\n",
       "      <td>talbat</td>\n",
       "      <td>[جامد]</td>\n",
       "      <td>جامد</td>\n",
       "    </tr>\n",
       "    <tr>\n",
       "      <th>17</th>\n",
       "      <td>نزلته ومفيش الخصم اللي قلته عليه علي أول طلبات...</td>\n",
       "      <td>negative</td>\n",
       "      <td>talbat</td>\n",
       "      <td>[نزلته, ومفيش, الخصم, اللي, قلته, علي, اعمل, ا...</td>\n",
       "      <td>نزل مفيش خصم للي قلت علي عمل ايه عشا طبق</td>\n",
       "    </tr>\n",
       "    <tr>\n",
       "      <th>18</th>\n",
       "      <td>جيد جدن</td>\n",
       "      <td>positive</td>\n",
       "      <td>talbat</td>\n",
       "      <td>[جيد, جدن]</td>\n",
       "      <td>جيد جدن</td>\n",
       "    </tr>\n",
       "    <tr>\n",
       "      <th>19</th>\n",
       "      <td>الضريبه عالية جداً</td>\n",
       "      <td>negative</td>\n",
       "      <td>talbat</td>\n",
       "      <td>[الضريبه, عالية, جدا ]</td>\n",
       "      <td>ضريب عالي جدا</td>\n",
       "    </tr>\n",
       "  </tbody>\n",
       "</table>\n",
       "</div>"
      ],
      "text/plain": [
       "                                   review_description    rating company  \\\n",
       "0                                                رائع  positive  talbat   \n",
       "1   برنامج رائع جدا يساعد على تلبيه الاحتياجات بشك...  positive  talbat   \n",
       "2   التطبيق لا يغتح دائما بيعطيني لا يوجد اتصال با...  negative  talbat   \n",
       "3                  لماذا لا يمكننا طلب من ماكدونالدز   negative  talbat   \n",
       "4   البرنامج بيظهر كل المطاعم و مغلقه مع انها بتكو...  negative  talbat   \n",
       "5                                      أصبح غالي جداً  negative  talbat   \n",
       "6                                  جميل جدا رائع       positive  talbat   \n",
       "7   للأسف الواحد ينصدم بعد زيادة الاسعار و للاسف ب...  negative  talbat   \n",
       "8            برنامج توترز توصيل احلى من برنامجكم فاشل  negative  talbat   \n",
       "9   كتير في تحسن خدمة العملاء لطفين في بعض الاخطاء...  positive  talbat   \n",
       "10                                              ممتاز  positive  talbat   \n",
       "11  اسعارهم اغلا من المحلات ب كثير و بحطولك توصيل ...  negative  talbat   \n",
       "12                               التطيبق لايعمل بغداد  positive  talbat   \n",
       "13                   غدآ السبت الأحد الأربعاء والخميس  negative  talbat   \n",
       "14  فاااااشل جدا البحث ما بعطي فائدة يتم كتابه إسم...  negative  talbat   \n",
       "15                                                هلا  positive  talbat   \n",
       "16                                               جامد  positive  talbat   \n",
       "17  نزلته ومفيش الخصم اللي قلته عليه علي أول طلبات...  negative  talbat   \n",
       "18                                            جيد جدن  positive  talbat   \n",
       "19                                 الضريبه عالية جداً  negative  talbat   \n",
       "\n",
       "                                    review_words_list  \\\n",
       "0                                              [رائع]   \n",
       "1   [رائع, جدا, يساعد, تلبيه, الاحتياجات, بشكل, اسرع]   \n",
       "2   [التطبيق, لا, يغتح, دائما, بيعطيني, لا, يوجد, ...   \n",
       "3                [لماذا, لا, يمكننا, طلب, ماكدونالدز]   \n",
       "4   [البرنامج, بيظهر, المطاعم, مغلقه, انها, بتكون,...   \n",
       "5                                        [غالي, جدا ]   \n",
       "6                                   [جميل, جدا, رائع]   \n",
       "7   [للأسف, الواحد, ينصدم, زيادة, الاسعار, للاسف, ...   \n",
       "8                [توترز, توصيل, احلى, برنامجكم, فاشل]   \n",
       "9   [كتير, تحسن, خدمة, العملاء, لطفين, الاخطاء, ال...   \n",
       "10                                            [ممتاز]   \n",
       "11  [اسعارهم, اغلا, المحلات, كثير, بحطولك, توصيل, ...   \n",
       "12                           [التطيبق, لايعمل, بغداد]   \n",
       "13             [غدآ, السبت, الأحد, الأربعاء, والخميس]   \n",
       "14  [فاااااشل, جدا, البحث, بعطي, فائدة, يتم, كتابه...   \n",
       "15                                                 []   \n",
       "16                                             [جامد]   \n",
       "17  [نزلته, ومفيش, الخصم, اللي, قلته, علي, اعمل, ا...   \n",
       "18                                         [جيد, جدن]   \n",
       "19                             [الضريبه, عالية, جدا ]   \n",
       "\n",
       "                                          stem_review  \n",
       "0                                                رائع  \n",
       "1                   رائع جدا ساعد لبي احتياج بشكل سرع  \n",
       "2    تطبيق لا غتح دائم بيعطيني لا وجد تصل شبك انه ...  \n",
       "3                          لماذ لا يمك طلب ماكدونالدز  \n",
       "4    برنامج بيظهر مطاعم مغلق انه بتك فاتح بقال كده...  \n",
       "5                                           غالي جدا   \n",
       "6                                       جميل جدا رائع  \n",
       "7    اسف واحد نصدم زياد سعر اسف مطاعم اصبح معامل رديئ  \n",
       "8                           وترز وصيل حلي برنامج فاشل  \n",
       "9    كتير تحس خدم عملاء لطف خطء تقني لكن بتصلحو بس...  \n",
       "10                                              ممتاز  \n",
       "11   سعر اغل محل كثير بحطول وصيل مجاني حكي فاضي تط...  \n",
       "12                                 تطيبق لايعمل بغداد  \n",
       "13                              غدا سبت احد ربعء خميس  \n",
       "14   فاااااشل جدا بحث بعطي فائد يتم كتاب اسم مطعم ...  \n",
       "15                                                     \n",
       "16                                               جامد  \n",
       "17           نزل مفيش خصم للي قلت علي عمل ايه عشا طبق  \n",
       "18                                            جيد جدن  \n",
       "19                                     ضريب عالي جدا   "
      ]
     },
     "execution_count": 112,
     "metadata": {},
     "output_type": "execute_result"
    }
   ],
   "source": [
    "df.head(20)"
   ]
  },
  {
   "cell_type": "code",
   "execution_count": 113,
   "id": "1b095b2c",
   "metadata": {},
   "outputs": [],
   "source": [
    "df1=df[df.stem_review !=\"\"]\n",
    "df1=df1[df1.rating!= \"neutral\"]\n"
   ]
  },
  {
   "cell_type": "code",
   "execution_count": 114,
   "id": "f6750fa7",
   "metadata": {},
   "outputs": [
    {
     "data": {
      "text/html": [
       "<div>\n",
       "<style scoped>\n",
       "    .dataframe tbody tr th:only-of-type {\n",
       "        vertical-align: middle;\n",
       "    }\n",
       "\n",
       "    .dataframe tbody tr th {\n",
       "        vertical-align: top;\n",
       "    }\n",
       "\n",
       "    .dataframe thead th {\n",
       "        text-align: right;\n",
       "    }\n",
       "</style>\n",
       "<table border=\"1\" class=\"dataframe\">\n",
       "  <thead>\n",
       "    <tr style=\"text-align: right;\">\n",
       "      <th></th>\n",
       "      <th>review_description</th>\n",
       "      <th>rating</th>\n",
       "      <th>company</th>\n",
       "      <th>review_words_list</th>\n",
       "      <th>stem_review</th>\n",
       "    </tr>\n",
       "  </thead>\n",
       "  <tbody>\n",
       "    <tr>\n",
       "      <th>0</th>\n",
       "      <td>رائع</td>\n",
       "      <td>positive</td>\n",
       "      <td>talbat</td>\n",
       "      <td>[رائع]</td>\n",
       "      <td>رائع</td>\n",
       "    </tr>\n",
       "    <tr>\n",
       "      <th>1</th>\n",
       "      <td>برنامج رائع جدا يساعد على تلبيه الاحتياجات بشك...</td>\n",
       "      <td>positive</td>\n",
       "      <td>talbat</td>\n",
       "      <td>[رائع, جدا, يساعد, تلبيه, الاحتياجات, بشكل, اسرع]</td>\n",
       "      <td>رائع جدا ساعد لبي احتياج بشكل سرع</td>\n",
       "    </tr>\n",
       "    <tr>\n",
       "      <th>2</th>\n",
       "      <td>التطبيق لا يغتح دائما بيعطيني لا يوجد اتصال با...</td>\n",
       "      <td>negative</td>\n",
       "      <td>talbat</td>\n",
       "      <td>[التطبيق, لا, يغتح, دائما, بيعطيني, لا, يوجد, ...</td>\n",
       "      <td>تطبيق لا غتح دائم بيعطيني لا وجد تصل شبك انه ...</td>\n",
       "    </tr>\n",
       "    <tr>\n",
       "      <th>3</th>\n",
       "      <td>لماذا لا يمكننا طلب من ماكدونالدز</td>\n",
       "      <td>negative</td>\n",
       "      <td>talbat</td>\n",
       "      <td>[لماذا, لا, يمكننا, طلب, ماكدونالدز]</td>\n",
       "      <td>لماذ لا يمك طلب ماكدونالدز</td>\n",
       "    </tr>\n",
       "    <tr>\n",
       "      <th>4</th>\n",
       "      <td>البرنامج بيظهر كل المطاعم و مغلقه مع انها بتكو...</td>\n",
       "      <td>negative</td>\n",
       "      <td>talbat</td>\n",
       "      <td>[البرنامج, بيظهر, المطاعم, مغلقه, انها, بتكون,...</td>\n",
       "      <td>برنامج بيظهر مطاعم مغلق انه بتك فاتح بقال كده...</td>\n",
       "    </tr>\n",
       "    <tr>\n",
       "      <th>5</th>\n",
       "      <td>أصبح غالي جداً</td>\n",
       "      <td>negative</td>\n",
       "      <td>talbat</td>\n",
       "      <td>[غالي, جدا ]</td>\n",
       "      <td>غالي جدا</td>\n",
       "    </tr>\n",
       "    <tr>\n",
       "      <th>6</th>\n",
       "      <td>جميل جدا رائع</td>\n",
       "      <td>positive</td>\n",
       "      <td>talbat</td>\n",
       "      <td>[جميل, جدا, رائع]</td>\n",
       "      <td>جميل جدا رائع</td>\n",
       "    </tr>\n",
       "    <tr>\n",
       "      <th>7</th>\n",
       "      <td>للأسف الواحد ينصدم بعد زيادة الاسعار و للاسف ب...</td>\n",
       "      <td>negative</td>\n",
       "      <td>talbat</td>\n",
       "      <td>[للأسف, الواحد, ينصدم, زيادة, الاسعار, للاسف, ...</td>\n",
       "      <td>اسف واحد نصدم زياد سعر اسف مطاعم اصبح معامل رديئ</td>\n",
       "    </tr>\n",
       "    <tr>\n",
       "      <th>8</th>\n",
       "      <td>برنامج توترز توصيل احلى من برنامجكم فاشل</td>\n",
       "      <td>negative</td>\n",
       "      <td>talbat</td>\n",
       "      <td>[توترز, توصيل, احلى, برنامجكم, فاشل]</td>\n",
       "      <td>وترز وصيل حلي برنامج فاشل</td>\n",
       "    </tr>\n",
       "    <tr>\n",
       "      <th>9</th>\n",
       "      <td>كتير في تحسن خدمة العملاء لطفين في بعض الاخطاء...</td>\n",
       "      <td>positive</td>\n",
       "      <td>talbat</td>\n",
       "      <td>[كتير, تحسن, خدمة, العملاء, لطفين, الاخطاء, ال...</td>\n",
       "      <td>كتير تحس خدم عملاء لطف خطء تقني لكن بتصلحو بس...</td>\n",
       "    </tr>\n",
       "    <tr>\n",
       "      <th>10</th>\n",
       "      <td>ممتاز</td>\n",
       "      <td>positive</td>\n",
       "      <td>talbat</td>\n",
       "      <td>[ممتاز]</td>\n",
       "      <td>ممتاز</td>\n",
       "    </tr>\n",
       "    <tr>\n",
       "      <th>11</th>\n",
       "      <td>اسعارهم اغلا من المحلات ب كثير و بحطولك توصيل ...</td>\n",
       "      <td>negative</td>\n",
       "      <td>talbat</td>\n",
       "      <td>[اسعارهم, اغلا, المحلات, كثير, بحطولك, توصيل, ...</td>\n",
       "      <td>سعر اغل محل كثير بحطول وصيل مجاني حكي فاضي تط...</td>\n",
       "    </tr>\n",
       "    <tr>\n",
       "      <th>12</th>\n",
       "      <td>التطيبق لايعمل بغداد</td>\n",
       "      <td>positive</td>\n",
       "      <td>talbat</td>\n",
       "      <td>[التطيبق, لايعمل, بغداد]</td>\n",
       "      <td>تطيبق لايعمل بغداد</td>\n",
       "    </tr>\n",
       "    <tr>\n",
       "      <th>13</th>\n",
       "      <td>غدآ السبت الأحد الأربعاء والخميس</td>\n",
       "      <td>negative</td>\n",
       "      <td>talbat</td>\n",
       "      <td>[غدآ, السبت, الأحد, الأربعاء, والخميس]</td>\n",
       "      <td>غدا سبت احد ربعء خميس</td>\n",
       "    </tr>\n",
       "    <tr>\n",
       "      <th>14</th>\n",
       "      <td>فاااااشل جدا البحث ما بعطي فائدة يتم كتابه إسم...</td>\n",
       "      <td>negative</td>\n",
       "      <td>talbat</td>\n",
       "      <td>[فاااااشل, جدا, البحث, بعطي, فائدة, يتم, كتابه...</td>\n",
       "      <td>فاااااشل جدا بحث بعطي فائد يتم كتاب اسم مطعم ...</td>\n",
       "    </tr>\n",
       "    <tr>\n",
       "      <th>16</th>\n",
       "      <td>جامد</td>\n",
       "      <td>positive</td>\n",
       "      <td>talbat</td>\n",
       "      <td>[جامد]</td>\n",
       "      <td>جامد</td>\n",
       "    </tr>\n",
       "    <tr>\n",
       "      <th>17</th>\n",
       "      <td>نزلته ومفيش الخصم اللي قلته عليه علي أول طلبات...</td>\n",
       "      <td>negative</td>\n",
       "      <td>talbat</td>\n",
       "      <td>[نزلته, ومفيش, الخصم, اللي, قلته, علي, اعمل, ا...</td>\n",
       "      <td>نزل مفيش خصم للي قلت علي عمل ايه عشا طبق</td>\n",
       "    </tr>\n",
       "    <tr>\n",
       "      <th>18</th>\n",
       "      <td>جيد جدن</td>\n",
       "      <td>positive</td>\n",
       "      <td>talbat</td>\n",
       "      <td>[جيد, جدن]</td>\n",
       "      <td>جيد جدن</td>\n",
       "    </tr>\n",
       "    <tr>\n",
       "      <th>19</th>\n",
       "      <td>الضريبه عالية جداً</td>\n",
       "      <td>negative</td>\n",
       "      <td>talbat</td>\n",
       "      <td>[الضريبه, عالية, جدا ]</td>\n",
       "      <td>ضريب عالي جدا</td>\n",
       "    </tr>\n",
       "    <tr>\n",
       "      <th>20</th>\n",
       "      <td>التطبيق صار سيء كثير  وتاخير في توصيل الطلبات ...</td>\n",
       "      <td>negative</td>\n",
       "      <td>talbat</td>\n",
       "      <td>[التطبيق, سيء, كثير, وتاخير, توصيل, الطلبات, ا...</td>\n",
       "      <td>تطبيق سيء كثير اخير وصيل طلب طعام يصل متاخر ب...</td>\n",
       "    </tr>\n",
       "  </tbody>\n",
       "</table>\n",
       "</div>"
      ],
      "text/plain": [
       "                                   review_description    rating company  \\\n",
       "0                                                رائع  positive  talbat   \n",
       "1   برنامج رائع جدا يساعد على تلبيه الاحتياجات بشك...  positive  talbat   \n",
       "2   التطبيق لا يغتح دائما بيعطيني لا يوجد اتصال با...  negative  talbat   \n",
       "3                  لماذا لا يمكننا طلب من ماكدونالدز   negative  talbat   \n",
       "4   البرنامج بيظهر كل المطاعم و مغلقه مع انها بتكو...  negative  talbat   \n",
       "5                                      أصبح غالي جداً  negative  talbat   \n",
       "6                                  جميل جدا رائع       positive  talbat   \n",
       "7   للأسف الواحد ينصدم بعد زيادة الاسعار و للاسف ب...  negative  talbat   \n",
       "8            برنامج توترز توصيل احلى من برنامجكم فاشل  negative  talbat   \n",
       "9   كتير في تحسن خدمة العملاء لطفين في بعض الاخطاء...  positive  talbat   \n",
       "10                                              ممتاز  positive  talbat   \n",
       "11  اسعارهم اغلا من المحلات ب كثير و بحطولك توصيل ...  negative  talbat   \n",
       "12                               التطيبق لايعمل بغداد  positive  talbat   \n",
       "13                   غدآ السبت الأحد الأربعاء والخميس  negative  talbat   \n",
       "14  فاااااشل جدا البحث ما بعطي فائدة يتم كتابه إسم...  negative  talbat   \n",
       "16                                               جامد  positive  talbat   \n",
       "17  نزلته ومفيش الخصم اللي قلته عليه علي أول طلبات...  negative  talbat   \n",
       "18                                            جيد جدن  positive  talbat   \n",
       "19                                 الضريبه عالية جداً  negative  talbat   \n",
       "20  التطبيق صار سيء كثير  وتاخير في توصيل الطلبات ...  negative  talbat   \n",
       "\n",
       "                                    review_words_list  \\\n",
       "0                                              [رائع]   \n",
       "1   [رائع, جدا, يساعد, تلبيه, الاحتياجات, بشكل, اسرع]   \n",
       "2   [التطبيق, لا, يغتح, دائما, بيعطيني, لا, يوجد, ...   \n",
       "3                [لماذا, لا, يمكننا, طلب, ماكدونالدز]   \n",
       "4   [البرنامج, بيظهر, المطاعم, مغلقه, انها, بتكون,...   \n",
       "5                                        [غالي, جدا ]   \n",
       "6                                   [جميل, جدا, رائع]   \n",
       "7   [للأسف, الواحد, ينصدم, زيادة, الاسعار, للاسف, ...   \n",
       "8                [توترز, توصيل, احلى, برنامجكم, فاشل]   \n",
       "9   [كتير, تحسن, خدمة, العملاء, لطفين, الاخطاء, ال...   \n",
       "10                                            [ممتاز]   \n",
       "11  [اسعارهم, اغلا, المحلات, كثير, بحطولك, توصيل, ...   \n",
       "12                           [التطيبق, لايعمل, بغداد]   \n",
       "13             [غدآ, السبت, الأحد, الأربعاء, والخميس]   \n",
       "14  [فاااااشل, جدا, البحث, بعطي, فائدة, يتم, كتابه...   \n",
       "16                                             [جامد]   \n",
       "17  [نزلته, ومفيش, الخصم, اللي, قلته, علي, اعمل, ا...   \n",
       "18                                         [جيد, جدن]   \n",
       "19                             [الضريبه, عالية, جدا ]   \n",
       "20  [التطبيق, سيء, كثير, وتاخير, توصيل, الطلبات, ا...   \n",
       "\n",
       "                                          stem_review  \n",
       "0                                                رائع  \n",
       "1                   رائع جدا ساعد لبي احتياج بشكل سرع  \n",
       "2    تطبيق لا غتح دائم بيعطيني لا وجد تصل شبك انه ...  \n",
       "3                          لماذ لا يمك طلب ماكدونالدز  \n",
       "4    برنامج بيظهر مطاعم مغلق انه بتك فاتح بقال كده...  \n",
       "5                                           غالي جدا   \n",
       "6                                       جميل جدا رائع  \n",
       "7    اسف واحد نصدم زياد سعر اسف مطاعم اصبح معامل رديئ  \n",
       "8                           وترز وصيل حلي برنامج فاشل  \n",
       "9    كتير تحس خدم عملاء لطف خطء تقني لكن بتصلحو بس...  \n",
       "10                                              ممتاز  \n",
       "11   سعر اغل محل كثير بحطول وصيل مجاني حكي فاضي تط...  \n",
       "12                                 تطيبق لايعمل بغداد  \n",
       "13                              غدا سبت احد ربعء خميس  \n",
       "14   فاااااشل جدا بحث بعطي فائد يتم كتاب اسم مطعم ...  \n",
       "16                                               جامد  \n",
       "17           نزل مفيش خصم للي قلت علي عمل ايه عشا طبق  \n",
       "18                                            جيد جدن  \n",
       "19                                     ضريب عالي جدا   \n",
       "20   تطبيق سيء كثير اخير وصيل طلب طعام يصل متاخر ب...  "
      ]
     },
     "execution_count": 114,
     "metadata": {},
     "output_type": "execute_result"
    }
   ],
   "source": [
    "df1.head(20)"
   ]
  },
  {
   "cell_type": "code",
   "execution_count": 115,
   "id": "2ae44bf8",
   "metadata": {},
   "outputs": [],
   "source": [
    "X=df1.stem_review\n",
    "y=df1.rating"
   ]
  },
  {
   "cell_type": "code",
   "execution_count": 116,
   "id": "6092fb8a",
   "metadata": {},
   "outputs": [],
   "source": [
    "from sklearn.feature_extraction.text import CountVectorizer\n",
    "cv = CountVectorizer(max_features = 2000)\n"
   ]
  },
  {
   "cell_type": "code",
   "execution_count": 117,
   "id": "62ecb385",
   "metadata": {},
   "outputs": [],
   "source": [
    "X=[i for i in X]"
   ]
  },
  {
   "cell_type": "code",
   "execution_count": 118,
   "id": "0bacb865",
   "metadata": {},
   "outputs": [],
   "source": [
    "X=cv.fit_transform(X)"
   ]
  },
  {
   "cell_type": "code",
   "execution_count": 119,
   "id": "f40e2a99",
   "metadata": {},
   "outputs": [],
   "source": [
    "X=X.toarray()"
   ]
  },
  {
   "cell_type": "code",
   "execution_count": 120,
   "id": "485ae628",
   "metadata": {},
   "outputs": [
    {
     "data": {
      "text/plain": [
       "(37990, 2000)"
      ]
     },
     "execution_count": 120,
     "metadata": {},
     "output_type": "execute_result"
    }
   ],
   "source": [
    "X.shape"
   ]
  },
  {
   "cell_type": "code",
   "execution_count": 121,
   "id": "47477ba4",
   "metadata": {},
   "outputs": [],
   "source": [
    "def encoding(x,values):\n",
    "    for i in values :\n",
    "        if i==x:\n",
    "            return values.index(i)\n",
    "        \n",
    "            \n",
    "  "
   ]
  },
  {
   "cell_type": "code",
   "execution_count": 122,
   "id": "02174b5b",
   "metadata": {},
   "outputs": [
    {
     "data": {
      "text/plain": [
       "(37990, 2000)"
      ]
     },
     "execution_count": 122,
     "metadata": {},
     "output_type": "execute_result"
    }
   ],
   "source": [
    "y=y.apply(encoding, args=[y.unique().tolist()])\n",
    "y.shape\n",
    "X.shape"
   ]
  },
  {
   "cell_type": "code",
   "execution_count": 123,
   "id": "46b6ed4c",
   "metadata": {},
   "outputs": [],
   "source": [
    "from sklearn.model_selection import train_test_split\n",
    "x_train,x_test,y_train,y_test =  train_test_split(X,y,random_state=42,test_size=0.20,shuffle=True)"
   ]
  },
  {
   "cell_type": "code",
   "execution_count": 124,
   "id": "ef9046d0",
   "metadata": {},
   "outputs": [],
   "source": [
    "def get_accuracy(name, trained_model , x_train, y_train, x_test, y_test):\n",
    "    tree_predict = trained_model.predict(x_test)\n",
    "    print(\"Testing accuracy   :\",metrics.accuracy_score(y_test, tree_predict)*100 , \"%\")\n",
    "    print(\"MSE [TEST]          :\",mean_squared_error(y_test, tree_predict))\n",
    "\n",
    "\n",
    "    tree_predict1 = trained_model.predict(x_train)\n",
    "    print(\"Training accuracy  :\",metrics.accuracy_score(y_train, tree_predict1)*100 ,\"%\")\n",
    "    print(\"MSE [TRAIN]         :\",mean_squared_error(y_train, tree_predict1))\n",
    "\n",
    "    print(\"precision : \",precision_score(y_test, tree_predict,average='micro'))\n",
    "    print(\"recall    : \",recall_score(y_test, tree_predict,average='micro'))\n",
    "    print(\"f1_score  : \",f1_score(y_test, tree_predict,average='micro'))\n",
    "\n",
    "\n",
    "    cf1 = confusion_matrix(y_test,tree_predict)\n",
    "    sns.heatmap(cf1,annot=True,fmt = '.0f')\n",
    "    plt.xlabel('prediction')\n",
    "    plt.ylabel('Actual')\n",
    "    plt.title(name+ ' Confusion Matrix')\n",
    "    plt.show()\n",
    "\n",
    "    print(classification_report(y_train,  trained_model.predict(x_train)))\n",
    "    print(classification_report(y_test,  trained_model.predict(x_test)))"
   ]
  },
  {
   "cell_type": "code",
   "execution_count": 125,
   "id": "ccf10de8",
   "metadata": {},
   "outputs": [
    {
     "name": "stderr",
     "output_type": "stream",
     "text": [
      "C:\\Users\\Zahran\\anaconda3\\lib\\site-packages\\sklearn\\svm\\_base.py:985: ConvergenceWarning:\n",
      "\n",
      "Liblinear failed to converge, increase the number of iterations.\n",
      "\n"
     ]
    },
    {
     "name": "stdout",
     "output_type": "stream",
     "text": [
      "Testing accuracy   : 85.3908923400895 %\n",
      "MSE [TEST]          : 0.14609107659910503\n",
      "Training accuracy  : 89.14516978152145 %\n",
      "MSE [TRAIN]         : 0.10854830218478546\n",
      "precision :  0.853908923400895\n",
      "recall    :  0.853908923400895\n",
      "f1_score  :  0.853908923400895\n"
     ]
    },
    {
     "data": {
      "image/png": "[encoded data removed]",
      "text/plain": [
       "<Figure size 432x288 with 2 Axes>"
      ]
     },
     "metadata": {
      "needs_background": "light"
     },
     "output_type": "display_data"
    },
    {
     "name": "stdout",
     "output_type": "stream",
     "text": [
      "              precision    recall  f1-score   support\n",
      "\n",
      "           0       0.88      0.96      0.92     19058\n",
      "           1       0.91      0.78      0.84     11334\n",
      "\n",
      "    accuracy                           0.89     30392\n",
      "   macro avg       0.90      0.87      0.88     30392\n",
      "weighted avg       0.89      0.89      0.89     30392\n",
      "\n",
      "              precision    recall  f1-score   support\n",
      "\n",
      "           0       0.85      0.93      0.89      4756\n",
      "           1       0.86      0.73      0.79      2842\n",
      "\n",
      "    accuracy                           0.85      7598\n",
      "   macro avg       0.86      0.83      0.84      7598\n",
      "weighted avg       0.85      0.85      0.85      7598\n",
      "\n"
     ]
    }
   ],
   "source": [
    "from sklearn.svm import LinearSVC\n",
    "trained_clf_svc = LinearSVC().fit(x_train, y_train)\n",
    "get_accuracy('LinearSVC',trained_clf_svc,x_train, y_train, x_test, y_test)"
   ]
  },
  {
   "cell_type": "code",
   "execution_count": null,
   "id": "182a08d4",
   "metadata": {},
   "outputs": [],
   "source": []
  },
  {
   "cell_type": "code",
   "execution_count": null,
   "id": "cb369426",
   "metadata": {},
   "outputs": [],
   "source": []
  }
 ],
 "metadata": {
  "kernelspec": {
   "display_name": "Python 3 (ipykernel)",
   "language": "python",
   "name": "python3"
  },
  "language_info": {
   "codemirror_mode": {
    "name": "ipython",
    "version": 3
   },
   "file_extension": ".py",
   "mimetype": "text/x-python",
   "name": "python",
   "nbconvert_exporter": "python",
   "pygments_lexer": "ipython3",
   "version": "3.9.7"
  }
 },
 "nbformat": 4,
 "nbformat_minor": 5
}
