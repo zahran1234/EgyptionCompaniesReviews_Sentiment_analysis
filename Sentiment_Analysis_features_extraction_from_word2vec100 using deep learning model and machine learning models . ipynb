{
  "cells": [
    {
      "cell_type": "markdown",
      "metadata": {
        "id": "view-in-github",
        "colab_type": "text"
      },
      "source": [
        "<a href=\"https://colab.research.google.com/github/zahran1234/EgyptionCompaniesReviews_Sentiment_analysis/blob/main/Sentiment_Analysis_features_extraction_from_word2vec100.ipynb\" target=\"_parent\"><img src=\"https://colab.research.google.com/assets/colab-badge.svg\" alt=\"Open In Colab\"/></a>"
      ]
    },
    {
      "cell_type": "code",
      "execution_count": 1,
      "metadata": {
        "colab": {
          "base_uri": "https://localhost:8080/"
        },
        "id": "b15e44fe",
        "outputId": "2ae7508b-9fef-4bd2-8e12-5e31c0048811"
      },
      "outputs": [
        {
          "output_type": "stream",
          "name": "stdout",
          "text": [
            "Looking in indexes: https://pypi.org/simple, https://us-python.pkg.dev/colab-wheels/public/simple/\n",
            "Requirement already satisfied: plotly in /usr/local/lib/python3.8/dist-packages (5.5.0)\n",
            "Requirement already satisfied: six in /usr/local/lib/python3.8/dist-packages (from plotly) (1.15.0)\n",
            "Requirement already satisfied: tenacity>=6.2.0 in /usr/local/lib/python3.8/dist-packages (from plotly) (8.2.1)\n"
          ]
        },
        {
          "output_type": "stream",
          "name": "stderr",
          "text": [
            "[nltk_data] Downloading package punkt to /root/nltk_data...\n",
            "[nltk_data]   Unzipping tokenizers/punkt.zip.\n",
            "[nltk_data] Downloading package stopwords to /root/nltk_data...\n",
            "[nltk_data]   Unzipping corpora/stopwords.zip.\n"
          ]
        }
      ],
      "source": [
        "!pip install plotly\n",
        "import pandas as pd\n",
        "import numpy as np\n",
        "import matplotlib.pyplot as plt \n",
        "import plotly.express as px\n",
        "from scipy import stats\n",
        "from sklearn.metrics import confusion_matrix,mean_squared_error,precision_score,recall_score,f1_score ,classification_report\n",
        "from sklearn import metrics\n",
        "from sklearn.tree import DecisionTreeClassifier\n",
        "from sklearn.ensemble import RandomForestClassifier , GradientBoostingClassifier\n",
        "from sklearn.model_selection import cross_val_score, GridSearchCV\n",
        "import seaborn as sns\n",
        "from sklearn.feature_extraction.text import TfidfVectorizer\n",
        "import string\n",
        "from gensim.models import Word2Vec\n",
        "import tensorflow as tf\n",
        "\n",
        "from tensorflow.keras.layers import Dense , SimpleRNN, Flatten ,Dropout, Input, Activation,GRU,LSTM,Conv1D\n",
        "\n",
        "from tensorflow.keras.utils import to_categorical\n",
        "from tensorflow.keras.models import Sequential\n",
        "import nltk\n",
        "nltk.download('punkt')\n",
        "nltk.download('stopwords')\n",
        "import re\n",
        "from nltk.stem import ARLSTem\n",
        "from nltk.corpus import stopwords\n",
        "from nltk.stem.porter import PorterStemmer\n",
        "from nltk.tokenize import word_tokenize\n",
        "from keras.utils import to_categorical\n",
        "\n"
      ],
      "id": "b15e44fe"
    },
    {
      "cell_type": "code",
      "execution_count": 2,
      "metadata": {
        "id": "5v8ygdvmaODv"
      },
      "outputs": [],
      "source": [
        "def get_accuracy(name, trained_model , x_train, y_train, x_test, y_test):\n",
        "    tree_predict = trained_model.predict(x_test)\n",
        "    print(\"Testing accuracy   :\",metrics.accuracy_score(y_test, tree_predict)*100 , \"%\")\n",
        "    print(\"MSE [TEST]          :\",mean_squared_error(y_test, tree_predict))\n",
        "\n",
        "\n",
        "    tree_predict1 = trained_model.predict(x_train)\n",
        "    print(\"Training accuracy  :\",metrics.accuracy_score(y_train, tree_predict1)*100 ,\"%\")\n",
        "    print(\"MSE [TRAIN]         :\",mean_squared_error(y_train, tree_predict1))\n",
        "\n",
        "    print(\"precision : \",precision_score(y_test, tree_predict,average='micro'))\n",
        "    print(\"recall    : \",recall_score(y_test, tree_predict,average='micro'))\n",
        "    print(\"f1_score  : \",f1_score(y_test, tree_predict,average='micro'))\n",
        "\n",
        "\n",
        "    cf1 = confusion_matrix(y_test,tree_predict)\n",
        "    sns.heatmap(cf1,annot=True,fmt = '.0f')\n",
        "    plt.xlabel('prediction')\n",
        "    plt.ylabel('Actual')\n",
        "    plt.title(name+ ' Confusion Matrix')\n",
        "    plt.show()\n",
        "\n",
        "    print(classification_report(y_train,  trained_model.predict(x_train)))\n",
        "    print(classification_report(y_test,  trained_model.predict(x_test)))"
      ],
      "id": "5v8ygdvmaODv"
    },
    {
      "cell_type": "code",
      "execution_count": 3,
      "metadata": {
        "id": "MxMMdJT0aVQL"
      },
      "outputs": [],
      "source": [
        "def get_accuracy_NN(name, trained_model , x_train, y_train, x_test, y_test,y_train_enc,y_test_enc):\n",
        "  loss,acc=model.evaluate(x_test,y_test_enc)\n",
        "  print(\"test loss :\", loss)\n",
        "  print('test accuracy:',acc*100)\n",
        "  print(\"____________________________\")\n",
        "  loss,acc=model.evaluate(x_train,y_train_enc)\n",
        "  print(\"trainig loss :\", loss)\n",
        "  print('trainig accuracy:',acc*100)\n",
        "  print(\"____________________________\")\n",
        "\n",
        "  pred=model.predict(x_test)\n",
        "  pred_list=[]\n",
        "  for i in pred:\n",
        "    pred_list.append(np.argmax(i))\n",
        "  cf1 = confusion_matrix(y_test,pred_list)\n",
        "  sns.heatmap(cf1,annot=True,fmt = '.0f')\n",
        "  plt.xlabel('prediction')\n",
        "  plt.ylabel('Actual')\n",
        "  plt.title(name+ ' Confusion Matrix')\n",
        "  plt.show()\n",
        "  print(\"true\")\n",
        "  print(classification_report(y_test,pred_list  ))\n",
        "  "
      ],
      "id": "MxMMdJT0aVQL"
    },
    {
      "cell_type": "code",
      "execution_count": 4,
      "metadata": {
        "id": "44612d1b"
      },
      "outputs": [],
      "source": [
        "df= pd.read_excel('/content/original_dataset.xlsx')"
      ],
      "id": "44612d1b"
    },
    {
      "cell_type": "code",
      "execution_count": 5,
      "metadata": {
        "id": "8f48b6cb"
      },
      "outputs": [],
      "source": [
        "df=pd.DataFrame(df)"
      ],
      "id": "8f48b6cb"
    },
    {
      "cell_type": "code",
      "execution_count": 6,
      "metadata": {
        "colab": {
          "base_uri": "https://localhost:8080/",
          "height": 206
        },
        "id": "ciKaUn-IcIBY",
        "outputId": "abdbb77b-6860-4a22-fc71-0d76b0dc2ff3"
      },
      "outputs": [
        {
          "output_type": "execute_result",
          "data": {
            "text/plain": [
              "   Unnamed: 0                                 review_description  rating  \\\n",
              "0           0                         سيئ جدا بعد الإصدار الجديد      -1   \n",
              "1           1                                  ابلكيشن زباله بجد      -1   \n",
              "2           2                                 سيئ التطبيق لايعمل      -1   \n",
              "3           3  للأسف التطبيق للأسوأ كان جدا رائع وسهل وبسيط ا...      -1   \n",
              "4           4                     التحديث بطيئ جدا جدا عند الفتح      -1   \n",
              "\n",
              "       company  \n",
              "0  alahli_bank  \n",
              "1  alahli_bank  \n",
              "2  alahli_bank  \n",
              "3  alahli_bank  \n",
              "4  alahli_bank  "
            ],
            "text/html": [
              "\n",
              "  <div id=\"df-6ff44341-a00a-4cae-a8d5-3ca2db536615\">\n",
              "    <div class=\"colab-df-container\">\n",
              "      <div>\n",
              "<style scoped>\n",
              "    .dataframe tbody tr th:only-of-type {\n",
              "        vertical-align: middle;\n",
              "    }\n",
              "\n",
              "    .dataframe tbody tr th {\n",
              "        vertical-align: top;\n",
              "    }\n",
              "\n",
              "    .dataframe thead th {\n",
              "        text-align: right;\n",
              "    }\n",
              "</style>\n",
              "<table border=\"1\" class=\"dataframe\">\n",
              "  <thead>\n",
              "    <tr style=\"text-align: right;\">\n",
              "      <th></th>\n",
              "      <th>Unnamed: 0</th>\n",
              "      <th>review_description</th>\n",
              "      <th>rating</th>\n",
              "      <th>company</th>\n",
              "    </tr>\n",
              "  </thead>\n",
              "  <tbody>\n",
              "    <tr>\n",
              "      <th>0</th>\n",
              "      <td>0</td>\n",
              "      <td>سيئ جدا بعد الإصدار الجديد</td>\n",
              "      <td>-1</td>\n",
              "      <td>alahli_bank</td>\n",
              "    </tr>\n",
              "    <tr>\n",
              "      <th>1</th>\n",
              "      <td>1</td>\n",
              "      <td>ابلكيشن زباله بجد</td>\n",
              "      <td>-1</td>\n",
              "      <td>alahli_bank</td>\n",
              "    </tr>\n",
              "    <tr>\n",
              "      <th>2</th>\n",
              "      <td>2</td>\n",
              "      <td>سيئ التطبيق لايعمل</td>\n",
              "      <td>-1</td>\n",
              "      <td>alahli_bank</td>\n",
              "    </tr>\n",
              "    <tr>\n",
              "      <th>3</th>\n",
              "      <td>3</td>\n",
              "      <td>للأسف التطبيق للأسوأ كان جدا رائع وسهل وبسيط ا...</td>\n",
              "      <td>-1</td>\n",
              "      <td>alahli_bank</td>\n",
              "    </tr>\n",
              "    <tr>\n",
              "      <th>4</th>\n",
              "      <td>4</td>\n",
              "      <td>التحديث بطيئ جدا جدا عند الفتح</td>\n",
              "      <td>-1</td>\n",
              "      <td>alahli_bank</td>\n",
              "    </tr>\n",
              "  </tbody>\n",
              "</table>\n",
              "</div>\n",
              "      <button class=\"colab-df-convert\" onclick=\"convertToInteractive('df-6ff44341-a00a-4cae-a8d5-3ca2db536615')\"\n",
              "              title=\"Convert this dataframe to an interactive table.\"\n",
              "              style=\"display:none;\">\n",
              "        \n",
              "  <svg xmlns=\"http://www.w3.org/2000/svg\" height=\"24px\"viewBox=\"0 0 24 24\"\n",
              "       width=\"24px\">\n",
              "    <path d=\"M0 0h24v24H0V0z\" fill=\"none\"/>\n",
              "    <path d=\"M18.56 5.44l.94 2.06.94-2.06 2.06-.94-2.06-.94-.94-2.06-.94 2.06-2.06.94zm-11 1L8.5 8.5l.94-2.06 2.06-.94-2.06-.94L8.5 2.5l-.94 2.06-2.06.94zm10 10l.94 2.06.94-2.06 2.06-.94-2.06-.94-.94-2.06-.94 2.06-2.06.94z\"/><path d=\"M17.41 7.96l-1.37-1.37c-.4-.4-.92-.59-1.43-.59-.52 0-1.04.2-1.43.59L10.3 9.45l-7.72 7.72c-.78.78-.78 2.05 0 2.83L4 21.41c.39.39.9.59 1.41.59.51 0 1.02-.2 1.41-.59l7.78-7.78 2.81-2.81c.8-.78.8-2.07 0-2.86zM5.41 20L4 18.59l7.72-7.72 1.47 1.35L5.41 20z\"/>\n",
              "  </svg>\n",
              "      </button>\n",
              "      \n",
              "  <style>\n",
              "    .colab-df-container {\n",
              "      display:flex;\n",
              "      flex-wrap:wrap;\n",
              "      gap: 12px;\n",
              "    }\n",
              "\n",
              "    .colab-df-convert {\n",
              "      background-color: #E8F0FE;\n",
              "      border: none;\n",
              "      border-radius: 50%;\n",
              "      cursor: pointer;\n",
              "      display: none;\n",
              "      fill: #1967D2;\n",
              "      height: 32px;\n",
              "      padding: 0 0 0 0;\n",
              "      width: 32px;\n",
              "    }\n",
              "\n",
              "    .colab-df-convert:hover {\n",
              "      background-color: #E2EBFA;\n",
              "      box-shadow: 0px 1px 2px rgba(60, 64, 67, 0.3), 0px 1px 3px 1px rgba(60, 64, 67, 0.15);\n",
              "      fill: #174EA6;\n",
              "    }\n",
              "\n",
              "    [theme=dark] .colab-df-convert {\n",
              "      background-color: #3B4455;\n",
              "      fill: #D2E3FC;\n",
              "    }\n",
              "\n",
              "    [theme=dark] .colab-df-convert:hover {\n",
              "      background-color: #434B5C;\n",
              "      box-shadow: 0px 1px 3px 1px rgba(0, 0, 0, 0.15);\n",
              "      filter: drop-shadow(0px 1px 2px rgba(0, 0, 0, 0.3));\n",
              "      fill: #FFFFFF;\n",
              "    }\n",
              "  </style>\n",
              "\n",
              "      <script>\n",
              "        const buttonEl =\n",
              "          document.querySelector('#df-6ff44341-a00a-4cae-a8d5-3ca2db536615 button.colab-df-convert');\n",
              "        buttonEl.style.display =\n",
              "          google.colab.kernel.accessAllowed ? 'block' : 'none';\n",
              "\n",
              "        async function convertToInteractive(key) {\n",
              "          const element = document.querySelector('#df-6ff44341-a00a-4cae-a8d5-3ca2db536615');\n",
              "          const dataTable =\n",
              "            await google.colab.kernel.invokeFunction('convertToInteractive',\n",
              "                                                     [key], {});\n",
              "          if (!dataTable) return;\n",
              "\n",
              "          const docLinkHtml = 'Like what you see? Visit the ' +\n",
              "            '<a target=\"_blank\" href=https://colab.research.google.com/notebooks/data_table.ipynb>data table notebook</a>'\n",
              "            + ' to learn more about interactive tables.';\n",
              "          element.innerHTML = '';\n",
              "          dataTable['output_type'] = 'display_data';\n",
              "          await google.colab.output.renderOutput(dataTable, element);\n",
              "          const docLink = document.createElement('div');\n",
              "          docLink.innerHTML = docLinkHtml;\n",
              "          element.appendChild(docLink);\n",
              "        }\n",
              "      </script>\n",
              "    </div>\n",
              "  </div>\n",
              "  "
            ]
          },
          "metadata": {},
          "execution_count": 6
        }
      ],
      "source": [
        "df.head()"
      ],
      "id": "ciKaUn-IcIBY"
    },
    {
      "cell_type": "code",
      "execution_count": 7,
      "metadata": {
        "colab": {
          "base_uri": "https://localhost:8080/"
        },
        "id": "e38942ba",
        "outputId": "ec2ef526-e0fc-4995-aaf0-41bb1dba6f22"
      },
      "outputs": [
        {
          "output_type": "stream",
          "name": "stdout",
          "text": [
            "(67127, 4)\n",
            "(67125, 4)\n"
          ]
        }
      ],
      "source": [
        "print(df.shape)\n",
        "df=df.dropna()\n",
        "df=df.drop_duplicates()\n",
        "print(df.shape)"
      ],
      "id": "e38942ba"
    },
    {
      "cell_type": "markdown",
      "metadata": {
        "id": "TyjYupuzcuhz"
      },
      "source": [
        "# **data visualization**"
      ],
      "id": "TyjYupuzcuhz"
    },
    {
      "cell_type": "code",
      "execution_count": 8,
      "metadata": {
        "colab": {
          "base_uri": "https://localhost:8080/",
          "height": 346
        },
        "id": "1555b323",
        "outputId": "8a8f70b3-7b67-4d78-8021-ac6992c23e29"
      },
      "outputs": [
        {
          "output_type": "execute_result",
          "data": {
            "text/plain": [
              "<AxesSubplot:>"
            ]
          },
          "metadata": {},
          "execution_count": 8
        },
        {
          "output_type": "display_data",
          "data": {
            "text/plain": [
              "<Figure size 432x288 with 1 Axes>"
            ],
            "image/png": "[encoded data removed]"
          },
          "metadata": {
            "needs_background": "light"
          }
        }
      ],
      "source": [
        "df.company.value_counts().plot(kind='bar')"
      ],
      "id": "1555b323"
    },
    {
      "cell_type": "code",
      "execution_count": 9,
      "metadata": {
        "colab": {
          "base_uri": "https://localhost:8080/",
          "height": 542
        },
        "id": "4FUR3q51DYyo",
        "outputId": "24f44540-f318-436e-b523-537fef995dfa"
      },
      "outputs": [
        {
          "output_type": "display_data",
          "data": {
            "text/html": [
              "<html>\n",
              "<head><meta charset=\"utf-8\" /></head>\n",
              "<body>\n",
              "    <div>            <script src=\"https://cdnjs.cloudflare.com/ajax/libs/mathjax/2.7.5/MathJax.js?config=TeX-AMS-MML_SVG\"></script><script type=\"text/javascript\">if (window.MathJax) {MathJax.Hub.Config({SVG: {font: \"STIX-Web\"}});}</script>                <script type=\"text/javascript\">window.PlotlyConfig = {MathJaxConfig: 'local'};</script>\n",
              "        <script src=\"https://cdn.plot.ly/plotly-2.8.3.min.js\"></script>                <div id=\"971a45a6-92f9-4753-abd1-7b9ca546e9e3\" class=\"plotly-graph-div\" style=\"height:525px; width:100%;\"></div>            <script type=\"text/javascript\">                                    window.PLOTLYENV=window.PLOTLYENV || {};                                    if (document.getElementById(\"971a45a6-92f9-4753-abd1-7b9ca546e9e3\")) {                    Plotly.newPlot(                        \"971a45a6-92f9-4753-abd1-7b9ca546e9e3\",                        [{\"branchvalues\":\"total\",\"domain\":{\"x\":[0.0,1.0],\"y\":[0.0,1.0]},\"hovertemplate\":\"labels=%{label}<br>count=%{value}<br>parent=%{parent}<br>id=%{id}<extra></extra>\",\"ids\":[\"-1\",\"0\",\"1\"],\"labels\":[\"-1\",\"0\",\"1\"],\"name\":\"\",\"parents\":[\"\",\"\",\"\"],\"values\":[23035,23751,20339],\"type\":\"sunburst\",\"textinfo\":\"label+percent parent\"}],                        {\"template\":{\"data\":{\"bar\":[{\"error_x\":{\"color\":\"#2a3f5f\"},\"error_y\":{\"color\":\"#2a3f5f\"},\"marker\":{\"line\":{\"color\":\"#E5ECF6\",\"width\":0.5},\"pattern\":{\"fillmode\":\"overlay\",\"size\":10,\"solidity\":0.2}},\"type\":\"bar\"}],\"barpolar\":[{\"marker\":{\"line\":{\"color\":\"#E5ECF6\",\"width\":0.5},\"pattern\":{\"fillmode\":\"overlay\",\"size\":10,\"solidity\":0.2}},\"type\":\"barpolar\"}],\"carpet\":[{\"aaxis\":{\"endlinecolor\":\"#2a3f5f\",\"gridcolor\":\"white\",\"linecolor\":\"white\",\"minorgridcolor\":\"white\",\"startlinecolor\":\"#2a3f5f\"},\"baxis\":{\"endlinecolor\":\"#2a3f5f\",\"gridcolor\":\"white\",\"linecolor\":\"white\",\"minorgridcolor\":\"white\",\"startlinecolor\":\"#2a3f5f\"},\"type\":\"carpet\"}],\"choropleth\":[{\"colorbar\":{\"outlinewidth\":0,\"ticks\":\"\"},\"type\":\"choropleth\"}],\"contour\":[{\"colorbar\":{\"outlinewidth\":0,\"ticks\":\"\"},\"colorscale\":[[0.0,\"#0d0887\"],[0.1111111111111111,\"#46039f\"],[0.2222222222222222,\"#7201a8\"],[0.3333333333333333,\"#9c179e\"],[0.4444444444444444,\"#bd3786\"],[0.5555555555555556,\"#d8576b\"],[0.6666666666666666,\"#ed7953\"],[0.7777777777777778,\"#fb9f3a\"],[0.8888888888888888,\"#fdca26\"],[1.0,\"#f0f921\"]],\"type\":\"contour\"}],\"contourcarpet\":[{\"colorbar\":{\"outlinewidth\":0,\"ticks\":\"\"},\"type\":\"contourcarpet\"}],\"heatmap\":[{\"colorbar\":{\"outlinewidth\":0,\"ticks\":\"\"},\"colorscale\":[[0.0,\"#0d0887\"],[0.1111111111111111,\"#46039f\"],[0.2222222222222222,\"#7201a8\"],[0.3333333333333333,\"#9c179e\"],[0.4444444444444444,\"#bd3786\"],[0.5555555555555556,\"#d8576b\"],[0.6666666666666666,\"#ed7953\"],[0.7777777777777778,\"#fb9f3a\"],[0.8888888888888888,\"#fdca26\"],[1.0,\"#f0f921\"]],\"type\":\"heatmap\"}],\"heatmapgl\":[{\"colorbar\":{\"outlinewidth\":0,\"ticks\":\"\"},\"colorscale\":[[0.0,\"#0d0887\"],[0.1111111111111111,\"#46039f\"],[0.2222222222222222,\"#7201a8\"],[0.3333333333333333,\"#9c179e\"],[0.4444444444444444,\"#bd3786\"],[0.5555555555555556,\"#d8576b\"],[0.6666666666666666,\"#ed7953\"],[0.7777777777777778,\"#fb9f3a\"],[0.8888888888888888,\"#fdca26\"],[1.0,\"#f0f921\"]],\"type\":\"heatmapgl\"}],\"histogram\":[{\"marker\":{\"pattern\":{\"fillmode\":\"overlay\",\"size\":10,\"solidity\":0.2}},\"type\":\"histogram\"}],\"histogram2d\":[{\"colorbar\":{\"outlinewidth\":0,\"ticks\":\"\"},\"colorscale\":[[0.0,\"#0d0887\"],[0.1111111111111111,\"#46039f\"],[0.2222222222222222,\"#7201a8\"],[0.3333333333333333,\"#9c179e\"],[0.4444444444444444,\"#bd3786\"],[0.5555555555555556,\"#d8576b\"],[0.6666666666666666,\"#ed7953\"],[0.7777777777777778,\"#fb9f3a\"],[0.8888888888888888,\"#fdca26\"],[1.0,\"#f0f921\"]],\"type\":\"histogram2d\"}],\"histogram2dcontour\":[{\"colorbar\":{\"outlinewidth\":0,\"ticks\":\"\"},\"colorscale\":[[0.0,\"#0d0887\"],[0.1111111111111111,\"#46039f\"],[0.2222222222222222,\"#7201a8\"],[0.3333333333333333,\"#9c179e\"],[0.4444444444444444,\"#bd3786\"],[0.5555555555555556,\"#d8576b\"],[0.6666666666666666,\"#ed7953\"],[0.7777777777777778,\"#fb9f3a\"],[0.8888888888888888,\"#fdca26\"],[1.0,\"#f0f921\"]],\"type\":\"histogram2dcontour\"}],\"mesh3d\":[{\"colorbar\":{\"outlinewidth\":0,\"ticks\":\"\"},\"type\":\"mesh3d\"}],\"parcoords\":[{\"line\":{\"colorbar\":{\"outlinewidth\":0,\"ticks\":\"\"}},\"type\":\"parcoords\"}],\"pie\":[{\"automargin\":true,\"type\":\"pie\"}],\"scatter\":[{\"marker\":{\"colorbar\":{\"outlinewidth\":0,\"ticks\":\"\"}},\"type\":\"scatter\"}],\"scatter3d\":[{\"line\":{\"colorbar\":{\"outlinewidth\":0,\"ticks\":\"\"}},\"marker\":{\"colorbar\":{\"outlinewidth\":0,\"ticks\":\"\"}},\"type\":\"scatter3d\"}],\"scattercarpet\":[{\"marker\":{\"colorbar\":{\"outlinewidth\":0,\"ticks\":\"\"}},\"type\":\"scattercarpet\"}],\"scattergeo\":[{\"marker\":{\"colorbar\":{\"outlinewidth\":0,\"ticks\":\"\"}},\"type\":\"scattergeo\"}],\"scattergl\":[{\"marker\":{\"colorbar\":{\"outlinewidth\":0,\"ticks\":\"\"}},\"type\":\"scattergl\"}],\"scattermapbox\":[{\"marker\":{\"colorbar\":{\"outlinewidth\":0,\"ticks\":\"\"}},\"type\":\"scattermapbox\"}],\"scatterpolar\":[{\"marker\":{\"colorbar\":{\"outlinewidth\":0,\"ticks\":\"\"}},\"type\":\"scatterpolar\"}],\"scatterpolargl\":[{\"marker\":{\"colorbar\":{\"outlinewidth\":0,\"ticks\":\"\"}},\"type\":\"scatterpolargl\"}],\"scatterternary\":[{\"marker\":{\"colorbar\":{\"outlinewidth\":0,\"ticks\":\"\"}},\"type\":\"scatterternary\"}],\"surface\":[{\"colorbar\":{\"outlinewidth\":0,\"ticks\":\"\"},\"colorscale\":[[0.0,\"#0d0887\"],[0.1111111111111111,\"#46039f\"],[0.2222222222222222,\"#7201a8\"],[0.3333333333333333,\"#9c179e\"],[0.4444444444444444,\"#bd3786\"],[0.5555555555555556,\"#d8576b\"],[0.6666666666666666,\"#ed7953\"],[0.7777777777777778,\"#fb9f3a\"],[0.8888888888888888,\"#fdca26\"],[1.0,\"#f0f921\"]],\"type\":\"surface\"}],\"table\":[{\"cells\":{\"fill\":{\"color\":\"#EBF0F8\"},\"line\":{\"color\":\"white\"}},\"header\":{\"fill\":{\"color\":\"#C8D4E3\"},\"line\":{\"color\":\"white\"}},\"type\":\"table\"}]},\"layout\":{\"annotationdefaults\":{\"arrowcolor\":\"#2a3f5f\",\"arrowhead\":0,\"arrowwidth\":1},\"autotypenumbers\":\"strict\",\"coloraxis\":{\"colorbar\":{\"outlinewidth\":0,\"ticks\":\"\"}},\"colorscale\":{\"diverging\":[[0,\"#8e0152\"],[0.1,\"#c51b7d\"],[0.2,\"#de77ae\"],[0.3,\"#f1b6da\"],[0.4,\"#fde0ef\"],[0.5,\"#f7f7f7\"],[0.6,\"#e6f5d0\"],[0.7,\"#b8e186\"],[0.8,\"#7fbc41\"],[0.9,\"#4d9221\"],[1,\"#276419\"]],\"sequential\":[[0.0,\"#0d0887\"],[0.1111111111111111,\"#46039f\"],[0.2222222222222222,\"#7201a8\"],[0.3333333333333333,\"#9c179e\"],[0.4444444444444444,\"#bd3786\"],[0.5555555555555556,\"#d8576b\"],[0.6666666666666666,\"#ed7953\"],[0.7777777777777778,\"#fb9f3a\"],[0.8888888888888888,\"#fdca26\"],[1.0,\"#f0f921\"]],\"sequentialminus\":[[0.0,\"#0d0887\"],[0.1111111111111111,\"#46039f\"],[0.2222222222222222,\"#7201a8\"],[0.3333333333333333,\"#9c179e\"],[0.4444444444444444,\"#bd3786\"],[0.5555555555555556,\"#d8576b\"],[0.6666666666666666,\"#ed7953\"],[0.7777777777777778,\"#fb9f3a\"],[0.8888888888888888,\"#fdca26\"],[1.0,\"#f0f921\"]]},\"colorway\":[\"#636efa\",\"#EF553B\",\"#00cc96\",\"#ab63fa\",\"#FFA15A\",\"#19d3f3\",\"#FF6692\",\"#B6E880\",\"#FF97FF\",\"#FECB52\"],\"font\":{\"color\":\"#2a3f5f\"},\"geo\":{\"bgcolor\":\"white\",\"lakecolor\":\"white\",\"landcolor\":\"#E5ECF6\",\"showlakes\":true,\"showland\":true,\"subunitcolor\":\"white\"},\"hoverlabel\":{\"align\":\"left\"},\"hovermode\":\"closest\",\"mapbox\":{\"style\":\"light\"},\"paper_bgcolor\":\"white\",\"plot_bgcolor\":\"#E5ECF6\",\"polar\":{\"angularaxis\":{\"gridcolor\":\"white\",\"linecolor\":\"white\",\"ticks\":\"\"},\"bgcolor\":\"#E5ECF6\",\"radialaxis\":{\"gridcolor\":\"white\",\"linecolor\":\"white\",\"ticks\":\"\"}},\"scene\":{\"xaxis\":{\"backgroundcolor\":\"#E5ECF6\",\"gridcolor\":\"white\",\"gridwidth\":2,\"linecolor\":\"white\",\"showbackground\":true,\"ticks\":\"\",\"zerolinecolor\":\"white\"},\"yaxis\":{\"backgroundcolor\":\"#E5ECF6\",\"gridcolor\":\"white\",\"gridwidth\":2,\"linecolor\":\"white\",\"showbackground\":true,\"ticks\":\"\",\"zerolinecolor\":\"white\"},\"zaxis\":{\"backgroundcolor\":\"#E5ECF6\",\"gridcolor\":\"white\",\"gridwidth\":2,\"linecolor\":\"white\",\"showbackground\":true,\"ticks\":\"\",\"zerolinecolor\":\"white\"}},\"shapedefaults\":{\"line\":{\"color\":\"#2a3f5f\"}},\"ternary\":{\"aaxis\":{\"gridcolor\":\"white\",\"linecolor\":\"white\",\"ticks\":\"\"},\"baxis\":{\"gridcolor\":\"white\",\"linecolor\":\"white\",\"ticks\":\"\"},\"bgcolor\":\"#E5ECF6\",\"caxis\":{\"gridcolor\":\"white\",\"linecolor\":\"white\",\"ticks\":\"\"}},\"title\":{\"x\":0.05},\"xaxis\":{\"automargin\":true,\"gridcolor\":\"white\",\"linecolor\":\"white\",\"ticks\":\"\",\"title\":{\"standoff\":15},\"zerolinecolor\":\"white\",\"zerolinewidth\":2},\"yaxis\":{\"automargin\":true,\"gridcolor\":\"white\",\"linecolor\":\"white\",\"ticks\":\"\",\"title\":{\"standoff\":15},\"zerolinecolor\":\"white\",\"zerolinewidth\":2}}},\"legend\":{\"tracegroupgap\":0},\"title\":{\"text\":\" rating\"}},                        {\"responsive\": true}                    ).then(function(){\n",
              "                            \n",
              "var gd = document.getElementById('971a45a6-92f9-4753-abd1-7b9ca546e9e3');\n",
              "var x = new MutationObserver(function (mutations, observer) {{\n",
              "        var display = window.getComputedStyle(gd).display;\n",
              "        if (!display || display === 'none') {{\n",
              "            console.log([gd, 'removed!']);\n",
              "            Plotly.purge(gd);\n",
              "            observer.disconnect();\n",
              "        }}\n",
              "}});\n",
              "\n",
              "// Listen for the removal of the full notebook cells\n",
              "var notebookContainer = gd.closest('#notebook-container');\n",
              "if (notebookContainer) {{\n",
              "    x.observe(notebookContainer, {childList: true});\n",
              "}}\n",
              "\n",
              "// Listen for the clearing of the current output cell\n",
              "var outputEl = gd.closest('.output');\n",
              "if (outputEl) {{\n",
              "    x.observe(outputEl, {childList: true});\n",
              "}}\n",
              "\n",
              "                        })                };                            </script>        </div>\n",
              "</body>\n",
              "</html>"
            ]
          },
          "metadata": {}
        }
      ],
      "source": [
        "fig = px.sunburst(df, path=['rating'],title= ' rating')\n",
        "fig.update_traces(textinfo='label + percent parent')"
      ],
      "id": "4FUR3q51DYyo"
    },
    {
      "cell_type": "code",
      "execution_count": 10,
      "metadata": {
        "colab": {
          "base_uri": "https://localhost:8080/",
          "height": 386
        },
        "id": "sTBcPpW8Dqzf",
        "outputId": "59cdce91-32ed-4d6b-fa60-96f0352c918f"
      },
      "outputs": [
        {
          "output_type": "stream",
          "name": "stderr",
          "text": [
            "/usr/local/lib/python3.8/dist-packages/seaborn/_decorators.py:36: FutureWarning:\n",
            "\n",
            "Pass the following variable as a keyword arg: x. From version 0.12, the only valid positional argument will be `data`, and passing other arguments without an explicit keyword will result in an error or misinterpretation.\n",
            "\n"
          ]
        },
        {
          "output_type": "execute_result",
          "data": {
            "text/plain": [
              "<AxesSubplot:xlabel='rating', ylabel='count'>"
            ]
          },
          "metadata": {},
          "execution_count": 10
        },
        {
          "output_type": "display_data",
          "data": {
            "text/plain": [
              "<Figure size 432x288 with 1 Axes>"
            ],
            "image/png": "[encoded data removed]"
          },
          "metadata": {
            "needs_background": "light"
          }
        }
      ],
      "source": [
        "sns.countplot(df.rating)"
      ],
      "id": "sTBcPpW8Dqzf"
    },
    {
      "cell_type": "code",
      "execution_count": 11,
      "metadata": {
        "colab": {
          "base_uri": "https://localhost:8080/",
          "height": 542
        },
        "id": "G0pi9YWdDab1",
        "outputId": "da50b280-c58b-4c69-e14a-c2f09302134d"
      },
      "outputs": [
        {
          "output_type": "display_data",
          "data": {
            "text/html": [
              "<html>\n",
              "<head><meta charset=\"utf-8\" /></head>\n",
              "<body>\n",
              "    <div>            <script src=\"https://cdnjs.cloudflare.com/ajax/libs/mathjax/2.7.5/MathJax.js?config=TeX-AMS-MML_SVG\"></script><script type=\"text/javascript\">if (window.MathJax) {MathJax.Hub.Config({SVG: {font: \"STIX-Web\"}});}</script>                <script type=\"text/javascript\">window.PlotlyConfig = {MathJaxConfig: 'local'};</script>\n",
              "        <script src=\"https://cdn.plot.ly/plotly-2.8.3.min.js\"></script>                <div id=\"74e648c4-c868-4351-9d19-1e2afef5ce0a\" class=\"plotly-graph-div\" style=\"height:525px; width:100%;\"></div>            <script type=\"text/javascript\">                                    window.PLOTLYENV=window.PLOTLYENV || {};                                    if (document.getElementById(\"74e648c4-c868-4351-9d19-1e2afef5ce0a\")) {                    Plotly.newPlot(                        \"74e648c4-c868-4351-9d19-1e2afef5ce0a\",                        [{\"branchvalues\":\"total\",\"domain\":{\"x\":[0.0,1.0],\"y\":[0.0,1.0]},\"hovertemplate\":\"labels=%{label}<br>count=%{value}<br>parent=%{parent}<br>id=%{id}<extra></extra>\",\"ids\":[\"Raya/-1\",\"alahli_bank/-1\",\"hilton/-1\",\"swvl/-1\",\"talbat/-1\",\"telecom_egypt/-1\",\"venus/-1\",\"Raya/0\",\"alahli_bank/0\",\"hilton/0\",\"hotels/0\",\"swvl/0\",\"talbat/0\",\"telecom_egypt/0\",\"venus/0\",\"Raya/1\",\"alahli_bank/1\",\"hilton/1\",\"swvl/1\",\"talbat/1\",\"telecom_egypt/1\",\"venus/1\",\"Raya\",\"alahli_bank\",\"hilton\",\"hotels\",\"swvl\",\"talbat\",\"telecom_egypt\",\"venus\"],\"labels\":[\"-1\",\"-1\",\"-1\",\"-1\",\"-1\",\"-1\",\"-1\",\"0\",\"0\",\"0\",\"0\",\"0\",\"0\",\"0\",\"0\",\"1\",\"1\",\"1\",\"1\",\"1\",\"1\",\"1\",\"Raya\",\"alahli_bank\",\"hilton\",\"hotels\",\"swvl\",\"talbat\",\"telecom_egypt\",\"venus\"],\"name\":\"\",\"parents\":[\"Raya\",\"alahli_bank\",\"hilton\",\"swvl\",\"talbat\",\"telecom_egypt\",\"venus\",\"Raya\",\"alahli_bank\",\"hilton\",\"hotels\",\"swvl\",\"talbat\",\"telecom_egypt\",\"venus\",\"Raya\",\"alahli_bank\",\"hilton\",\"swvl\",\"talbat\",\"telecom_egypt\",\"venus\",\"\",\"\",\"\",\"\",\"\",\"\",\"\",\"\"],\"values\":[164,9202,24,1770,10657,1141,77,8,405,6,19998,418,2749,128,39,46,212,21,1938,17542,480,100,218,9819,51,19998,4126,30948,1749,216],\"type\":\"sunburst\",\"textinfo\":\"label+percent parent\"}],                        {\"template\":{\"data\":{\"bar\":[{\"error_x\":{\"color\":\"#2a3f5f\"},\"error_y\":{\"color\":\"#2a3f5f\"},\"marker\":{\"line\":{\"color\":\"#E5ECF6\",\"width\":0.5},\"pattern\":{\"fillmode\":\"overlay\",\"size\":10,\"solidity\":0.2}},\"type\":\"bar\"}],\"barpolar\":[{\"marker\":{\"line\":{\"color\":\"#E5ECF6\",\"width\":0.5},\"pattern\":{\"fillmode\":\"overlay\",\"size\":10,\"solidity\":0.2}},\"type\":\"barpolar\"}],\"carpet\":[{\"aaxis\":{\"endlinecolor\":\"#2a3f5f\",\"gridcolor\":\"white\",\"linecolor\":\"white\",\"minorgridcolor\":\"white\",\"startlinecolor\":\"#2a3f5f\"},\"baxis\":{\"endlinecolor\":\"#2a3f5f\",\"gridcolor\":\"white\",\"linecolor\":\"white\",\"minorgridcolor\":\"white\",\"startlinecolor\":\"#2a3f5f\"},\"type\":\"carpet\"}],\"choropleth\":[{\"colorbar\":{\"outlinewidth\":0,\"ticks\":\"\"},\"type\":\"choropleth\"}],\"contour\":[{\"colorbar\":{\"outlinewidth\":0,\"ticks\":\"\"},\"colorscale\":[[0.0,\"#0d0887\"],[0.1111111111111111,\"#46039f\"],[0.2222222222222222,\"#7201a8\"],[0.3333333333333333,\"#9c179e\"],[0.4444444444444444,\"#bd3786\"],[0.5555555555555556,\"#d8576b\"],[0.6666666666666666,\"#ed7953\"],[0.7777777777777778,\"#fb9f3a\"],[0.8888888888888888,\"#fdca26\"],[1.0,\"#f0f921\"]],\"type\":\"contour\"}],\"contourcarpet\":[{\"colorbar\":{\"outlinewidth\":0,\"ticks\":\"\"},\"type\":\"contourcarpet\"}],\"heatmap\":[{\"colorbar\":{\"outlinewidth\":0,\"ticks\":\"\"},\"colorscale\":[[0.0,\"#0d0887\"],[0.1111111111111111,\"#46039f\"],[0.2222222222222222,\"#7201a8\"],[0.3333333333333333,\"#9c179e\"],[0.4444444444444444,\"#bd3786\"],[0.5555555555555556,\"#d8576b\"],[0.6666666666666666,\"#ed7953\"],[0.7777777777777778,\"#fb9f3a\"],[0.8888888888888888,\"#fdca26\"],[1.0,\"#f0f921\"]],\"type\":\"heatmap\"}],\"heatmapgl\":[{\"colorbar\":{\"outlinewidth\":0,\"ticks\":\"\"},\"colorscale\":[[0.0,\"#0d0887\"],[0.1111111111111111,\"#46039f\"],[0.2222222222222222,\"#7201a8\"],[0.3333333333333333,\"#9c179e\"],[0.4444444444444444,\"#bd3786\"],[0.5555555555555556,\"#d8576b\"],[0.6666666666666666,\"#ed7953\"],[0.7777777777777778,\"#fb9f3a\"],[0.8888888888888888,\"#fdca26\"],[1.0,\"#f0f921\"]],\"type\":\"heatmapgl\"}],\"histogram\":[{\"marker\":{\"pattern\":{\"fillmode\":\"overlay\",\"size\":10,\"solidity\":0.2}},\"type\":\"histogram\"}],\"histogram2d\":[{\"colorbar\":{\"outlinewidth\":0,\"ticks\":\"\"},\"colorscale\":[[0.0,\"#0d0887\"],[0.1111111111111111,\"#46039f\"],[0.2222222222222222,\"#7201a8\"],[0.3333333333333333,\"#9c179e\"],[0.4444444444444444,\"#bd3786\"],[0.5555555555555556,\"#d8576b\"],[0.6666666666666666,\"#ed7953\"],[0.7777777777777778,\"#fb9f3a\"],[0.8888888888888888,\"#fdca26\"],[1.0,\"#f0f921\"]],\"type\":\"histogram2d\"}],\"histogram2dcontour\":[{\"colorbar\":{\"outlinewidth\":0,\"ticks\":\"\"},\"colorscale\":[[0.0,\"#0d0887\"],[0.1111111111111111,\"#46039f\"],[0.2222222222222222,\"#7201a8\"],[0.3333333333333333,\"#9c179e\"],[0.4444444444444444,\"#bd3786\"],[0.5555555555555556,\"#d8576b\"],[0.6666666666666666,\"#ed7953\"],[0.7777777777777778,\"#fb9f3a\"],[0.8888888888888888,\"#fdca26\"],[1.0,\"#f0f921\"]],\"type\":\"histogram2dcontour\"}],\"mesh3d\":[{\"colorbar\":{\"outlinewidth\":0,\"ticks\":\"\"},\"type\":\"mesh3d\"}],\"parcoords\":[{\"line\":{\"colorbar\":{\"outlinewidth\":0,\"ticks\":\"\"}},\"type\":\"parcoords\"}],\"pie\":[{\"automargin\":true,\"type\":\"pie\"}],\"scatter\":[{\"marker\":{\"colorbar\":{\"outlinewidth\":0,\"ticks\":\"\"}},\"type\":\"scatter\"}],\"scatter3d\":[{\"line\":{\"colorbar\":{\"outlinewidth\":0,\"ticks\":\"\"}},\"marker\":{\"colorbar\":{\"outlinewidth\":0,\"ticks\":\"\"}},\"type\":\"scatter3d\"}],\"scattercarpet\":[{\"marker\":{\"colorbar\":{\"outlinewidth\":0,\"ticks\":\"\"}},\"type\":\"scattercarpet\"}],\"scattergeo\":[{\"marker\":{\"colorbar\":{\"outlinewidth\":0,\"ticks\":\"\"}},\"type\":\"scattergeo\"}],\"scattergl\":[{\"marker\":{\"colorbar\":{\"outlinewidth\":0,\"ticks\":\"\"}},\"type\":\"scattergl\"}],\"scattermapbox\":[{\"marker\":{\"colorbar\":{\"outlinewidth\":0,\"ticks\":\"\"}},\"type\":\"scattermapbox\"}],\"scatterpolar\":[{\"marker\":{\"colorbar\":{\"outlinewidth\":0,\"ticks\":\"\"}},\"type\":\"scatterpolar\"}],\"scatterpolargl\":[{\"marker\":{\"colorbar\":{\"outlinewidth\":0,\"ticks\":\"\"}},\"type\":\"scatterpolargl\"}],\"scatterternary\":[{\"marker\":{\"colorbar\":{\"outlinewidth\":0,\"ticks\":\"\"}},\"type\":\"scatterternary\"}],\"surface\":[{\"colorbar\":{\"outlinewidth\":0,\"ticks\":\"\"},\"colorscale\":[[0.0,\"#0d0887\"],[0.1111111111111111,\"#46039f\"],[0.2222222222222222,\"#7201a8\"],[0.3333333333333333,\"#9c179e\"],[0.4444444444444444,\"#bd3786\"],[0.5555555555555556,\"#d8576b\"],[0.6666666666666666,\"#ed7953\"],[0.7777777777777778,\"#fb9f3a\"],[0.8888888888888888,\"#fdca26\"],[1.0,\"#f0f921\"]],\"type\":\"surface\"}],\"table\":[{\"cells\":{\"fill\":{\"color\":\"#EBF0F8\"},\"line\":{\"color\":\"white\"}},\"header\":{\"fill\":{\"color\":\"#C8D4E3\"},\"line\":{\"color\":\"white\"}},\"type\":\"table\"}]},\"layout\":{\"annotationdefaults\":{\"arrowcolor\":\"#2a3f5f\",\"arrowhead\":0,\"arrowwidth\":1},\"autotypenumbers\":\"strict\",\"coloraxis\":{\"colorbar\":{\"outlinewidth\":0,\"ticks\":\"\"}},\"colorscale\":{\"diverging\":[[0,\"#8e0152\"],[0.1,\"#c51b7d\"],[0.2,\"#de77ae\"],[0.3,\"#f1b6da\"],[0.4,\"#fde0ef\"],[0.5,\"#f7f7f7\"],[0.6,\"#e6f5d0\"],[0.7,\"#b8e186\"],[0.8,\"#7fbc41\"],[0.9,\"#4d9221\"],[1,\"#276419\"]],\"sequential\":[[0.0,\"#0d0887\"],[0.1111111111111111,\"#46039f\"],[0.2222222222222222,\"#7201a8\"],[0.3333333333333333,\"#9c179e\"],[0.4444444444444444,\"#bd3786\"],[0.5555555555555556,\"#d8576b\"],[0.6666666666666666,\"#ed7953\"],[0.7777777777777778,\"#fb9f3a\"],[0.8888888888888888,\"#fdca26\"],[1.0,\"#f0f921\"]],\"sequentialminus\":[[0.0,\"#0d0887\"],[0.1111111111111111,\"#46039f\"],[0.2222222222222222,\"#7201a8\"],[0.3333333333333333,\"#9c179e\"],[0.4444444444444444,\"#bd3786\"],[0.5555555555555556,\"#d8576b\"],[0.6666666666666666,\"#ed7953\"],[0.7777777777777778,\"#fb9f3a\"],[0.8888888888888888,\"#fdca26\"],[1.0,\"#f0f921\"]]},\"colorway\":[\"#636efa\",\"#EF553B\",\"#00cc96\",\"#ab63fa\",\"#FFA15A\",\"#19d3f3\",\"#FF6692\",\"#B6E880\",\"#FF97FF\",\"#FECB52\"],\"font\":{\"color\":\"#2a3f5f\"},\"geo\":{\"bgcolor\":\"white\",\"lakecolor\":\"white\",\"landcolor\":\"#E5ECF6\",\"showlakes\":true,\"showland\":true,\"subunitcolor\":\"white\"},\"hoverlabel\":{\"align\":\"left\"},\"hovermode\":\"closest\",\"mapbox\":{\"style\":\"light\"},\"paper_bgcolor\":\"white\",\"plot_bgcolor\":\"#E5ECF6\",\"polar\":{\"angularaxis\":{\"gridcolor\":\"white\",\"linecolor\":\"white\",\"ticks\":\"\"},\"bgcolor\":\"#E5ECF6\",\"radialaxis\":{\"gridcolor\":\"white\",\"linecolor\":\"white\",\"ticks\":\"\"}},\"scene\":{\"xaxis\":{\"backgroundcolor\":\"#E5ECF6\",\"gridcolor\":\"white\",\"gridwidth\":2,\"linecolor\":\"white\",\"showbackground\":true,\"ticks\":\"\",\"zerolinecolor\":\"white\"},\"yaxis\":{\"backgroundcolor\":\"#E5ECF6\",\"gridcolor\":\"white\",\"gridwidth\":2,\"linecolor\":\"white\",\"showbackground\":true,\"ticks\":\"\",\"zerolinecolor\":\"white\"},\"zaxis\":{\"backgroundcolor\":\"#E5ECF6\",\"gridcolor\":\"white\",\"gridwidth\":2,\"linecolor\":\"white\",\"showbackground\":true,\"ticks\":\"\",\"zerolinecolor\":\"white\"}},\"shapedefaults\":{\"line\":{\"color\":\"#2a3f5f\"}},\"ternary\":{\"aaxis\":{\"gridcolor\":\"white\",\"linecolor\":\"white\",\"ticks\":\"\"},\"baxis\":{\"gridcolor\":\"white\",\"linecolor\":\"white\",\"ticks\":\"\"},\"bgcolor\":\"#E5ECF6\",\"caxis\":{\"gridcolor\":\"white\",\"linecolor\":\"white\",\"ticks\":\"\"}},\"title\":{\"x\":0.05},\"xaxis\":{\"automargin\":true,\"gridcolor\":\"white\",\"linecolor\":\"white\",\"ticks\":\"\",\"title\":{\"standoff\":15},\"zerolinecolor\":\"white\",\"zerolinewidth\":2},\"yaxis\":{\"automargin\":true,\"gridcolor\":\"white\",\"linecolor\":\"white\",\"ticks\":\"\",\"title\":{\"standoff\":15},\"zerolinecolor\":\"white\",\"zerolinewidth\":2}}},\"legend\":{\"tracegroupgap\":0},\"title\":{\"text\":\"Relation between company and rating\"}},                        {\"responsive\": true}                    ).then(function(){\n",
              "                            \n",
              "var gd = document.getElementById('74e648c4-c868-4351-9d19-1e2afef5ce0a');\n",
              "var x = new MutationObserver(function (mutations, observer) {{\n",
              "        var display = window.getComputedStyle(gd).display;\n",
              "        if (!display || display === 'none') {{\n",
              "            console.log([gd, 'removed!']);\n",
              "            Plotly.purge(gd);\n",
              "            observer.disconnect();\n",
              "        }}\n",
              "}});\n",
              "\n",
              "// Listen for the removal of the full notebook cells\n",
              "var notebookContainer = gd.closest('#notebook-container');\n",
              "if (notebookContainer) {{\n",
              "    x.observe(notebookContainer, {childList: true});\n",
              "}}\n",
              "\n",
              "// Listen for the clearing of the current output cell\n",
              "var outputEl = gd.closest('.output');\n",
              "if (outputEl) {{\n",
              "    x.observe(outputEl, {childList: true});\n",
              "}}\n",
              "\n",
              "                        })                };                            </script>        </div>\n",
              "</body>\n",
              "</html>"
            ]
          },
          "metadata": {}
        }
      ],
      "source": [
        "fig = px.sunburst(df, path=['company', 'rating'],title= 'Relation between company and rating')\n",
        "fig.update_traces(textinfo='label + percent parent')"
      ],
      "id": "G0pi9YWdDab1"
    },
    {
      "cell_type": "code",
      "execution_count": 12,
      "metadata": {
        "id": "DpkgtKzYMu5E"
      },
      "outputs": [],
      "source": [
        "emojis = {\n",
        "    \"🙂\":\"يبتسم\",\n",
        "    \"😂\":\"يضحك\",\n",
        "    \"💔\":\"قلب حزين\",\n",
        "    \"🙂\":\"يبتسم\",\n",
        "    \"❤️\":\"حب\",\n",
        "    \"❤\":\"حب\",\n",
        "    \"😍\":\"حب\",\n",
        "    \"😭\":\"يبكي\",\n",
        "    \"😢\":\"حزن\",\n",
        "    \"😔\":\"حزن\",\n",
        "    \"♥\":\"حب\",\n",
        "    \"💜\":\"حب\",\n",
        "    \"😅\":\"يضحك\",\n",
        "    \"🙁\":\"حزين\",\n",
        "    \"💕\":\"حب\",\n",
        "    \"💙\":\"حب\",\n",
        "    \"😞\":\"حزين\",\n",
        "    \"😊\":\"سعادة\",\n",
        "    \"👏\":\"يصفق\",\n",
        "    \"👌\":\"احسنت\",\n",
        "    \"😴\":\"ينام\",\n",
        "    \"😀\":\"يضحك\",\n",
        "    \"😌\":\"حزين\",\n",
        "    \"🌹\":\"وردة\",\n",
        "    \"🙈\":\"حب\",\n",
        "    \"😄\":\"يضحك\",\n",
        "    \"😐\":\"محايد\",\n",
        "    \"✌\":\"منتصر\",\n",
        "    \"✨\":\"نجمه\",\n",
        "    \"🤔\":\"تفكير\",\n",
        "    \"😏\":\"يستهزء\",\n",
        "    \"😒\":\"يستهزء\",\n",
        "    \"🙄\":\"ملل\",\n",
        "    \"😕\":\"عصبية\",\n",
        "    \"😃\":\"يضحك\",\n",
        "    \"🌸\":\"وردة\",\n",
        "    \"😓\":\"حزن\",\n",
        "    \"💞\":\"حب\",\n",
        "    \"💗\":\"حب\",\n",
        "    \"😑\":\"منزعج\",\n",
        "    \"💭\":\"تفكير\",\n",
        "    \"😎\":\"ثقة\",\n",
        "    \"💛\":\"حب\",\n",
        "    \"😩\":\"حزين\",\n",
        "    \"💪\":\"عضلات\",\n",
        "    \"👍\":\"موافق\",\n",
        "    \"🙏🏻\":\"رجاء طلب\",\n",
        "    \"😳\":\"مصدوم\",\n",
        "    \"👏🏼\":\"تصفيق\",\n",
        "    \"🎶\":\"موسيقي\",\n",
        "    \"🌚\":\"صمت\",\n",
        "    \"💚\":\"حب\",\n",
        "    \"🙏\":\"رجاء طلب\",\n",
        "    \"💘\":\"حب\",\n",
        "    \"🍃\":\"سلام\",\n",
        "    \"☺\":\"يضحك\",\n",
        "    \"🐸\":\"ضفدع\",\n",
        "    \"😶\":\"مصدوم\",\n",
        "    \"✌️\":\"مرح\",\n",
        "    \"✋🏻\":\"توقف\",\n",
        "    \"😉\":\"غمزة\",\n",
        "    \"🌷\":\"حب\",\n",
        "    \"🙃\":\"مبتسم\",\n",
        "    \"😫\":\"حزين\",\n",
        "    \"😨\":\"مصدوم\",\n",
        "    \"🎼 \":\"موسيقي\",\n",
        "    \"🍁\":\"مرح\",\n",
        "    \"🍂\":\"مرح\",\n",
        "    \"💟\":\"حب\",\n",
        "    \"😪\":\"حزن\",\n",
        "    \"😆\":\"يضحك\",\n",
        "    \"😣\":\"استياء\",\n",
        "    \"☺️\":\"حب\",\n",
        "    \"😱\":\"كارثة\",\n",
        "    \"😁\":\"يضحك\",\n",
        "    \"😖\":\"استياء\",\n",
        "    \"🏃🏼\":\"يجري\",\n",
        "    \"😡\":\"غضب\",\n",
        "    \"🚶\":\"يسير\",\n",
        "    \"🤕\":\"مرض\",\n",
        "    \"‼️\":\"تعجب\",\n",
        "    \"🕊\":\"طائر\",\n",
        "    \"👌🏻\":\"احسنت\",\n",
        "    \"❣\":\"حب\",\n",
        "    \"🙊\":\"مصدوم\",\n",
        "    \"💃\":\"سعادة مرح\",\n",
        "    \"💃🏼\":\"سعادة مرح\",\n",
        "    \"😜\":\"مرح\",\n",
        "    \"👊\":\"ضربة\",\n",
        "    \"😟\":\"استياء\",\n",
        "    \"💖\":\"حب\",\n",
        "    \"😥\":\"حزن\",\n",
        "    \"🎻\":\"موسيقي\",\n",
        "    \"✒\":\"يكتب\",\n",
        "    \"🚶🏻\":\"يسير\",\n",
        "    \"💎\":\"الماظ\",\n",
        "    \"😷\":\"وباء مرض\",\n",
        "    \"☝\":\"واحد\",\n",
        "    \"🚬\":\"تدخين\",\n",
        "    \"💐\" : \"ورد\",\n",
        "    \"🌞\" : \"شمس\",\n",
        "    \"👆\" : \"الاول\",\n",
        "    \"⚠️\" :\"تحذير\",\n",
        "    \"🤗\" : \"احتواء\",\n",
        "    \"✖️\": \"غلط\",\n",
        "    \"📍\"  : \"مكان\",\n",
        "    \"👸\" : \"ملكه\",\n",
        "    \"👑\" : \"تاج\",\n",
        "    \"✔️\" : \"صح\",\n",
        "    \"💌\": \"قلب\",\n",
        "    \"😲\" : \"مندهش\",\n",
        "    \"💦\": \"ماء\",\n",
        "    \"🚫\" : \"خطا\",\n",
        "    \"👏🏻\" : \"برافو\",\n",
        "    \"🏊\" :\"يسبح\",\n",
        "    \"👍🏻\": \"تمام\",\n",
        "    \"⭕️\" :\"دائره كبيره\",\n",
        "    \"🎷\" : \"ساكسفون\",\n",
        "    \"👋\": \"تلويح باليد\",\n",
        "    \"✌🏼\": \"علامه النصر\",\n",
        "    \"🌝\":\"مبتسم\",\n",
        "    \"➿\"  : \"عقده مزدوجه\",\n",
        "    \"💪🏼\" : \"قوي\",\n",
        "    \"📩\":  \"تواصل معي\",\n",
        "    \"☕️\": \"قهوه\",\n",
        "    \"😧\" : \"قلق و صدمة\",\n",
        "    \"🗨\": \"رسالة\",   \n",
        "    \"❗️\" :\"تعجب\",\n",
        "    \"🙆🏻\": \"اشاره موافقه\",\n",
        "    \"👯\" :\"اخوات\",\n",
        "    \"©\" :  \"رمز\",\n",
        "    \"👵🏽\" :\"سيده عجوزه\",\n",
        "    \"🐣\": \"كتكوت\",  \n",
        "    \"🙌\": \"تشجيع\",\n",
        "    \"🙇\": \"شخص ينحني\",\n",
        "    \"👐🏽\":\"ايدي مفتوحه\",    \n",
        "    \"👌🏽\": \"بالظبط\",\n",
        "    \"⁉️\" : \"استنكار\",\n",
        "    \"⚽️\": \"كوره\",\n",
        "    \"🕶\" :\"حب\",\n",
        "    \"🎈\" :\"بالون\",    \n",
        "    \"🎀\":    \"ورده\",\n",
        "    \"💵\":  \"فلوس\",   \n",
        "    \"😋\":  \"جائع\",\n",
        "    \"😛\":  \"يغيظ\",\n",
        "    \"😠\":  \"غاضب\",\n",
        "    \"✍🏻\":  \"يكتب\",\n",
        "    \"🌾\":  \"ارز\",\n",
        "    \"👣\":  \"اثر قدمين\",\n",
        "    \"❌\":\"رفض\",\n",
        "    \"🍟\":\"طعام\",\n",
        "    \"👬\":\"صداقة\",\n",
        "    \"🐰\":\"ارنب\",\n",
        "    \"☂\":\"مطر\",\n",
        "    \"⚜\":\"مملكة فرنسا\",\n",
        "    \"🐑\":\"خروف\",\n",
        "    \"🗣\":\"صوت مرتفع\",\n",
        "    \"👌🏼\":\"احسنت\",\n",
        "    \"☘\":\"مرح\",\n",
        "    \"😮\":\"صدمة\",\n",
        "    \"😦\":\"قلق\",\n",
        "    \"⭕\":\"الحق\",\n",
        "    \"✏️\":\"قلم\",\n",
        "    \"ℹ\":\"معلومات\",\n",
        "    \"🙍🏻\":\"رفض\",\n",
        "    \"⚪️\":\"نضارة نقاء\",\n",
        "    \"🐤\":\"حزن\",\n",
        "    \"💫\":\"مرح\",\n",
        "    \"💝\":\"حب\",\n",
        "    \"🍔\":\"طعام\",\n",
        "    \"❤︎\":\"حب\",\n",
        "    \"✈️\":\"سفر\",\n",
        "    \"🏃🏻‍♀️\":\"يسير\",\n",
        "    \"🍳\":\"ذكر\",\n",
        "    \"🎤\":\"مايك غناء\",\n",
        "    \"🎾\":\"كره\",\n",
        "    \"🐔\":\"دجاجة\",\n",
        "    \"🙋\":\"سؤال\",\n",
        "    \"📮\":\"بحر\",\n",
        "    \"💉\":\"دواء\",\n",
        "    \"🙏🏼\":\"رجاء طلب\",\n",
        "    \"💂🏿 \":\"حارس\",\n",
        "    \"🎬\":\"سينما\",\n",
        "    \"♦️\":\"مرح\",\n",
        "    \"💡\":\"قكرة\",\n",
        "    \"‼\":\"تعجب\",\n",
        "    \"👼\":\"طفل\",\n",
        "    \"🔑\":\"مفتاح\",\n",
        "    \"♥️\":\"حب\",\n",
        "    \"🕋\":\"كعبة\",\n",
        "    \"🐓\":\"دجاجة\",\n",
        "    \"💩\":\"معترض\",\n",
        "    \"👽\":\"فضائي\",\n",
        "    \"☔️\":\"مطر\",\n",
        "    \"🍷\":\"عصير\",\n",
        "    \"🌟\":\"نجمة\",\n",
        "    \"☁️\":\"سحب\",\n",
        "    \"👃\":\"معترض\",\n",
        "    \"🌺\":\"مرح\",\n",
        "    \"🔪\":\"سكينة\",\n",
        "    \"♨\":\"سخونية\",\n",
        "    \"👊🏼\":\"ضرب\",\n",
        "    \"✏\":\"قلم\",\n",
        "    \"🚶🏾‍♀️\":\"يسير\",\n",
        "    \"👊\":\"ضربة\",\n",
        "    \"◾️\":\"وقف\",\n",
        "    \"😚\":\"حب\",\n",
        "    \"🔸\":\"مرح\",\n",
        "    \"👎🏻\":\"لا يعجبني\",\n",
        "    \"👊🏽\":\"ضربة\",\n",
        "    \"😙\":\"حب\",\n",
        "    \"🎥\":\"تصوير\",\n",
        "    \"👉\":\"جذب انتباه\",\n",
        "    \"👏🏽\":\"يصفق\",\n",
        "    \"💪🏻\":\"عضلات\",\n",
        "    \"🏴\":\"اسود\",\n",
        "    \"🔥\":\"حريق\",  \n",
        "    \"😬\":\"عدم الراحة\",   \n",
        "    \"👊🏿\":\"يضرب\",    \n",
        "    \"🌿\":\"ورقه شجره\",     \n",
        "    \"✋🏼\":\"كف ايد\",    \n",
        "    \"👐\":\"ايدي مفتوحه\",      \n",
        "    \"☠️\":\"وجه مرعب\",     \n",
        "    \"🎉\":\"يهنئ\",      \n",
        "    \"🔕\" :\"صامت\",\n",
        "    \"😿\":\"وجه حزين\",      \n",
        "    \"☹️\":\"وجه يائس\",     \n",
        "    \"😘\" :\"حب\",     \n",
        "    \"😰\" :\"خوف و حزن\",\n",
        "    \"🌼\":\"ورده\",      \n",
        "    \"💋\":  \"بوسه\",\n",
        "    \"👇\":\"لاسفل\",     \n",
        "    \"❣️\":\"حب\",     \n",
        "    \"🎧\":\"سماعات\",\n",
        "    \"📝\":\"يكتب\",      \n",
        "    \"😇\":\"دايخ\",      \n",
        "    \"😈\":\"رعب\",      \n",
        "    \"🏃\":\"يجري\",      \n",
        "    \"✌🏻\":\"علامه النصر\",    \n",
        "    \"🔫\":\"يضرب\",      \n",
        "    \"❗️\":\"تعجب\",\n",
        "    \"👎\":\"غير موافق\",      \n",
        "    \"🔐\":\"قفل\",      \n",
        "    \"👈\":\"لليمين\",\n",
        "    \"™\":\"رمز\",    \n",
        "    \"🚶🏽\":\"يتمشي\",    \n",
        "    \"😯\":\"متفاجأ\",  \n",
        "    \"✊\":\"يد مغلقه\",    \n",
        "    \"😻\":\"اعجاب\",    \n",
        "    \"🙉\" :\"قرد\",    \n",
        "    \"👧\":\"طفله صغيره\",     \n",
        "    \"🔴\":\"دائره حمراء\",      \n",
        "    \"💪🏽\":\"قوه\",     \n",
        "    \"💤\":\"ينام\",     \n",
        "    \"👀\":\"ينظر\",     \n",
        "    \"✍🏻\":\"يكتب\",  \n",
        "    \"❄️\":\"تلج\",\n",
        "    \"💀\":\"رعب\",   \n",
        "    \"😤\":\"وجه عابس\",      \n",
        "    \"🖋\":\"قلم\",      \n",
        "    \"🎩\":\"كاب\",      \n",
        "    \"☕️\":\"قهوه\",     \n",
        "    \"😹\":\"ضحك\",     \n",
        "    \"💓\":\"حب\",      \n",
        "    \"☄️ \":\"نار\",     \n",
        "    \"👻\":\"رعب\",\n",
        "    \"❎\":\"خطء\",\n",
        "    \"🤮\":\"حزن\",\n",
        "    '🏻':\"احمر\"\n",
        "    }\n",
        "\n",
        "emoticons_to_emoji = {\n",
        "    \":)\" : \"🙂\",\n",
        "    \":(\" : \"🙁\",\n",
        "    \"xD\" : \"😆\",\n",
        "    \":=(\": \"😭\",\n",
        "    \":'(\": \"😢\",\n",
        "    \":'‑(\": \"😢\",\n",
        "    \"XD\" : \"😂\",\n",
        "    \":D\" : \"🙂\",\n",
        "    \"♬\" : \"موسيقي\",\n",
        "    \"♡\" : \"❤\",\n",
        "    \"☻\"  : \"🙂\",\n",
        "    }"
      ],
      "id": "DpkgtKzYMu5E"
    },
    {
      "cell_type": "code",
      "execution_count": 12,
      "metadata": {
        "id": "Cl2jdjytNHl7"
      },
      "outputs": [],
      "source": [],
      "id": "Cl2jdjytNHl7"
    },
    {
      "cell_type": "markdown",
      "metadata": {
        "id": "VmZQyVDPdGXi"
      },
      "source": [
        "# **data cleaning**"
      ],
      "id": "VmZQyVDPdGXi"
    },
    {
      "cell_type": "code",
      "execution_count": 13,
      "metadata": {
        "id": "2295a62b"
      },
      "outputs": [],
      "source": [
        "def del_digits_and_pun(value,pun):\n",
        "    new_value= re.sub('[1-9]','',value)\n",
        "    for i in pun:\n",
        "        new_value=new_value.replace(i,' ')\n",
        "    return new_value"
      ],
      "id": "2295a62b"
    },
    {
      "cell_type": "code",
      "execution_count": 14,
      "metadata": {
        "id": "t41DrPc0nBfE"
      },
      "outputs": [],
      "source": [
        "def tokens_review(x,stop_words):\n",
        "    x=str(x)\n",
        "    words=word_tokenize(x)\n",
        "    new_words=[]\n",
        "    for i in words:\n",
        "        text = re.sub(r'[^ء-ي ]',' ',i)\n",
        "        \n",
        "        if text not in stop_words:\n",
        "            new_words.append(text)\n",
        "    return new_words"
      ],
      "id": "t41DrPc0nBfE"
    },
    {
      "cell_type": "code",
      "execution_count": 15,
      "metadata": {
        "id": "1kylgXfxOoqg"
      },
      "outputs": [],
      "source": [
        "def remove_diacritics(text):\n",
        "        arabic_diacritics = re.compile(\"\"\" ّ    | # Tashdid\n",
        "                             َ    | # Fatha\n",
        "                             ً    | # Tanwin Fath\n",
        "                             ُ    | # Damma\n",
        "                             ٌ    | # Tanwin Damm\n",
        "                             ِ    | # Kasra\n",
        "                             ٍ    | # Tanwin Kasr\n",
        "                             ْ    | # Sukun\n",
        "                             ـ     # Tatwil/Kashida\n",
        "                         \"\"\", re.VERBOSE)\n",
        "        text = re.sub(arabic_diacritics, '', str(text))\n",
        "        return text "
      ],
      "id": "1kylgXfxOoqg"
    },
    {
      "cell_type": "code",
      "execution_count": 16,
      "metadata": {
        "id": "2H4I_DZoOp1J"
      },
      "outputs": [],
      "source": [
        "def hendle_emojis(text,emojis):\n",
        "  li=[]\n",
        "  for i in word_tokenize(text):\n",
        "    for x in i :\n",
        "      if x not in emojis.keys():\n",
        "        li.append(i)\n",
        "        break\n",
        "      else:\n",
        "        li.append(emojis[x])\n",
        "  return \" \".join(li)\n",
        "        "
      ],
      "id": "2H4I_DZoOp1J"
    },
    {
      "cell_type": "markdown",
      "metadata": {
        "id": "Fmu8q_TddlVh"
      },
      "source": [
        "delete english punctuations and arabic punctuations from our reviews"
      ],
      "id": "Fmu8q_TddlVh"
    },
    {
      "cell_type": "code",
      "execution_count": 17,
      "metadata": {
        "colab": {
          "base_uri": "https://localhost:8080/",
          "height": 35
        },
        "id": "EpRttZD7On60",
        "outputId": "9f377eb9-27ac-4592-f177-5f627b2d7ff8"
      },
      "outputs": [
        {
          "output_type": "execute_result",
          "data": {
            "text/plain": [
              "'يضحك يضحك يضحك'"
            ],
            "application/vnd.google.colaboratory.intrinsic+json": {
              "type": "string"
            }
          },
          "metadata": {},
          "execution_count": 17
        }
      ],
      "source": [
        "hendle_emojis(\"😂😂😂\", emojis)"
      ],
      "id": "EpRttZD7On60"
    },
    {
      "cell_type": "code",
      "execution_count": 18,
      "metadata": {
        "id": "d1298735"
      },
      "outputs": [],
      "source": [
        "arabic_punctuations = \"\"\"\n",
        "`÷×؛،.<>_()*&^%][ـ،/:؟.,'{}~¦+|!”…“–#.ـ\n",
        "\"\"\"\n",
        "\n",
        "english_punctuations = string.punctuation\n",
        "punctuations_list = arabic_punctuations + english_punctuations\n",
        "punctuations_list\n",
        "list_pun=[i for i in punctuations_list]\n",
        "\n",
        "\n",
        "df.review_description=df.review_description.apply(del_digits_and_pun,args=[list_pun])\n",
        "\n"
      ],
      "id": "d1298735"
    },
    {
      "cell_type": "markdown",
      "metadata": {
        "id": "BlgrzPYsnJHH"
      },
      "source": [
        "# ** staming  reviwe**"
      ],
      "id": "BlgrzPYsnJHH"
    },
    {
      "cell_type": "code",
      "execution_count": 19,
      "metadata": {
        "id": "1f7J0g7Bl3Sj"
      },
      "outputs": [],
      "source": [
        "def preprossing (review):\n",
        "  words=word_tokenize(review)\n",
        "  new_words=[]\n",
        "  stop_words=stopwords.words('arabic')\n",
        "  stop_words.remove('لا')\n",
        "  stop_words.remove('لكن')\n",
        "  stop_words.remove('ولكن')\n",
        "  stop_words.remove('واو')\n",
        "  stop_words.remove('أطعم')\n",
        "  stop_words.remove('أف')\n",
        "  stop_words.append('طلبات')\n",
        "  stop_words.append('شركه')\n",
        "  stop_words.append('برنامج')\n",
        "  stop_words.append('تطبيق')\n",
        "  for i in words:\n",
        "    stemmer = ARLSTem()\n",
        "    word = stemmer.stem(i)\n",
        "    if i in stop_words:\n",
        "      continue \n",
        "    new_words.append(word)\n",
        "\n",
        "  return \" \".join(new_words)\n",
        "\n",
        "\n"
      ],
      "id": "1f7J0g7Bl3Sj"
    },
    {
      "cell_type": "code",
      "execution_count": 20,
      "metadata": {
        "id": "e1PZVejYh84P"
      },
      "outputs": [],
      "source": [
        "import nltk\n",
        "\n",
        "df['clean']=df.review_description.apply(preprossing)\n",
        "df['clean']=df.clean.apply(hendle_emojis,args=[emojis])\n",
        "\n"
      ],
      "id": "e1PZVejYh84P"
    },
    {
      "cell_type": "code",
      "execution_count": 21,
      "metadata": {
        "colab": {
          "base_uri": "https://localhost:8080/",
          "height": 206
        },
        "id": "w2azPSRfVvZO",
        "outputId": "491b2593-b860-4de2-a7df-9234cb916a26"
      },
      "outputs": [
        {
          "output_type": "execute_result",
          "data": {
            "text/plain": [
              "   Unnamed: 0                                 review_description  rating  \\\n",
              "0           0                         سيئ جدا بعد الإصدار الجديد      -1   \n",
              "1           1                                  ابلكيشن زباله بجد      -1   \n",
              "2           2                                 سيئ التطبيق لايعمل      -1   \n",
              "3           3  للأسف التطبيق للأسوأ كان جدا رائع وسهل وبسيط ا...      -1   \n",
              "4           4                     التحديث بطيئ جدا جدا عند الفتح      -1   \n",
              "\n",
              "       company                                              clean  \n",
              "0  alahli_bank                                   سيئ جدا صدر جديد  \n",
              "1  alahli_bank                                     بلكيش زبال بجد  \n",
              "2  alahli_bank                                   سيئ تطبيق لايعمل  \n",
              "3  alahli_bank  اسف تطبيق اسوا جدا رائع سهل بسيط معقد فتح معا ...  \n",
              "4  alahli_bank                             تحديث بطيئ جدا جدا فتح  "
            ],
            "text/html": [
              "\n",
              "  <div id=\"df-fd31c77b-d326-4736-b56b-a32927653c9a\">\n",
              "    <div class=\"colab-df-container\">\n",
              "      <div>\n",
              "<style scoped>\n",
              "    .dataframe tbody tr th:only-of-type {\n",
              "        vertical-align: middle;\n",
              "    }\n",
              "\n",
              "    .dataframe tbody tr th {\n",
              "        vertical-align: top;\n",
              "    }\n",
              "\n",
              "    .dataframe thead th {\n",
              "        text-align: right;\n",
              "    }\n",
              "</style>\n",
              "<table border=\"1\" class=\"dataframe\">\n",
              "  <thead>\n",
              "    <tr style=\"text-align: right;\">\n",
              "      <th></th>\n",
              "      <th>Unnamed: 0</th>\n",
              "      <th>review_description</th>\n",
              "      <th>rating</th>\n",
              "      <th>company</th>\n",
              "      <th>clean</th>\n",
              "    </tr>\n",
              "  </thead>\n",
              "  <tbody>\n",
              "    <tr>\n",
              "      <th>0</th>\n",
              "      <td>0</td>\n",
              "      <td>سيئ جدا بعد الإصدار الجديد</td>\n",
              "      <td>-1</td>\n",
              "      <td>alahli_bank</td>\n",
              "      <td>سيئ جدا صدر جديد</td>\n",
              "    </tr>\n",
              "    <tr>\n",
              "      <th>1</th>\n",
              "      <td>1</td>\n",
              "      <td>ابلكيشن زباله بجد</td>\n",
              "      <td>-1</td>\n",
              "      <td>alahli_bank</td>\n",
              "      <td>بلكيش زبال بجد</td>\n",
              "    </tr>\n",
              "    <tr>\n",
              "      <th>2</th>\n",
              "      <td>2</td>\n",
              "      <td>سيئ التطبيق لايعمل</td>\n",
              "      <td>-1</td>\n",
              "      <td>alahli_bank</td>\n",
              "      <td>سيئ تطبيق لايعمل</td>\n",
              "    </tr>\n",
              "    <tr>\n",
              "      <th>3</th>\n",
              "      <td>3</td>\n",
              "      <td>للأسف التطبيق للأسوأ كان جدا رائع وسهل وبسيط ا...</td>\n",
              "      <td>-1</td>\n",
              "      <td>alahli_bank</td>\n",
              "      <td>اسف تطبيق اسوا جدا رائع سهل بسيط معقد فتح معا ...</td>\n",
              "    </tr>\n",
              "    <tr>\n",
              "      <th>4</th>\n",
              "      <td>4</td>\n",
              "      <td>التحديث بطيئ جدا جدا عند الفتح</td>\n",
              "      <td>-1</td>\n",
              "      <td>alahli_bank</td>\n",
              "      <td>تحديث بطيئ جدا جدا فتح</td>\n",
              "    </tr>\n",
              "  </tbody>\n",
              "</table>\n",
              "</div>\n",
              "      <button class=\"colab-df-convert\" onclick=\"convertToInteractive('df-fd31c77b-d326-4736-b56b-a32927653c9a')\"\n",
              "              title=\"Convert this dataframe to an interactive table.\"\n",
              "              style=\"display:none;\">\n",
              "        \n",
              "  <svg xmlns=\"http://www.w3.org/2000/svg\" height=\"24px\"viewBox=\"0 0 24 24\"\n",
              "       width=\"24px\">\n",
              "    <path d=\"M0 0h24v24H0V0z\" fill=\"none\"/>\n",
              "    <path d=\"M18.56 5.44l.94 2.06.94-2.06 2.06-.94-2.06-.94-.94-2.06-.94 2.06-2.06.94zm-11 1L8.5 8.5l.94-2.06 2.06-.94-2.06-.94L8.5 2.5l-.94 2.06-2.06.94zm10 10l.94 2.06.94-2.06 2.06-.94-2.06-.94-.94-2.06-.94 2.06-2.06.94z\"/><path d=\"M17.41 7.96l-1.37-1.37c-.4-.4-.92-.59-1.43-.59-.52 0-1.04.2-1.43.59L10.3 9.45l-7.72 7.72c-.78.78-.78 2.05 0 2.83L4 21.41c.39.39.9.59 1.41.59.51 0 1.02-.2 1.41-.59l7.78-7.78 2.81-2.81c.8-.78.8-2.07 0-2.86zM5.41 20L4 18.59l7.72-7.72 1.47 1.35L5.41 20z\"/>\n",
              "  </svg>\n",
              "      </button>\n",
              "      \n",
              "  <style>\n",
              "    .colab-df-container {\n",
              "      display:flex;\n",
              "      flex-wrap:wrap;\n",
              "      gap: 12px;\n",
              "    }\n",
              "\n",
              "    .colab-df-convert {\n",
              "      background-color: #E8F0FE;\n",
              "      border: none;\n",
              "      border-radius: 50%;\n",
              "      cursor: pointer;\n",
              "      display: none;\n",
              "      fill: #1967D2;\n",
              "      height: 32px;\n",
              "      padding: 0 0 0 0;\n",
              "      width: 32px;\n",
              "    }\n",
              "\n",
              "    .colab-df-convert:hover {\n",
              "      background-color: #E2EBFA;\n",
              "      box-shadow: 0px 1px 2px rgba(60, 64, 67, 0.3), 0px 1px 3px 1px rgba(60, 64, 67, 0.15);\n",
              "      fill: #174EA6;\n",
              "    }\n",
              "\n",
              "    [theme=dark] .colab-df-convert {\n",
              "      background-color: #3B4455;\n",
              "      fill: #D2E3FC;\n",
              "    }\n",
              "\n",
              "    [theme=dark] .colab-df-convert:hover {\n",
              "      background-color: #434B5C;\n",
              "      box-shadow: 0px 1px 3px 1px rgba(0, 0, 0, 0.15);\n",
              "      filter: drop-shadow(0px 1px 2px rgba(0, 0, 0, 0.3));\n",
              "      fill: #FFFFFF;\n",
              "    }\n",
              "  </style>\n",
              "\n",
              "      <script>\n",
              "        const buttonEl =\n",
              "          document.querySelector('#df-fd31c77b-d326-4736-b56b-a32927653c9a button.colab-df-convert');\n",
              "        buttonEl.style.display =\n",
              "          google.colab.kernel.accessAllowed ? 'block' : 'none';\n",
              "\n",
              "        async function convertToInteractive(key) {\n",
              "          const element = document.querySelector('#df-fd31c77b-d326-4736-b56b-a32927653c9a');\n",
              "          const dataTable =\n",
              "            await google.colab.kernel.invokeFunction('convertToInteractive',\n",
              "                                                     [key], {});\n",
              "          if (!dataTable) return;\n",
              "\n",
              "          const docLinkHtml = 'Like what you see? Visit the ' +\n",
              "            '<a target=\"_blank\" href=https://colab.research.google.com/notebooks/data_table.ipynb>data table notebook</a>'\n",
              "            + ' to learn more about interactive tables.';\n",
              "          element.innerHTML = '';\n",
              "          dataTable['output_type'] = 'display_data';\n",
              "          await google.colab.output.renderOutput(dataTable, element);\n",
              "          const docLink = document.createElement('div');\n",
              "          docLink.innerHTML = docLinkHtml;\n",
              "          element.appendChild(docLink);\n",
              "        }\n",
              "      </script>\n",
              "    </div>\n",
              "  </div>\n",
              "  "
            ]
          },
          "metadata": {},
          "execution_count": 21
        }
      ],
      "source": [
        "df.head()"
      ],
      "id": "w2azPSRfVvZO"
    },
    {
      "cell_type": "code",
      "execution_count": 22,
      "metadata": {
        "colab": {
          "base_uri": "https://localhost:8080/"
        },
        "id": "kVsiX3TwMQh2",
        "outputId": "3e2dd864-e390-4c9a-82ff-4ee3f1208aaa"
      },
      "outputs": [
        {
          "output_type": "execute_result",
          "data": {
            "text/plain": [
              "['سيئ جدا صدر جديد',\n",
              " 'بلكيش زبال بجد',\n",
              " 'سيئ تطبيق لايعمل',\n",
              " 'اسف تطبيق اسوا جدا رائع سهل بسيط معقد فتح معا بسهول تجد خدم متاح',\n",
              " 'تحديث بطيئ جدا جدا فتح',\n",
              " 'مرررر زق اخر حديث فتحلي ابد رفض اي كلم مرور كتب او رقم بطاق اهلي خربت غلب ناس كان معتمد اسف',\n",
              " 'تطبيق شتغل عمل سجيل دخول حسابي فتح شوفو حل انا معطل',\n",
              " 'اذا قمت بفتح تطبيق طلب حديث اذا ضغط تحديث قبل تحديث لاهو للي فتح لاهو للي حدث وش مشكل',\n",
              " 'اسف سيئ جدا امس احول ستخدم مافي اتواصل خدم عملاء قال حذف نزل جديد يمك يكو حديث نفس مشكل ماانحل',\n",
              " 'صراح شي موسف']"
            ]
          },
          "metadata": {},
          "execution_count": 22
        }
      ],
      "source": [
        "x=df['clean'].tolist()\n",
        "x[:10]"
      ],
      "id": "kVsiX3TwMQh2"
    },
    {
      "cell_type": "code",
      "execution_count": 23,
      "metadata": {
        "id": "I2S81pI4U7aO"
      },
      "outputs": [],
      "source": [
        "tfidfconverter= TfidfVectorizer(max_features=1000,ngram_range=(1,3))\n",
        "X_Vec = tfidfconverter.fit_transform(x)\n",
        "X_Vec = pd.DataFrame.sparse.from_spmatrix(X_Vec)\n",
        "Y=df[\"rating\"]\n"
      ],
      "id": "I2S81pI4U7aO"
    },
    {
      "cell_type": "markdown",
      "metadata": {
        "id": "ZSk7KjJCv1uF"
      },
      "source": [
        "# **split dataset**"
      ],
      "id": "ZSk7KjJCv1uF"
    },
    {
      "cell_type": "code",
      "execution_count": 24,
      "metadata": {
        "id": "wqPPC7rjv1Bj"
      },
      "outputs": [],
      "source": [
        "from sklearn.model_selection import train_test_split\n",
        "x_train,x_test,y_train,y_test = train_test_split(X_Vec,Y,random_state=42,test_size=0.02,shuffle=True)\n"
      ],
      "id": "wqPPC7rjv1Bj"
    },
    {
      "cell_type": "code",
      "execution_count": 25,
      "metadata": {
        "colab": {
          "base_uri": "https://localhost:8080/",
          "height": 764
        },
        "id": "J19DMCPpYtKZ",
        "outputId": "48f22702-5d5c-4200-a676-0f206b26c38e"
      },
      "outputs": [
        {
          "output_type": "stream",
          "name": "stdout",
          "text": [
            "Testing accuracy   : 86.15040953090097 %\n",
            "MSE [TEST]          : 0.33730454206999255\n",
            "Training accuracy  : 85.6860539357271 %\n",
            "MSE [TRAIN]         : 0.3402906570186373\n",
            "precision :  0.8615040953090097\n",
            "recall    :  0.8615040953090097\n",
            "f1_score  :  0.8615040953090097\n"
          ]
        },
        {
          "output_type": "display_data",
          "data": {
            "text/plain": [
              "<Figure size 432x288 with 2 Axes>"
            ],
            "image/png": "[encoded data removed]"
          },
          "metadata": {
            "needs_background": "light"
          }
        },
        {
          "output_type": "stream",
          "name": "stdout",
          "text": [
            "              precision    recall  f1-score   support\n",
            "\n",
            "          -1       0.86      0.86      0.86     22563\n",
            "           0       0.95      0.82      0.88     23261\n",
            "           1       0.78      0.89      0.83     19958\n",
            "\n",
            "    accuracy                           0.86     65782\n",
            "   macro avg       0.86      0.86      0.86     65782\n",
            "weighted avg       0.86      0.86      0.86     65782\n",
            "\n",
            "              precision    recall  f1-score   support\n",
            "\n",
            "          -1       0.86      0.86      0.86       472\n",
            "           0       0.96      0.84      0.89       490\n",
            "           1       0.77      0.90      0.83       381\n",
            "\n",
            "    accuracy                           0.86      1343\n",
            "   macro avg       0.86      0.86      0.86      1343\n",
            "weighted avg       0.87      0.86      0.86      1343\n",
            "\n"
          ]
        }
      ],
      "source": [
        "\n",
        "from sklearn.svm import LinearSVC\n",
        "trained_clf_svc = LinearSVC().fit(x_train, y_train)\n",
        "get_accuracy('LinearSVC',trained_clf_svc,x_train, y_train, x_test, y_test)\n"
      ],
      "id": "J19DMCPpYtKZ"
    },
    {
      "cell_type": "markdown",
      "metadata": {
        "id": "8kcv7CgELJUi"
      },
      "source": [
        "# **features extraction  word2vec**"
      ],
      "id": "8kcv7CgELJUi"
    },
    {
      "cell_type": "code",
      "execution_count": 26,
      "metadata": {
        "id": "mR4U3sm5GUGe"
      },
      "outputs": [],
      "source": [
        "from gensim.models import Word2Vec\n",
        "sents=[]\n",
        "dim_num=100\n",
        "for i in df.clean:\n",
        "  sents.append(word_tokenize(i))\n",
        "model=Word2Vec(sentences=sents, window=5, min_count=1, workers=4,size=dim_num)\n"
      ],
      "id": "mR4U3sm5GUGe"
    },
    {
      "cell_type": "code",
      "execution_count": 27,
      "metadata": {
        "colab": {
          "base_uri": "https://localhost:8080/"
        },
        "id": "M_WQH6YJHMI8",
        "outputId": "d22a89c4-62b6-4714-8c3a-e0af8465f522"
      },
      "outputs": [
        {
          "output_type": "execute_result",
          "data": {
            "text/plain": [
              "(67125, 100)"
            ]
          },
          "metadata": {},
          "execution_count": 27
        }
      ],
      "source": [
        "X=np.zeros((dim_num,), dtype=float)\n",
        "\n",
        "for i in (df.clean):\n",
        "  counter=0\n",
        "  sum=np.zeros((100,), dtype=float)\n",
        "  for x in word_tokenize(i) :\n",
        "    sum+=model.wv[x]\n",
        "    counter+=1\n",
        "  if counter==0 :\n",
        "    X=np.vstack((X,sum))\n",
        "  else:\n",
        "    X=np.vstack((X,sum/counter))\n",
        "X= np.delete(X, (0), axis=0)\n",
        "y=df.rating \n",
        "X.shape\n",
        "\n",
        "  "
      ],
      "id": "M_WQH6YJHMI8"
    },
    {
      "cell_type": "markdown",
      "metadata": {
        "id": "xxHliw13LQwf"
      },
      "source": [
        "**# get X and y**"
      ],
      "id": "xxHliw13LQwf"
    },
    {
      "cell_type": "code",
      "execution_count": 28,
      "metadata": {
        "id": "ZIgZzaB5IBzk"
      },
      "outputs": [],
      "source": [
        "from sklearn.model_selection import train_test_split\n",
        "\n",
        "def encod(x):\n",
        "  if x==-1:\n",
        "    return 0\n",
        "  if x== 0:\n",
        "    return 1\n",
        "  return 2\n",
        "y=df.rating\n",
        "y=y.apply(encod)\n",
        "x_train,x_test,y_train,y_test = train_test_split(X,y,random_state=42,test_size=.02,shuffle=True)\n",
        "y_train_enc = tf.keras.utils.to_categorical(y_train)\n",
        "y_test_enc=tf.keras.utils.to_categorical(y_test)\n"
      ],
      "id": "ZIgZzaB5IBzk"
    },
    {
      "cell_type": "markdown",
      "metadata": {
        "id": "e0ncKbZ1axRh"
      },
      "source": [
        "# **LinearSVC**"
      ],
      "id": "e0ncKbZ1axRh"
    },
    {
      "cell_type": "code",
      "execution_count": 29,
      "metadata": {
        "colab": {
          "base_uri": "https://localhost:8080/"
        },
        "id": "6-mtTMDQHqHV",
        "outputId": "7f696c9f-c0f3-4e8d-c1ef-cbc2e4a55fbe"
      },
      "outputs": [
        {
          "output_type": "stream",
          "name": "stderr",
          "text": [
            "/usr/local/lib/python3.8/dist-packages/sklearn/svm/_base.py:1206: ConvergenceWarning:\n",
            "\n",
            "Liblinear failed to converge, increase the number of iterations.\n",
            "\n"
          ]
        }
      ],
      "source": [
        "\n",
        "from sklearn.svm import LinearSVC\n",
        "trained_clf_svc = LinearSVC().fit(x_train, y_train)\n"
      ],
      "id": "6-mtTMDQHqHV"
    },
    {
      "cell_type": "code",
      "execution_count": 30,
      "metadata": {
        "colab": {
          "base_uri": "https://localhost:8080/",
          "height": 764
        },
        "id": "OlNEuZABHUl4",
        "outputId": "2be7faa5-9be4-44ce-8578-c0f09c99b223"
      },
      "outputs": [
        {
          "output_type": "stream",
          "name": "stdout",
          "text": [
            "Testing accuracy   : 81.23603871928519 %\n",
            "MSE [TEST]          : 0.3864482501861504\n",
            "Training accuracy  : 81.47213523456264 %\n",
            "MSE [TRAIN]         : 0.3727615457115928\n",
            "precision :  0.8123603871928519\n",
            "recall    :  0.8123603871928519\n",
            "f1_score  :  0.8123603871928519\n"
          ]
        },
        {
          "output_type": "display_data",
          "data": {
            "text/plain": [
              "<Figure size 432x288 with 2 Axes>"
            ],
            "image/png": "[encoded data removed]"
          },
          "metadata": {
            "needs_background": "light"
          }
        },
        {
          "output_type": "stream",
          "name": "stdout",
          "text": [
            "              precision    recall  f1-score   support\n",
            "\n",
            "           0       0.81      0.84      0.83     22563\n",
            "           1       0.84      0.80      0.82     23261\n",
            "           2       0.79      0.80      0.79     19958\n",
            "\n",
            "    accuracy                           0.81     65782\n",
            "   macro avg       0.81      0.81      0.81     65782\n",
            "weighted avg       0.82      0.81      0.81     65782\n",
            "\n",
            "              precision    recall  f1-score   support\n",
            "\n",
            "           0       0.80      0.84      0.82       472\n",
            "           1       0.85      0.81      0.83       490\n",
            "           2       0.78      0.78      0.78       381\n",
            "\n",
            "    accuracy                           0.81      1343\n",
            "   macro avg       0.81      0.81      0.81      1343\n",
            "weighted avg       0.81      0.81      0.81      1343\n",
            "\n"
          ]
        }
      ],
      "source": [
        "get_accuracy('LinearSVC',trained_clf_svc,x_train, y_train, x_test, y_test)"
      ],
      "id": "OlNEuZABHUl4"
    },
    {
      "cell_type": "markdown",
      "metadata": {
        "id": "O9h2n0W6IO39"
      },
      "source": [
        "# **apply decision tree model**"
      ],
      "id": "O9h2n0W6IO39"
    },
    {
      "cell_type": "code",
      "execution_count": 31,
      "metadata": {
        "colab": {
          "base_uri": "https://localhost:8080/",
          "height": 764
        },
        "id": "GsCyUUMfIVV8",
        "outputId": "c7a09e22-663a-4a0b-be66-73aff0b8763c"
      },
      "outputs": [
        {
          "output_type": "stream",
          "name": "stdout",
          "text": [
            "Testing accuracy   : 77.28965003723009 %\n",
            "MSE [TEST]          : 0.5241995532390171\n",
            "Training accuracy  : 77.772034903165 %\n",
            "MSE [TRAIN]         : 0.5125566264327628\n",
            "precision :  0.7728965003723008\n",
            "recall    :  0.7728965003723008\n",
            "f1_score  :  0.772896500372301\n"
          ]
        },
        {
          "output_type": "display_data",
          "data": {
            "text/plain": [
              "<Figure size 432x288 with 2 Axes>"
            ],
            "image/png": "[encoded data removed]"
          },
          "metadata": {
            "needs_background": "light"
          }
        },
        {
          "output_type": "stream",
          "name": "stdout",
          "text": [
            "              precision    recall  f1-score   support\n",
            "\n",
            "           0       0.72      0.84      0.78     22563\n",
            "           1       0.90      0.73      0.80     23261\n",
            "           2       0.74      0.77      0.75     19958\n",
            "\n",
            "    accuracy                           0.78     65782\n",
            "   macro avg       0.79      0.78      0.78     65782\n",
            "weighted avg       0.79      0.78      0.78     65782\n",
            "\n",
            "              precision    recall  f1-score   support\n",
            "\n",
            "           0       0.72      0.81      0.76       472\n",
            "           1       0.88      0.75      0.81       490\n",
            "           2       0.73      0.75      0.74       381\n",
            "\n",
            "    accuracy                           0.77      1343\n",
            "   macro avg       0.78      0.77      0.77      1343\n",
            "weighted avg       0.78      0.77      0.77      1343\n",
            "\n"
          ]
        }
      ],
      "source": [
        "from sklearn.tree import DecisionTreeClassifier\n",
        "from sklearn.model_selection import GridSearchCV\n",
        "\n",
        "param_grid = {\n",
        "    \"max_depth\": [3,5,10,15,20,None],\n",
        "    \"min_samples_split\": [2,5,7,10],\n",
        "    \"min_samples_leaf\": [1,2,5]\n",
        "}\n",
        "\n",
        "clf = DecisionTreeClassifier(max_depth=7, min_samples_leaf=5, min_samples_split= 2).fit(x_train,y_train)\n",
        "get_accuracy('DecisionTreeClassifier',clf,x_train, y_train, x_test, y_test)\n"
      ],
      "id": "GsCyUUMfIVV8"
    },
    {
      "cell_type": "markdown",
      "metadata": {
        "id": "NO0DH2JSLAAN"
      },
      "source": [
        "# **random forest model**"
      ],
      "id": "NO0DH2JSLAAN"
    },
    {
      "cell_type": "code",
      "execution_count": 32,
      "metadata": {
        "colab": {
          "base_uri": "https://localhost:8080/",
          "height": 764
        },
        "id": "f-qMv0A5LL0l",
        "outputId": "609a4f3f-3a62-47f4-bb0b-4667f9794289"
      },
      "outputs": [
        {
          "output_type": "stream",
          "name": "stdout",
          "text": [
            "Testing accuracy   : 83.469843633656 %\n",
            "MSE [TEST]          : 0.3819806403574088\n",
            "Training accuracy  : 84.71162324040012 %\n",
            "MSE [TRAIN]         : 0.34570247180079655\n",
            "precision :  0.8346984363365599\n",
            "recall    :  0.8346984363365599\n",
            "f1_score  :  0.8346984363365598\n"
          ]
        },
        {
          "output_type": "display_data",
          "data": {
            "text/plain": [
              "<Figure size 432x288 with 2 Axes>"
            ],
            "image/png": "[encoded data removed]"
          },
          "metadata": {
            "needs_background": "light"
          }
        },
        {
          "output_type": "stream",
          "name": "stdout",
          "text": [
            "              precision    recall  f1-score   support\n",
            "\n",
            "           0       0.81      0.89      0.85     22563\n",
            "           1       0.93      0.81      0.87     23261\n",
            "           2       0.81      0.84      0.82     19958\n",
            "\n",
            "    accuracy                           0.85     65782\n",
            "   macro avg       0.85      0.85      0.85     65782\n",
            "weighted avg       0.85      0.85      0.85     65782\n",
            "\n",
            "              precision    recall  f1-score   support\n",
            "\n",
            "           0       0.79      0.87      0.83       472\n",
            "           1       0.93      0.81      0.86       490\n",
            "           2       0.80      0.82      0.81       381\n",
            "\n",
            "    accuracy                           0.83      1343\n",
            "   macro avg       0.84      0.83      0.83      1343\n",
            "weighted avg       0.84      0.83      0.84      1343\n",
            "\n"
          ]
        }
      ],
      "source": [
        "from sklearn.ensemble import RandomForestClassifier\n",
        "model=RandomForestClassifier(max_depth=9,min_samples_leaf=5,min_samples_split=3).fit(x_train,y_train)\n",
        "get_accuracy('Random forest ',model,x_train, y_train, x_test, y_test)\n"
      ],
      "id": "f-qMv0A5LL0l"
    },
    {
      "cell_type": "markdown",
      "metadata": {
        "id": "_L8HWsHVxmRK"
      },
      "source": [
        "# **model 1 neural network**"
      ],
      "id": "_L8HWsHVxmRK"
    },
    {
      "cell_type": "code",
      "execution_count": 33,
      "metadata": {
        "colab": {
          "base_uri": "https://localhost:8080/"
        },
        "id": "IrbHF0TlMv44",
        "outputId": "40498357-a641-42a4-c6e5-a4b59537f14a"
      },
      "outputs": [
        {
          "output_type": "stream",
          "name": "stdout",
          "text": [
            "Model: \"sequential\"\n",
            "_________________________________________________________________\n",
            " Layer (type)                Output Shape              Param #   \n",
            "=================================================================\n",
            " dense (Dense)               (None, 64)                6464      \n",
            "                                                                 \n",
            " dense_1 (Dense)             (None, 32)                2080      \n",
            "                                                                 \n",
            " dense_2 (Dense)             (None, 16)                528       \n",
            "                                                                 \n",
            " dense_3 (Dense)             (None, 3)                 51        \n",
            "                                                                 \n",
            "=================================================================\n",
            "Total params: 9,123\n",
            "Trainable params: 9,123\n",
            "Non-trainable params: 0\n",
            "_________________________________________________________________\n"
          ]
        }
      ],
      "source": [
        "\n",
        "model=Sequential()\n",
        "model.add(Dense( 64 ,input_shape=(100,),activation='relu' ))\n",
        "model.add(Dense(32, activation='relu',kernel_regularizer='l1'))\n",
        "model.add(Dense(16, activation='relu'))\n",
        "model.add(Dense(3, activation='softmax'))\n",
        "\n",
        "\n",
        "model.compile(optimizer = 'adam', loss = 'categorical_crossentropy' ,metrics=['accuracy'])\n",
        "model.summary()"
      ],
      "id": "IrbHF0TlMv44"
    },
    {
      "cell_type": "code",
      "execution_count": 34,
      "metadata": {
        "colab": {
          "base_uri": "https://localhost:8080/"
        },
        "id": "Pea13Xp6TA6y",
        "outputId": "c608015a-6367-4f58-aff1-943900f6ed04"
      },
      "outputs": [
        {
          "output_type": "stream",
          "name": "stdout",
          "text": [
            "Epoch 1/150\n",
            "257/257 [==============================] - 2s 3ms/step - loss: 1.5954 - accuracy: 0.7632\n",
            "Epoch 2/150\n",
            "257/257 [==============================] - 1s 3ms/step - loss: 0.6161 - accuracy: 0.8190\n",
            "Epoch 3/150\n",
            "257/257 [==============================] - 1s 3ms/step - loss: 0.5557 - accuracy: 0.8241\n",
            "Epoch 4/150\n",
            "257/257 [==============================] - 1s 5ms/step - loss: 0.5301 - accuracy: 0.8274\n",
            "Epoch 5/150\n",
            "257/257 [==============================] - 1s 5ms/step - loss: 0.5145 - accuracy: 0.8293\n",
            "Epoch 6/150\n",
            "257/257 [==============================] - 1s 4ms/step - loss: 0.5019 - accuracy: 0.8316\n",
            "Epoch 7/150\n",
            "257/257 [==============================] - 1s 3ms/step - loss: 0.4964 - accuracy: 0.8321\n",
            "Epoch 8/150\n",
            "257/257 [==============================] - 1s 3ms/step - loss: 0.4882 - accuracy: 0.8343\n",
            "Epoch 9/150\n",
            "257/257 [==============================] - 1s 3ms/step - loss: 0.4825 - accuracy: 0.8346\n",
            "Epoch 10/150\n",
            "257/257 [==============================] - 1s 3ms/step - loss: 0.4760 - accuracy: 0.8359\n",
            "Epoch 11/150\n",
            "257/257 [==============================] - 1s 3ms/step - loss: 0.4719 - accuracy: 0.8365\n",
            "Epoch 12/150\n",
            "257/257 [==============================] - 1s 3ms/step - loss: 0.4685 - accuracy: 0.8371\n",
            "Epoch 13/150\n",
            "257/257 [==============================] - 1s 3ms/step - loss: 0.4658 - accuracy: 0.8381\n",
            "Epoch 14/150\n",
            "257/257 [==============================] - 1s 3ms/step - loss: 0.4635 - accuracy: 0.8380\n",
            "Epoch 15/150\n",
            "257/257 [==============================] - 1s 3ms/step - loss: 0.4595 - accuracy: 0.8392\n",
            "Epoch 16/150\n",
            "257/257 [==============================] - 1s 3ms/step - loss: 0.4575 - accuracy: 0.8398\n",
            "Epoch 17/150\n",
            "257/257 [==============================] - 1s 3ms/step - loss: 0.4553 - accuracy: 0.8394\n",
            "Epoch 18/150\n",
            "257/257 [==============================] - 1s 4ms/step - loss: 0.4525 - accuracy: 0.8405\n",
            "Epoch 19/150\n",
            "257/257 [==============================] - 1s 5ms/step - loss: 0.4506 - accuracy: 0.8408\n",
            "Epoch 20/150\n",
            "257/257 [==============================] - 1s 4ms/step - loss: 0.4474 - accuracy: 0.8421\n",
            "Epoch 21/150\n",
            "257/257 [==============================] - 1s 3ms/step - loss: 0.4480 - accuracy: 0.8412\n",
            "Epoch 22/150\n",
            "257/257 [==============================] - 1s 3ms/step - loss: 0.4451 - accuracy: 0.8418\n",
            "Epoch 23/150\n",
            "257/257 [==============================] - 1s 3ms/step - loss: 0.4425 - accuracy: 0.8425\n",
            "Epoch 24/150\n",
            "257/257 [==============================] - 1s 3ms/step - loss: 0.4415 - accuracy: 0.8428\n",
            "Epoch 25/150\n",
            "257/257 [==============================] - 1s 3ms/step - loss: 0.4407 - accuracy: 0.8432\n",
            "Epoch 26/150\n",
            "257/257 [==============================] - 1s 3ms/step - loss: 0.4401 - accuracy: 0.8435\n",
            "Epoch 27/150\n",
            "257/257 [==============================] - 1s 3ms/step - loss: 0.4386 - accuracy: 0.8440\n",
            "Epoch 28/150\n",
            "257/257 [==============================] - 1s 3ms/step - loss: 0.4369 - accuracy: 0.8444\n",
            "Epoch 29/150\n",
            "257/257 [==============================] - 1s 3ms/step - loss: 0.4357 - accuracy: 0.8441\n",
            "Epoch 30/150\n",
            "257/257 [==============================] - 1s 3ms/step - loss: 0.4351 - accuracy: 0.8437\n",
            "Epoch 31/150\n",
            "257/257 [==============================] - 1s 3ms/step - loss: 0.4338 - accuracy: 0.8448\n",
            "Epoch 32/150\n",
            "257/257 [==============================] - 1s 3ms/step - loss: 0.4335 - accuracy: 0.8450\n",
            "Epoch 33/150\n",
            "257/257 [==============================] - 1s 5ms/step - loss: 0.4325 - accuracy: 0.8449\n",
            "Epoch 34/150\n",
            "257/257 [==============================] - 1s 5ms/step - loss: 0.4308 - accuracy: 0.8458\n",
            "Epoch 35/150\n",
            "257/257 [==============================] - 1s 3ms/step - loss: 0.4305 - accuracy: 0.8449\n",
            "Epoch 36/150\n",
            "257/257 [==============================] - 1s 3ms/step - loss: 0.4293 - accuracy: 0.8460\n",
            "Epoch 37/150\n",
            "257/257 [==============================] - 1s 3ms/step - loss: 0.4276 - accuracy: 0.8464\n",
            "Epoch 38/150\n",
            "257/257 [==============================] - 1s 3ms/step - loss: 0.4277 - accuracy: 0.8462\n",
            "Epoch 39/150\n",
            "257/257 [==============================] - 1s 3ms/step - loss: 0.4280 - accuracy: 0.8468\n",
            "Epoch 40/150\n",
            "257/257 [==============================] - 1s 3ms/step - loss: 0.4272 - accuracy: 0.8463\n",
            "Epoch 41/150\n",
            "257/257 [==============================] - 1s 3ms/step - loss: 0.4252 - accuracy: 0.8478\n",
            "Epoch 42/150\n",
            "257/257 [==============================] - 1s 3ms/step - loss: 0.4242 - accuracy: 0.8481\n",
            "Epoch 43/150\n",
            "257/257 [==============================] - 1s 3ms/step - loss: 0.4240 - accuracy: 0.8480\n",
            "Epoch 44/150\n",
            "257/257 [==============================] - 1s 3ms/step - loss: 0.4236 - accuracy: 0.8473\n",
            "Epoch 45/150\n",
            "257/257 [==============================] - 1s 3ms/step - loss: 0.4227 - accuracy: 0.8480\n",
            "Epoch 46/150\n",
            "257/257 [==============================] - 1s 3ms/step - loss: 0.4214 - accuracy: 0.8488\n",
            "Epoch 47/150\n",
            "257/257 [==============================] - 1s 4ms/step - loss: 0.4213 - accuracy: 0.8478\n",
            "Epoch 48/150\n",
            "257/257 [==============================] - 1s 5ms/step - loss: 0.4215 - accuracy: 0.8477\n",
            "Epoch 49/150\n",
            "257/257 [==============================] - 1s 4ms/step - loss: 0.4196 - accuracy: 0.8486\n",
            "Epoch 50/150\n",
            "257/257 [==============================] - 1s 3ms/step - loss: 0.4208 - accuracy: 0.8484\n",
            "Epoch 51/150\n",
            "257/257 [==============================] - 1s 3ms/step - loss: 0.4196 - accuracy: 0.8491\n",
            "Epoch 52/150\n",
            "257/257 [==============================] - 1s 3ms/step - loss: 0.4194 - accuracy: 0.8495\n",
            "Epoch 53/150\n",
            "257/257 [==============================] - 1s 3ms/step - loss: 0.4177 - accuracy: 0.8490\n",
            "Epoch 54/150\n",
            "257/257 [==============================] - 1s 3ms/step - loss: 0.4176 - accuracy: 0.8495\n",
            "Epoch 55/150\n",
            "257/257 [==============================] - 1s 3ms/step - loss: 0.4186 - accuracy: 0.8488\n",
            "Epoch 56/150\n",
            "257/257 [==============================] - 1s 3ms/step - loss: 0.4174 - accuracy: 0.8494\n",
            "Epoch 57/150\n",
            "257/257 [==============================] - 1s 3ms/step - loss: 0.4174 - accuracy: 0.8490\n",
            "Epoch 58/150\n",
            "257/257 [==============================] - 1s 3ms/step - loss: 0.4162 - accuracy: 0.8491\n",
            "Epoch 59/150\n",
            "257/257 [==============================] - 1s 3ms/step - loss: 0.4153 - accuracy: 0.8499\n",
            "Epoch 60/150\n",
            "257/257 [==============================] - 1s 3ms/step - loss: 0.4151 - accuracy: 0.8502\n",
            "Epoch 61/150\n",
            "257/257 [==============================] - 1s 4ms/step - loss: 0.4148 - accuracy: 0.8501\n",
            "Epoch 62/150\n",
            "257/257 [==============================] - 1s 5ms/step - loss: 0.4144 - accuracy: 0.8510\n",
            "Epoch 63/150\n",
            "257/257 [==============================] - 1s 4ms/step - loss: 0.4149 - accuracy: 0.8503\n",
            "Epoch 64/150\n",
            "257/257 [==============================] - 1s 3ms/step - loss: 0.4145 - accuracy: 0.8504\n",
            "Epoch 65/150\n",
            "257/257 [==============================] - 1s 3ms/step - loss: 0.4158 - accuracy: 0.8497\n",
            "Epoch 66/150\n",
            "257/257 [==============================] - 1s 3ms/step - loss: 0.4128 - accuracy: 0.8505\n",
            "Epoch 67/150\n",
            "257/257 [==============================] - 1s 3ms/step - loss: 0.4123 - accuracy: 0.8509\n",
            "Epoch 68/150\n",
            "257/257 [==============================] - 1s 3ms/step - loss: 0.4122 - accuracy: 0.8511\n",
            "Epoch 69/150\n",
            "257/257 [==============================] - 1s 3ms/step - loss: 0.4144 - accuracy: 0.8503\n",
            "Epoch 70/150\n",
            "257/257 [==============================] - 1s 3ms/step - loss: 0.4116 - accuracy: 0.8508\n",
            "Epoch 71/150\n",
            "257/257 [==============================] - 1s 3ms/step - loss: 0.4110 - accuracy: 0.8513\n",
            "Epoch 72/150\n",
            "257/257 [==============================] - 1s 3ms/step - loss: 0.4115 - accuracy: 0.8514\n",
            "Epoch 73/150\n",
            "257/257 [==============================] - 1s 3ms/step - loss: 0.4115 - accuracy: 0.8513\n",
            "Epoch 74/150\n",
            "257/257 [==============================] - 1s 3ms/step - loss: 0.4103 - accuracy: 0.8518\n",
            "Epoch 75/150\n",
            "257/257 [==============================] - 1s 4ms/step - loss: 0.4111 - accuracy: 0.8514\n",
            "Epoch 76/150\n",
            "257/257 [==============================] - 1s 5ms/step - loss: 0.4114 - accuracy: 0.8509\n",
            "Epoch 77/150\n",
            "257/257 [==============================] - 1s 4ms/step - loss: 0.4103 - accuracy: 0.8524\n",
            "Epoch 78/150\n",
            "257/257 [==============================] - 1s 3ms/step - loss: 0.4107 - accuracy: 0.8522\n",
            "Epoch 79/150\n",
            "257/257 [==============================] - 1s 3ms/step - loss: 0.4096 - accuracy: 0.8521\n",
            "Epoch 80/150\n",
            "257/257 [==============================] - 1s 3ms/step - loss: 0.4089 - accuracy: 0.8517\n",
            "Epoch 81/150\n",
            "257/257 [==============================] - 1s 3ms/step - loss: 0.4093 - accuracy: 0.8522\n",
            "Epoch 82/150\n",
            "257/257 [==============================] - 1s 3ms/step - loss: 0.4073 - accuracy: 0.8529\n",
            "Epoch 83/150\n",
            "257/257 [==============================] - 1s 3ms/step - loss: 0.4097 - accuracy: 0.8522\n",
            "Epoch 84/150\n",
            "257/257 [==============================] - 1s 3ms/step - loss: 0.4074 - accuracy: 0.8520\n",
            "Epoch 85/150\n",
            "257/257 [==============================] - 1s 3ms/step - loss: 0.4094 - accuracy: 0.8527\n",
            "Epoch 86/150\n",
            "257/257 [==============================] - 1s 3ms/step - loss: 0.4073 - accuracy: 0.8526\n",
            "Epoch 87/150\n",
            "257/257 [==============================] - 1s 3ms/step - loss: 0.4071 - accuracy: 0.8528\n",
            "Epoch 88/150\n",
            "257/257 [==============================] - 1s 3ms/step - loss: 0.4075 - accuracy: 0.8522\n",
            "Epoch 89/150\n",
            "257/257 [==============================] - 1s 4ms/step - loss: 0.4066 - accuracy: 0.8527\n",
            "Epoch 90/150\n",
            "257/257 [==============================] - 1s 5ms/step - loss: 0.4072 - accuracy: 0.8528\n",
            "Epoch 91/150\n",
            "257/257 [==============================] - 1s 5ms/step - loss: 0.4066 - accuracy: 0.8528\n",
            "Epoch 92/150\n",
            "257/257 [==============================] - 1s 3ms/step - loss: 0.4057 - accuracy: 0.8532\n",
            "Epoch 93/150\n",
            "257/257 [==============================] - 1s 3ms/step - loss: 0.4052 - accuracy: 0.8521\n",
            "Epoch 94/150\n",
            "257/257 [==============================] - 1s 3ms/step - loss: 0.4058 - accuracy: 0.8533\n",
            "Epoch 95/150\n",
            "257/257 [==============================] - 1s 3ms/step - loss: 0.4050 - accuracy: 0.8527\n",
            "Epoch 96/150\n",
            "257/257 [==============================] - 1s 3ms/step - loss: 0.4043 - accuracy: 0.8529\n",
            "Epoch 97/150\n",
            "257/257 [==============================] - 1s 3ms/step - loss: 0.4051 - accuracy: 0.8532\n",
            "Epoch 98/150\n",
            "257/257 [==============================] - 1s 3ms/step - loss: 0.4060 - accuracy: 0.8530\n",
            "Epoch 99/150\n",
            "257/257 [==============================] - 1s 3ms/step - loss: 0.4045 - accuracy: 0.8536\n",
            "Epoch 100/150\n",
            "257/257 [==============================] - 1s 3ms/step - loss: 0.4039 - accuracy: 0.8532\n",
            "Epoch 101/150\n",
            "257/257 [==============================] - 1s 3ms/step - loss: 0.4043 - accuracy: 0.8536\n",
            "Epoch 102/150\n",
            "257/257 [==============================] - 1s 3ms/step - loss: 0.4040 - accuracy: 0.8534\n",
            "Epoch 103/150\n",
            "257/257 [==============================] - 1s 3ms/step - loss: 0.4032 - accuracy: 0.8535\n",
            "Epoch 104/150\n",
            "257/257 [==============================] - 1s 5ms/step - loss: 0.4035 - accuracy: 0.8536\n",
            "Epoch 105/150\n",
            "257/257 [==============================] - 1s 5ms/step - loss: 0.4033 - accuracy: 0.8535\n",
            "Epoch 106/150\n",
            "257/257 [==============================] - 1s 4ms/step - loss: 0.4009 - accuracy: 0.8548\n",
            "Epoch 107/150\n",
            "257/257 [==============================] - 1s 3ms/step - loss: 0.4037 - accuracy: 0.8541\n",
            "Epoch 108/150\n",
            "257/257 [==============================] - 1s 3ms/step - loss: 0.4017 - accuracy: 0.8542\n",
            "Epoch 109/150\n",
            "257/257 [==============================] - 1s 3ms/step - loss: 0.4028 - accuracy: 0.8542\n",
            "Epoch 110/150\n",
            "257/257 [==============================] - 1s 3ms/step - loss: 0.4019 - accuracy: 0.8540\n",
            "Epoch 111/150\n",
            "257/257 [==============================] - 1s 3ms/step - loss: 0.4021 - accuracy: 0.8543\n",
            "Epoch 112/150\n",
            "257/257 [==============================] - 1s 3ms/step - loss: 0.4025 - accuracy: 0.8529\n",
            "Epoch 113/150\n",
            "257/257 [==============================] - 1s 3ms/step - loss: 0.4009 - accuracy: 0.8547\n",
            "Epoch 114/150\n",
            "257/257 [==============================] - 1s 4ms/step - loss: 0.4001 - accuracy: 0.8551\n",
            "Epoch 115/150\n",
            "257/257 [==============================] - 1s 3ms/step - loss: 0.4017 - accuracy: 0.8539\n",
            "Epoch 116/150\n",
            "257/257 [==============================] - 1s 3ms/step - loss: 0.4005 - accuracy: 0.8540\n",
            "Epoch 117/150\n",
            "257/257 [==============================] - 1s 3ms/step - loss: 0.4013 - accuracy: 0.8535\n",
            "Epoch 118/150\n",
            "257/257 [==============================] - 1s 5ms/step - loss: 0.4002 - accuracy: 0.8553\n",
            "Epoch 119/150\n",
            "257/257 [==============================] - 1s 5ms/step - loss: 0.4003 - accuracy: 0.8539\n",
            "Epoch 120/150\n",
            "257/257 [==============================] - 1s 4ms/step - loss: 0.4008 - accuracy: 0.8550\n",
            "Epoch 121/150\n",
            "257/257 [==============================] - 1s 3ms/step - loss: 0.4009 - accuracy: 0.8545\n",
            "Epoch 122/150\n",
            "257/257 [==============================] - 1s 3ms/step - loss: 0.4005 - accuracy: 0.8550\n",
            "Epoch 123/150\n",
            "257/257 [==============================] - 1s 3ms/step - loss: 0.3998 - accuracy: 0.8545\n",
            "Epoch 124/150\n",
            "257/257 [==============================] - 1s 3ms/step - loss: 0.4000 - accuracy: 0.8555\n",
            "Epoch 125/150\n",
            "257/257 [==============================] - 1s 3ms/step - loss: 0.4001 - accuracy: 0.8552\n",
            "Epoch 126/150\n",
            "257/257 [==============================] - 1s 3ms/step - loss: 0.4013 - accuracy: 0.8542\n",
            "Epoch 127/150\n",
            "257/257 [==============================] - 1s 3ms/step - loss: 0.3985 - accuracy: 0.8551\n",
            "Epoch 128/150\n",
            "257/257 [==============================] - 1s 3ms/step - loss: 0.3984 - accuracy: 0.8561\n",
            "Epoch 129/150\n",
            "257/257 [==============================] - 1s 3ms/step - loss: 0.3987 - accuracy: 0.8557\n",
            "Epoch 130/150\n",
            "257/257 [==============================] - 1s 3ms/step - loss: 0.3986 - accuracy: 0.8552\n",
            "Epoch 131/150\n",
            "257/257 [==============================] - 1s 3ms/step - loss: 0.3972 - accuracy: 0.8556\n",
            "Epoch 132/150\n",
            "257/257 [==============================] - 1s 4ms/step - loss: 0.3983 - accuracy: 0.8557\n",
            "Epoch 133/150\n",
            "257/257 [==============================] - 1s 5ms/step - loss: 0.3987 - accuracy: 0.8554\n",
            "Epoch 134/150\n",
            "257/257 [==============================] - 1s 4ms/step - loss: 0.3986 - accuracy: 0.8560\n",
            "Epoch 135/150\n",
            "257/257 [==============================] - 1s 3ms/step - loss: 0.3979 - accuracy: 0.8553\n",
            "Epoch 136/150\n",
            "257/257 [==============================] - 1s 3ms/step - loss: 0.3972 - accuracy: 0.8555\n",
            "Epoch 137/150\n",
            "257/257 [==============================] - 1s 3ms/step - loss: 0.3983 - accuracy: 0.8551\n",
            "Epoch 138/150\n",
            "257/257 [==============================] - 1s 3ms/step - loss: 0.3969 - accuracy: 0.8565\n",
            "Epoch 139/150\n",
            "257/257 [==============================] - 1s 3ms/step - loss: 0.3974 - accuracy: 0.8551\n",
            "Epoch 140/150\n",
            "257/257 [==============================] - 1s 3ms/step - loss: 0.3962 - accuracy: 0.8563\n",
            "Epoch 141/150\n",
            "257/257 [==============================] - 1s 3ms/step - loss: 0.3987 - accuracy: 0.8556\n",
            "Epoch 142/150\n",
            "257/257 [==============================] - 1s 3ms/step - loss: 0.3970 - accuracy: 0.8551\n",
            "Epoch 143/150\n",
            "257/257 [==============================] - 1s 3ms/step - loss: 0.3961 - accuracy: 0.8561\n",
            "Epoch 144/150\n",
            "257/257 [==============================] - 1s 3ms/step - loss: 0.3956 - accuracy: 0.8564\n",
            "Epoch 145/150\n",
            "257/257 [==============================] - 1s 3ms/step - loss: 0.3961 - accuracy: 0.8567\n",
            "Epoch 146/150\n",
            "257/257 [==============================] - 1s 4ms/step - loss: 0.3955 - accuracy: 0.8564\n",
            "Epoch 147/150\n",
            "257/257 [==============================] - 1s 5ms/step - loss: 0.3955 - accuracy: 0.8564\n",
            "Epoch 148/150\n",
            "257/257 [==============================] - 1s 4ms/step - loss: 0.3951 - accuracy: 0.8566\n",
            "Epoch 149/150\n",
            "257/257 [==============================] - 1s 3ms/step - loss: 0.3951 - accuracy: 0.8566\n",
            "Epoch 150/150\n",
            "257/257 [==============================] - 1s 3ms/step - loss: 0.3944 - accuracy: 0.8567\n"
          ]
        },
        {
          "output_type": "execute_result",
          "data": {
            "text/plain": [
              "<keras.callbacks.History at 0x7f2244a049d0>"
            ]
          },
          "metadata": {},
          "execution_count": 34
        }
      ],
      "source": [
        "model.fit(x_train,y_train_enc,batch_size=256 ,epochs=150)\n"
      ],
      "id": "Pea13Xp6TA6y"
    },
    {
      "cell_type": "code",
      "execution_count": 35,
      "metadata": {
        "colab": {
          "base_uri": "https://localhost:8080/",
          "height": 642
        },
        "id": "sNMV9KGy-e9u",
        "outputId": "6860a55a-f5bd-492c-d26d-9c98d0846ac5"
      },
      "outputs": [
        {
          "output_type": "stream",
          "name": "stdout",
          "text": [
            "42/42 [==============================] - 0s 2ms/step - loss: 0.4115 - accuracy: 0.8570\n",
            "test loss : 0.411489874124527\n",
            "test accuracy: 85.70364713668823\n",
            "____________________________\n",
            "2056/2056 [==============================] - 4s 2ms/step - loss: 0.3939 - accuracy: 0.8574\n",
            "trainig loss : 0.3938532769680023\n",
            "trainig accuracy: 85.73926091194153\n",
            "____________________________\n",
            "42/42 [==============================] - 0s 1ms/step\n"
          ]
        },
        {
          "output_type": "display_data",
          "data": {
            "text/plain": [
              "<Figure size 432x288 with 2 Axes>"
            ],
            "image/png": "[encoded data removed]"
          },
          "metadata": {
            "needs_background": "light"
          }
        },
        {
          "output_type": "stream",
          "name": "stdout",
          "text": [
            "true\n",
            "              precision    recall  f1-score   support\n",
            "\n",
            "           0       0.84      0.87      0.85       472\n",
            "           1       0.93      0.84      0.88       490\n",
            "           2       0.80      0.86      0.83       381\n",
            "\n",
            "    accuracy                           0.86      1343\n",
            "   macro avg       0.86      0.86      0.86      1343\n",
            "weighted avg       0.86      0.86      0.86      1343\n",
            "\n"
          ]
        }
      ],
      "source": [
        "get_accuracy_NN(\"neural network\",model,x_train,y_train,x_test,y_test,y_train_enc,y_test_enc)"
      ],
      "id": "sNMV9KGy-e9u"
    },
    {
      "cell_type": "markdown",
      "metadata": {
        "id": "mCL2gctvxtma"
      },
      "source": [
        "# ***model 2 neural ntework***"
      ],
      "id": "mCL2gctvxtma"
    },
    {
      "cell_type": "code",
      "execution_count": 36,
      "metadata": {
        "id": "iKMNlyTYiQw4"
      },
      "outputs": [],
      "source": [
        "\n",
        "model=Sequential()\n",
        "model.add(Dense( 120,input_shape=(100,),activation='relu' ))\n",
        "\n",
        "model.add(Dense(64, activation='relu'))\n",
        "model.add(Dense(16, activation='relu'))\n",
        "model.add(Dense(64, activation='relu'))\n",
        "model.add(Dense(3, activation='softmax'))\n",
        "\n",
        "\n",
        "model.compile(optimizer = 'adam' ,loss = 'categorical_crossentropy' ,metrics=['accuracy'])\n",
        "\n"
      ],
      "id": "iKMNlyTYiQw4"
    },
    {
      "cell_type": "code",
      "execution_count": 37,
      "metadata": {
        "colab": {
          "base_uri": "https://localhost:8080/",
          "height": 1000
        },
        "id": "ZUNln5NO4TBY",
        "outputId": "57d05f90-a676-476f-ae7a-24429a0f17ac"
      },
      "outputs": [
        {
          "output_type": "stream",
          "name": "stdout",
          "text": [
            "Epoch 1/50\n",
            "257/257 [==============================] - 2s 4ms/step - loss: 0.5430 - accuracy: 0.7890\n",
            "Epoch 2/50\n",
            "257/257 [==============================] - 1s 4ms/step - loss: 0.4388 - accuracy: 0.8360\n",
            "Epoch 3/50\n",
            "257/257 [==============================] - 1s 4ms/step - loss: 0.4203 - accuracy: 0.8414\n",
            "Epoch 4/50\n",
            "257/257 [==============================] - 1s 4ms/step - loss: 0.4112 - accuracy: 0.8437\n",
            "Epoch 5/50\n",
            "257/257 [==============================] - 1s 4ms/step - loss: 0.4052 - accuracy: 0.8456\n",
            "Epoch 6/50\n",
            "257/257 [==============================] - 1s 4ms/step - loss: 0.4001 - accuracy: 0.8476\n",
            "Epoch 7/50\n",
            "257/257 [==============================] - 1s 5ms/step - loss: 0.3942 - accuracy: 0.8497\n",
            "Epoch 8/50\n",
            "257/257 [==============================] - 2s 7ms/step - loss: 0.3902 - accuracy: 0.8501\n",
            "Epoch 9/50\n",
            "257/257 [==============================] - 1s 5ms/step - loss: 0.3892 - accuracy: 0.8521\n",
            "Epoch 10/50\n",
            "257/257 [==============================] - 1s 4ms/step - loss: 0.3842 - accuracy: 0.8540\n",
            "Epoch 11/50\n",
            "257/257 [==============================] - 1s 4ms/step - loss: 0.3803 - accuracy: 0.8542\n",
            "Epoch 12/50\n",
            "257/257 [==============================] - 1s 4ms/step - loss: 0.3791 - accuracy: 0.8553\n",
            "Epoch 13/50\n",
            "257/257 [==============================] - 1s 4ms/step - loss: 0.3759 - accuracy: 0.8557\n",
            "Epoch 14/50\n",
            "257/257 [==============================] - 1s 4ms/step - loss: 0.3730 - accuracy: 0.8568\n",
            "Epoch 15/50\n",
            "257/257 [==============================] - 1s 4ms/step - loss: 0.3720 - accuracy: 0.8580\n",
            "Epoch 16/50\n",
            "257/257 [==============================] - 1s 4ms/step - loss: 0.3689 - accuracy: 0.8591\n",
            "Epoch 17/50\n",
            "257/257 [==============================] - 1s 4ms/step - loss: 0.3661 - accuracy: 0.8603\n",
            "Epoch 18/50\n",
            "257/257 [==============================] - 2s 7ms/step - loss: 0.3649 - accuracy: 0.8609\n",
            "Epoch 19/50\n",
            "257/257 [==============================] - 2s 6ms/step - loss: 0.3630 - accuracy: 0.8614\n",
            "Epoch 20/50\n",
            "257/257 [==============================] - 1s 5ms/step - loss: 0.3612 - accuracy: 0.8614\n",
            "Epoch 21/50\n",
            "257/257 [==============================] - 1s 4ms/step - loss: 0.3595 - accuracy: 0.8613\n",
            "Epoch 22/50\n",
            "257/257 [==============================] - 1s 5ms/step - loss: 0.3565 - accuracy: 0.8634\n",
            "Epoch 23/50\n",
            "257/257 [==============================] - 1s 4ms/step - loss: 0.3564 - accuracy: 0.8637\n",
            "Epoch 24/50\n",
            "257/257 [==============================] - 1s 5ms/step - loss: 0.3542 - accuracy: 0.8639\n",
            "Epoch 25/50\n",
            "257/257 [==============================] - 1s 4ms/step - loss: 0.3520 - accuracy: 0.8651\n",
            "Epoch 26/50\n",
            "257/257 [==============================] - 1s 4ms/step - loss: 0.3513 - accuracy: 0.8659\n",
            "Epoch 27/50\n",
            "257/257 [==============================] - 1s 5ms/step - loss: 0.3485 - accuracy: 0.8663\n",
            "Epoch 28/50\n",
            "257/257 [==============================] - 2s 7ms/step - loss: 0.3462 - accuracy: 0.8673\n",
            "Epoch 29/50\n",
            "257/257 [==============================] - 2s 6ms/step - loss: 0.3459 - accuracy: 0.8674\n",
            "Epoch 30/50\n",
            "257/257 [==============================] - 1s 4ms/step - loss: 0.3441 - accuracy: 0.8683\n",
            "Epoch 31/50\n",
            "257/257 [==============================] - 1s 4ms/step - loss: 0.3433 - accuracy: 0.8675\n",
            "Epoch 32/50\n",
            "257/257 [==============================] - 1s 4ms/step - loss: 0.3413 - accuracy: 0.8685\n",
            "Epoch 33/50\n",
            "257/257 [==============================] - 1s 4ms/step - loss: 0.3398 - accuracy: 0.8694\n",
            "Epoch 34/50\n",
            "257/257 [==============================] - 1s 4ms/step - loss: 0.3382 - accuracy: 0.8695\n",
            "Epoch 35/50\n",
            "257/257 [==============================] - 1s 4ms/step - loss: 0.3390 - accuracy: 0.8698\n",
            "Epoch 36/50\n",
            "257/257 [==============================] - 1s 4ms/step - loss: 0.3354 - accuracy: 0.8706\n",
            "Epoch 37/50\n",
            "257/257 [==============================] - 1s 5ms/step - loss: 0.3334 - accuracy: 0.8719\n",
            "Epoch 38/50\n",
            "257/257 [==============================] - 1s 5ms/step - loss: 0.3325 - accuracy: 0.8726\n",
            "Epoch 39/50\n",
            "257/257 [==============================] - 2s 7ms/step - loss: 0.3324 - accuracy: 0.8731\n",
            "Epoch 40/50\n",
            "257/257 [==============================] - 1s 5ms/step - loss: 0.3291 - accuracy: 0.8730\n",
            "Epoch 41/50\n",
            "257/257 [==============================] - 1s 4ms/step - loss: 0.3294 - accuracy: 0.8733\n",
            "Epoch 42/50\n",
            "257/257 [==============================] - 1s 4ms/step - loss: 0.3283 - accuracy: 0.8740\n",
            "Epoch 43/50\n",
            "257/257 [==============================] - 1s 4ms/step - loss: 0.3257 - accuracy: 0.8736\n",
            "Epoch 44/50\n",
            "257/257 [==============================] - 1s 4ms/step - loss: 0.3243 - accuracy: 0.8752\n",
            "Epoch 45/50\n",
            "257/257 [==============================] - 1s 5ms/step - loss: 0.3239 - accuracy: 0.8758\n",
            "Epoch 46/50\n",
            "257/257 [==============================] - 1s 4ms/step - loss: 0.3212 - accuracy: 0.8764\n",
            "Epoch 47/50\n",
            "257/257 [==============================] - 1s 4ms/step - loss: 0.3199 - accuracy: 0.8757\n",
            "Epoch 48/50\n",
            "257/257 [==============================] - 1s 4ms/step - loss: 0.3201 - accuracy: 0.8770\n",
            "Epoch 49/50\n",
            "257/257 [==============================] - 2s 7ms/step - loss: 0.3178 - accuracy: 0.8779\n",
            "Epoch 50/50\n",
            "257/257 [==============================] - 2s 6ms/step - loss: 0.3164 - accuracy: 0.8788\n",
            "42/42 [==============================] - 0s 2ms/step - loss: 0.3818 - accuracy: 0.8622\n",
            "test loss : 0.3818339705467224\n",
            "test accuracy: 86.22487187385559\n",
            "____________________________\n",
            "2056/2056 [==============================] - 4s 2ms/step - loss: 0.3082 - accuracy: 0.8809\n",
            "trainig loss : 0.3082132935523987\n",
            "trainig accuracy: 88.08640837669373\n",
            "____________________________\n",
            "42/42 [==============================] - 0s 2ms/step\n"
          ]
        },
        {
          "output_type": "display_data",
          "data": {
            "text/plain": [
              "<Figure size 432x288 with 2 Axes>"
            ],
            "image/png": "[encoded data removed]"
          },
          "metadata": {
            "needs_background": "light"
          }
        },
        {
          "output_type": "stream",
          "name": "stdout",
          "text": [
            "true\n",
            "              precision    recall  f1-score   support\n",
            "\n",
            "           0       0.86      0.88      0.87       472\n",
            "           1       0.91      0.84      0.87       490\n",
            "           2       0.80      0.87      0.84       381\n",
            "\n",
            "    accuracy                           0.86      1343\n",
            "   macro avg       0.86      0.86      0.86      1343\n",
            "weighted avg       0.87      0.86      0.86      1343\n",
            "\n"
          ]
        }
      ],
      "source": [
        "model.fit(x_train,y_train_enc,batch_size=256 ,epochs=50)\n",
        "get_accuracy_NN(\"neural network\",model,x_train,y_train,x_test,y_test,y_train_enc,y_test_enc)"
      ],
      "id": "ZUNln5NO4TBY"
    },
    {
      "cell_type": "markdown",
      "metadata": {
        "id": "ROdxt3dNmic-"
      },
      "source": [
        "CNN"
      ],
      "id": "ROdxt3dNmic-"
    },
    {
      "cell_type": "code",
      "execution_count": 38,
      "metadata": {
        "colab": {
          "base_uri": "https://localhost:8080/"
        },
        "id": "n0F5Zt1XkihN",
        "outputId": "75e3c680-6f2b-4044-bc21-966d2834bf71"
      },
      "outputs": [
        {
          "output_type": "stream",
          "name": "stdout",
          "text": [
            "Model: \"sequential_2\"\n",
            "_________________________________________________________________\n",
            " Layer (type)                Output Shape              Param #   \n",
            "=================================================================\n",
            " conv2d (Conv2D)             (None, 9, 9, 64)          320       \n",
            "                                                                 \n",
            " conv2d_1 (Conv2D)           (None, 7, 7, 8)           4616      \n",
            "                                                                 \n",
            " flatten (Flatten)           (None, 392)               0         \n",
            "                                                                 \n",
            " dense_9 (Dense)             (None, 64)                25152     \n",
            "                                                                 \n",
            " dense_10 (Dense)            (None, 16)                1040      \n",
            "                                                                 \n",
            " dense_11 (Dense)            (None, 3)                 51        \n",
            "                                                                 \n",
            "=================================================================\n",
            "Total params: 31,179\n",
            "Trainable params: 31,179\n",
            "Non-trainable params: 0\n",
            "_________________________________________________________________\n"
          ]
        }
      ],
      "source": [
        "from tensorflow.keras.layers import Dense, Conv2D, Flatten\n",
        "# Instantiate your model as usual\n",
        "model = Sequential()\n",
        "model.add(Conv2D(\n",
        "                 filters=64,  \n",
        "                 kernel_size=2,              \n",
        "                 input_shape=(10,10,1),     \n",
        "                 activation='relu')\n",
        ")\n",
        "\n",
        "model.add(Conv2D(8, kernel_size=3, activation='relu'))\n",
        "model.add(Flatten())\n",
        "\n",
        "model.add(Dense(64, activation='relu'))\n",
        "\n",
        "model.add(Dense(16, activation='relu'))\n",
        "# End this multiclass model with 3 outputs and softmax\n",
        "model.add(Dense(3, activation='softmax'))\n",
        "\n",
        "model.summary ()"
      ],
      "id": "n0F5Zt1XkihN"
    },
    {
      "cell_type": "code",
      "execution_count": 39,
      "metadata": {
        "colab": {
          "base_uri": "https://localhost:8080/"
        },
        "id": "qJNen43Rlb0-",
        "outputId": "a41bcdbd-ef91-4730-f692-55539a4c8d51"
      },
      "outputs": [
        {
          "output_type": "stream",
          "name": "stdout",
          "text": [
            "Epoch 1/7\n",
            "257/257 [==============================] - 15s 56ms/step - loss: 0.5563 - accuracy: 0.7920\n",
            "Epoch 2/7\n",
            "257/257 [==============================] - 14s 55ms/step - loss: 0.4581 - accuracy: 0.8296\n",
            "Epoch 3/7\n",
            "257/257 [==============================] - 16s 62ms/step - loss: 0.4386 - accuracy: 0.8347\n",
            "Epoch 4/7\n",
            "257/257 [==============================] - 20s 79ms/step - loss: 0.4287 - accuracy: 0.8367\n",
            "Epoch 5/7\n",
            "257/257 [==============================] - 19s 74ms/step - loss: 0.4197 - accuracy: 0.8403\n",
            "Epoch 6/7\n",
            "257/257 [==============================] - 14s 56ms/step - loss: 0.4152 - accuracy: 0.8425\n",
            "Epoch 7/7\n",
            "257/257 [==============================] - 18s 69ms/step - loss: 0.4096 - accuracy: 0.8443\n"
          ]
        },
        {
          "output_type": "execute_result",
          "data": {
            "text/plain": [
              "<keras.callbacks.History at 0x7f2244fdb190>"
            ]
          },
          "metadata": {},
          "execution_count": 39
        }
      ],
      "source": [
        "model.compile(optimizer = 'adam' ,loss = 'categorical_crossentropy' ,metrics=['accuracy'])\n",
        "model.fit(x_train.reshape(-1,10,10,1),y_train_enc,batch_size=256 ,epochs=7)"
      ],
      "id": "qJNen43Rlb0-"
    },
    {
      "cell_type": "code",
      "execution_count": 40,
      "metadata": {
        "colab": {
          "base_uri": "https://localhost:8080/"
        },
        "id": "M7_kuTa4WAdM",
        "outputId": "10517e46-ff44-4c06-ad2f-709bfb0f7b83"
      },
      "outputs": [
        {
          "output_type": "stream",
          "name": "stdout",
          "text": [
            "42/42 [==============================] - 0s 3ms/step\n",
            "test accuracy :  84.36336559940432\n",
            "_______________________\n",
            "              precision    recall  f1-score   support\n",
            "\n",
            "           0       0.83      0.85      0.84       472\n",
            "           1       0.96      0.80      0.87       490\n",
            "           2       0.75      0.89      0.81       381\n",
            "\n",
            "    accuracy                           0.84      1343\n",
            "   macro avg       0.85      0.85      0.84      1343\n",
            "weighted avg       0.86      0.84      0.85      1343\n",
            "\n",
            "confusion  matrix\n",
            "[[402  48  33]\n",
            " [  8 392   9]\n",
            " [ 62  50 339]]\n"
          ]
        }
      ],
      "source": [
        "\n",
        "pred=model.predict(x_test.reshape(-1,10,10,1))\n",
        "pred_list=[]\n",
        "for i in pred:\n",
        "  pred_list.append(np.argmax(i))\n",
        "from sklearn.metrics import accuracy_score\n",
        "print(\"test accuracy : \", accuracy_score(y_test,pred_list)*100)\n",
        "print(\"_______________________\")\n",
        "print(classification_report(y_test,pred_list  ))\n",
        "print(\"confusion  matrix\")\n",
        "print(confusion_matrix(pred_list, y_test))"
      ],
      "id": "M7_kuTa4WAdM"
    },
    {
      "cell_type": "markdown",
      "metadata": {
        "id": "IjBqTjbOBx2Y"
      },
      "source": [
        "rnn"
      ],
      "id": "IjBqTjbOBx2Y"
    },
    {
      "cell_type": "code",
      "execution_count": 41,
      "metadata": {
        "id": "jBUdE5fTBxNY"
      },
      "outputs": [],
      "source": [
        "import tensorflow as tf \n",
        "from tensorflow.keras.layers import Dense , SimpleRNN, Flatten ,Dropout, Input, Activation"
      ],
      "id": "jBUdE5fTBxNY"
    },
    {
      "cell_type": "code",
      "execution_count": 42,
      "metadata": {
        "id": "VAeDwrlaB6Wq"
      },
      "outputs": [],
      "source": [
        "input_shape = ( 100,1)\n",
        "batch_size = 100\n",
        "units = 256\n",
        "dropout = 0.2"
      ],
      "id": "VAeDwrlaB6Wq"
    },
    {
      "cell_type": "code",
      "execution_count": 43,
      "metadata": {
        "colab": {
          "base_uri": "https://localhost:8080/"
        },
        "id": "0aiWce56B2HF",
        "outputId": "a57d742d-239d-4f9b-ae4e-672542b3cb9e"
      },
      "outputs": [
        {
          "output_type": "stream",
          "name": "stdout",
          "text": [
            "Model: \"sequential_3\"\n",
            "_________________________________________________________________\n",
            " Layer (type)                Output Shape              Param #   \n",
            "=================================================================\n",
            " simple_rnn (SimpleRNN)      (None, 256)               66048     \n",
            "                                                                 \n",
            " dense_12 (Dense)            (None, 3)                 771       \n",
            "                                                                 \n",
            " activation (Activation)     (None, 3)                 0         \n",
            "                                                                 \n",
            "=================================================================\n",
            "Total params: 66,819\n",
            "Trainable params: 66,819\n",
            "Non-trainable params: 0\n",
            "_________________________________________________________________\n"
          ]
        }
      ],
      "source": [
        "model = Sequential()\n",
        "model.add(SimpleRNN(units=units,\n",
        "                    dropout=dropout,\n",
        "                    input_shape=input_shape))\n",
        "model.add(Dense(3))\n",
        "model.add(Activation('softmax'))\n",
        "model.summary()"
      ],
      "id": "0aiWce56B2HF"
    },
    {
      "cell_type": "code",
      "execution_count": 44,
      "metadata": {
        "colab": {
          "base_uri": "https://localhost:8080/"
        },
        "id": "cyy3P-ACCOVQ",
        "outputId": "99ef112f-c1a1-4924-de4f-57b2acdd944b"
      },
      "outputs": [
        {
          "output_type": "stream",
          "name": "stdout",
          "text": [
            "Epoch 1/2\n",
            "658/658 [==============================] - 118s 177ms/step - loss: 0.7211\n",
            "Epoch 2/2\n",
            "658/658 [==============================] - 113s 171ms/step - loss: 0.6426\n"
          ]
        },
        {
          "output_type": "execute_result",
          "data": {
            "text/plain": [
              "<keras.callbacks.History at 0x7f2244c87700>"
            ]
          },
          "metadata": {},
          "execution_count": 44
        }
      ],
      "source": [
        "model.compile(optimizer=tf.keras.optimizers.Adam(learning_rate=1e-3),loss=tf.keras.losses.CategoricalCrossentropy())\n",
        "# train the network\n",
        "model.fit(x_train, y_train_enc, epochs=2, batch_size=batch_size,)\n"
      ],
      "id": "cyy3P-ACCOVQ"
    },
    {
      "cell_type": "markdown",
      "metadata": {
        "id": "8tXJOW_f_Btu"
      },
      "source": [
        "# **GRU model**"
      ],
      "id": "8tXJOW_f_Btu"
    },
    {
      "cell_type": "code",
      "execution_count": 45,
      "metadata": {
        "colab": {
          "base_uri": "https://localhost:8080/"
        },
        "id": "nyJpFGb4xfhG",
        "outputId": "7e65bfbf-2147-47e7-9b69-cdadba8fac4c"
      },
      "outputs": [
        {
          "output_type": "stream",
          "name": "stdout",
          "text": [
            "Model: \"sequential_4\"\n",
            "_________________________________________________________________\n",
            " Layer (type)                Output Shape              Param #   \n",
            "=================================================================\n",
            " gru (GRU)                   (None, 150)               72900     \n",
            "                                                                 \n",
            " dense_13 (Dense)            (None, 3)                 453       \n",
            "                                                                 \n",
            " activation_1 (Activation)   (None, 3)                 0         \n",
            "                                                                 \n",
            "=================================================================\n",
            "Total params: 73,353\n",
            "Trainable params: 73,353\n",
            "Non-trainable params: 0\n",
            "_________________________________________________________________\n"
          ]
        }
      ],
      "source": [
        "model_gru= Sequential()\n",
        "model_gru.add(Input(shape=(10,10)))\n",
        "model_gru.add(GRU( 150,activation='relu'))\n",
        "\n",
        "model_gru.add(Dense(3))\n",
        "model_gru.add(Activation('softmax'))\n",
        "model_gru.summary()"
      ],
      "id": "nyJpFGb4xfhG"
    },
    {
      "cell_type": "code",
      "source": [
        "x_test=np.array(x_test).reshape(-1,10,10)\n",
        "x_train=np.array(x_train).reshape(-1,10,10)"
      ],
      "metadata": {
        "id": "BUIpaQ9-vx0-"
      },
      "id": "BUIpaQ9-vx0-",
      "execution_count": 46,
      "outputs": []
    },
    {
      "cell_type": "code",
      "execution_count": 47,
      "metadata": {
        "colab": {
          "base_uri": "https://localhost:8080/"
        },
        "id": "HcngMlISxqDW",
        "outputId": "9d9a0e73-39a9-42b7-b282-6627a293d5c8"
      },
      "outputs": [
        {
          "output_type": "stream",
          "name": "stdout",
          "text": [
            "Epoch 1/20\n",
            "1028/1028 [==============================] - 28s 25ms/step - loss: 0.5494 - accuracy: 0.7919\n",
            "Epoch 2/20\n",
            "1028/1028 [==============================] - 25s 24ms/step - loss: 0.4465 - accuracy: 0.8300\n",
            "Epoch 3/20\n",
            "1028/1028 [==============================] - 25s 25ms/step - loss: 0.4289 - accuracy: 0.8377\n",
            "Epoch 4/20\n",
            "1028/1028 [==============================] - 25s 24ms/step - loss: 0.4190 - accuracy: 0.8400\n",
            "Epoch 5/20\n",
            "1028/1028 [==============================] - 25s 24ms/step - loss: 0.4102 - accuracy: 0.8426\n",
            "Epoch 6/20\n",
            "1028/1028 [==============================] - 25s 24ms/step - loss: 0.4059 - accuracy: 0.8452\n",
            "Epoch 7/20\n",
            "1028/1028 [==============================] - 25s 24ms/step - loss: 0.4004 - accuracy: 0.8471\n",
            "Epoch 8/20\n",
            "1028/1028 [==============================] - 25s 24ms/step - loss: 0.3940 - accuracy: 0.8492\n",
            "Epoch 9/20\n",
            "1028/1028 [==============================] - 25s 24ms/step - loss: 0.3899 - accuracy: 0.8500\n",
            "Epoch 10/20\n",
            "1028/1028 [==============================] - 25s 25ms/step - loss: 0.3849 - accuracy: 0.8526\n",
            "Epoch 11/20\n",
            "1028/1028 [==============================] - 25s 24ms/step - loss: 0.3812 - accuracy: 0.8523\n",
            "Epoch 12/20\n",
            "1028/1028 [==============================] - 25s 24ms/step - loss: 0.3764 - accuracy: 0.8546\n",
            "Epoch 13/20\n",
            "1028/1028 [==============================] - 25s 24ms/step - loss: 0.3729 - accuracy: 0.8563\n",
            "Epoch 14/20\n",
            "1028/1028 [==============================] - 24s 23ms/step - loss: 0.3705 - accuracy: 0.8567\n",
            "Epoch 15/20\n",
            "1028/1028 [==============================] - 26s 25ms/step - loss: 0.3666 - accuracy: 0.8590\n",
            "Epoch 16/20\n",
            "1028/1028 [==============================] - 25s 24ms/step - loss: 0.3631 - accuracy: 0.8591\n",
            "Epoch 17/20\n",
            "1028/1028 [==============================] - 25s 24ms/step - loss: 0.3598 - accuracy: 0.8604\n",
            "Epoch 18/20\n",
            "1028/1028 [==============================] - 25s 24ms/step - loss: 0.3560 - accuracy: 0.8622\n",
            "Epoch 19/20\n",
            "1028/1028 [==============================] - 25s 25ms/step - loss: 0.3514 - accuracy: 0.8633\n",
            "Epoch 20/20\n",
            "1028/1028 [==============================] - 25s 25ms/step - loss: 0.3489 - accuracy: 0.8648\n"
          ]
        },
        {
          "output_type": "execute_result",
          "data": {
            "text/plain": [
              "<keras.callbacks.History at 0x7f22449962b0>"
            ]
          },
          "metadata": {},
          "execution_count": 47
        }
      ],
      "source": [
        "model_gru.compile(optimizer=tf.keras.optimizers.Adam(learning_rate=1e-3),\n",
        "              loss=tf.keras.losses.CategoricalCrossentropy()\n",
        "              , metrics=['accuracy'])\n",
        "model_gru.fit(x_train,y_train_enc,batch_size=64,epochs=20)"
      ],
      "id": "HcngMlISxqDW"
    },
    {
      "cell_type": "code",
      "source": [
        "loss,acc=model_gru.evaluate(x_test,y_test_enc)\n",
        "print(\"test loss :\", loss)\n",
        "print('test accuracy:',acc*100)\n",
        "print(\"____________________________\")\n",
        "loss,acc=model_gru.evaluate(x_train,y_train_enc)\n",
        "print(\"trainig loss :\", loss)\n",
        "print('trainig accuracy:',acc*100)\n",
        "print(\"____________________________\")\n",
        "\n",
        "pred=model_gru.predict(x_test)\n",
        "pred_list=[]\n",
        "for i in pred:\n",
        "  pred_list.append(np.argmax(i))\n",
        "cf1 = confusion_matrix(y_test,pred_list)\n",
        "sns.heatmap(cf1,annot=True,fmt = '.0f')\n",
        "plt.xlabel('prediction')\n",
        "plt.ylabel('Actual')\n",
        "plt.title(\"GRU\"+ ' Confusion Matrix')\n",
        "plt.show()\n",
        "print(\"true\")\n",
        "print(classification_report(y_test,pred_list  ))"
      ],
      "metadata": {
        "colab": {
          "base_uri": "https://localhost:8080/",
          "height": 642
        },
        "id": "RkqoX_o8uYUg",
        "outputId": "7d486383-9fa8-402b-f041-634e931f95e2"
      },
      "id": "RkqoX_o8uYUg",
      "execution_count": 48,
      "outputs": [
        {
          "output_type": "stream",
          "name": "stdout",
          "text": [
            "42/42 [==============================] - 1s 7ms/step - loss: 0.3735 - accuracy: 0.8615\n",
            "test loss : 0.3735315501689911\n",
            "test accuracy: 86.1504077911377\n",
            "____________________________\n",
            "2056/2056 [==============================] - 14s 7ms/step - loss: 0.3349 - accuracy: 0.8711\n",
            "trainig loss : 0.3349282443523407\n",
            "trainig accuracy: 87.10589408874512\n",
            "____________________________\n",
            "42/42 [==============================] - 0s 6ms/step\n"
          ]
        },
        {
          "output_type": "display_data",
          "data": {
            "text/plain": [
              "<Figure size 432x288 with 2 Axes>"
            ],
            "image/png": "[encoded data removed]"
          },
          "metadata": {
            "needs_background": "light"
          }
        },
        {
          "output_type": "stream",
          "name": "stdout",
          "text": [
            "true\n",
            "              precision    recall  f1-score   support\n",
            "\n",
            "           0       0.83      0.90      0.87       472\n",
            "           1       0.94      0.82      0.88       490\n",
            "           2       0.81      0.87      0.84       381\n",
            "\n",
            "    accuracy                           0.86      1343\n",
            "   macro avg       0.86      0.86      0.86      1343\n",
            "weighted avg       0.87      0.86      0.86      1343\n",
            "\n"
          ]
        }
      ]
    },
    {
      "cell_type": "markdown",
      "metadata": {
        "id": "-Jvlnu8hFijn"
      },
      "source": [
        "# **LSTM**"
      ],
      "id": "-Jvlnu8hFijn"
    },
    {
      "cell_type": "code",
      "execution_count": 49,
      "metadata": {
        "colab": {
          "base_uri": "https://localhost:8080/"
        },
        "id": "9KrtR7foFt7t",
        "outputId": "be7c6a1d-d095-4051-8208-8aae653f2275"
      },
      "outputs": [
        {
          "output_type": "stream",
          "name": "stdout",
          "text": [
            "Model: \"sequential_5\"\n",
            "_________________________________________________________________\n",
            " Layer (type)                Output Shape              Param #   \n",
            "=================================================================\n",
            " lstm (LSTM)                 (None, 120)               62880     \n",
            "                                                                 \n",
            " dense_14 (Dense)            (None, 3)                 363       \n",
            "                                                                 \n",
            " activation_2 (Activation)   (None, 3)                 0         \n",
            "                                                                 \n",
            "=================================================================\n",
            "Total params: 63,243\n",
            "Trainable params: 63,243\n",
            "Non-trainable params: 0\n",
            "_________________________________________________________________\n"
          ]
        }
      ],
      "source": [
        "model_lstm= Sequential()\n",
        "model_lstm.add(Input(shape=(10,10)))\n",
        "model_lstm.add(LSTM(120  ,activation='relu'))\n",
        "model_lstm.add(Dense(3))\n",
        "model_lstm.add(Activation('softmax'))\n",
        "model_lstm.summary()"
      ],
      "id": "9KrtR7foFt7t"
    },
    {
      "cell_type": "code",
      "execution_count": 50,
      "metadata": {
        "id": "j4u3RvWMF2ZR"
      },
      "outputs": [],
      "source": [
        "model_lstm.compile(optimizer=tf.keras.optimizers.Adam(learning_rate=1e-3),\n",
        "              loss=tf.keras.losses.CategoricalCrossentropy()\n",
        "              , metrics=['accuracy'])\n"
      ],
      "id": "j4u3RvWMF2ZR"
    },
    {
      "cell_type": "code",
      "source": [
        "model_lstm.fit(x_train,y_train_enc,batch_size=64,epochs=10)"
      ],
      "metadata": {
        "colab": {
          "base_uri": "https://localhost:8080/"
        },
        "id": "ULubAYQXoymx",
        "outputId": "0e82dab0-d779-443c-cfb7-b4d7b097ee48"
      },
      "id": "ULubAYQXoymx",
      "execution_count": 51,
      "outputs": [
        {
          "output_type": "stream",
          "name": "stdout",
          "text": [
            "Epoch 1/10\n",
            "1028/1028 [==============================] - 24s 21ms/step - loss: 0.5617 - accuracy: 0.7847\n",
            "Epoch 2/10\n",
            "1028/1028 [==============================] - 29s 28ms/step - loss: 0.4565 - accuracy: 0.8262\n",
            "Epoch 3/10\n",
            "1028/1028 [==============================] - 46s 45ms/step - loss: 0.4406 - accuracy: 0.8313\n",
            "Epoch 4/10\n",
            "1028/1028 [==============================] - 38s 37ms/step - loss: 0.4313 - accuracy: 0.8360\n",
            "Epoch 5/10\n",
            "1028/1028 [==============================] - 22s 21ms/step - loss: 0.4254 - accuracy: 0.8362\n",
            "Epoch 6/10\n",
            "1028/1028 [==============================] - 22s 22ms/step - loss: 0.4189 - accuracy: 0.8388\n",
            "Epoch 7/10\n",
            "1028/1028 [==============================] - 23s 22ms/step - loss: 0.4131 - accuracy: 0.8403\n",
            "Epoch 8/10\n",
            "1028/1028 [==============================] - 23s 22ms/step - loss: 0.4083 - accuracy: 0.8439\n",
            "Epoch 9/10\n",
            "1028/1028 [==============================] - 22s 22ms/step - loss: 0.4052 - accuracy: 0.8435\n",
            "Epoch 10/10\n",
            "1028/1028 [==============================] - 23s 22ms/step - loss: 0.4001 - accuracy: 0.8454\n"
          ]
        },
        {
          "output_type": "execute_result",
          "data": {
            "text/plain": [
              "<keras.callbacks.History at 0x7f22432a61c0>"
            ]
          },
          "metadata": {},
          "execution_count": 51
        }
      ]
    },
    {
      "cell_type": "code",
      "source": [],
      "metadata": {
        "id": "g7umPwCD-RHu"
      },
      "id": "g7umPwCD-RHu",
      "execution_count": null,
      "outputs": []
    },
    {
      "cell_type": "code",
      "source": [
        "loss,acc=model_lstm.evaluate(x_test,y_test_enc)\n",
        "print(\"test loss :\", loss)\n",
        "print('test accuracy:',acc*100)\n",
        "print(\"____________________________\")\n",
        "loss,acc=model_lstm.evaluate(x_train,y_train_enc)\n",
        "print(\"trainig loss :\", loss)\n",
        "print('trainig accuracy:',acc*100)\n",
        "print(\"____________________________\")\n",
        "\n",
        "pred=model_lstm.predict(x_test)\n",
        "pred_list=[]\n",
        "for i in pred:\n",
        "  pred_list.append(np.argmax(i))\n",
        "cf1 = confusion_matrix(y_test,pred_list)\n",
        "sns.heatmap(cf1,annot=True,fmt = '.0f')\n",
        "plt.xlabel('prediction')\n",
        "plt.ylabel('Actual')\n",
        "plt.title(\"lstm\"+ ' Confusion Matrix')\n",
        "plt.show()\n",
        "print(\"true\")\n",
        "print(classification_report(y_test,pred_list  ))"
      ],
      "metadata": {
        "colab": {
          "base_uri": "https://localhost:8080/",
          "height": 642
        },
        "id": "ercBBnK_rrUi",
        "outputId": "be732b34-842b-49c9-f75e-cbdf3c566fc0"
      },
      "id": "ercBBnK_rrUi",
      "execution_count": 52,
      "outputs": [
        {
          "output_type": "stream",
          "name": "stdout",
          "text": [
            "42/42 [==============================] - 1s 6ms/step - loss: 0.4010 - accuracy: 0.8518\n",
            "test loss : 0.4009794294834137\n",
            "test accuracy: 85.18242835998535\n",
            "____________________________\n",
            "2056/2056 [==============================] - 14s 7ms/step - loss: 0.3969 - accuracy: 0.8481\n",
            "trainig loss : 0.39689627289772034\n",
            "trainig accuracy: 84.80891585350037\n",
            "____________________________\n",
            "42/42 [==============================] - 0s 6ms/step\n"
          ]
        },
        {
          "output_type": "display_data",
          "data": {
            "text/plain": [
              "<Figure size 432x288 with 2 Axes>"
            ],
            "image/png": "[encoded data removed]"
          },
          "metadata": {
            "needs_background": "light"
          }
        },
        {
          "output_type": "stream",
          "name": "stdout",
          "text": [
            "true\n",
            "              precision    recall  f1-score   support\n",
            "\n",
            "           0       0.81      0.90      0.85       472\n",
            "           1       0.95      0.81      0.88       490\n",
            "           2       0.80      0.84      0.82       381\n",
            "\n",
            "    accuracy                           0.85      1343\n",
            "   macro avg       0.86      0.85      0.85      1343\n",
            "weighted avg       0.86      0.85      0.85      1343\n",
            "\n"
          ]
        }
      ]
    },
    {
      "cell_type": "markdown",
      "source": [
        "RNN model"
      ],
      "metadata": {
        "id": "R8LmLr6VAu6j"
      },
      "id": "R8LmLr6VAu6j"
    },
    {
      "cell_type": "code",
      "source": [
        "model_RNN= Sequential()\n",
        "model_RNN.add(Input(shape=(10,10)))\n",
        "model_RNN.add(LSTM(120  ,activation='relu'))\n",
        "model_RNN.add(Dense(3))\n",
        "model_RNN.add(Activation('softmax'))\n",
        "model_RNN.summary()"
      ],
      "metadata": {
        "colab": {
          "base_uri": "https://localhost:8080/"
        },
        "id": "T2nlWv7B-cKP",
        "outputId": "d861b6fc-774c-41f5-ffd8-e8dbd4a281ea"
      },
      "id": "T2nlWv7B-cKP",
      "execution_count": 53,
      "outputs": [
        {
          "output_type": "stream",
          "name": "stdout",
          "text": [
            "Model: \"sequential_6\"\n",
            "_________________________________________________________________\n",
            " Layer (type)                Output Shape              Param #   \n",
            "=================================================================\n",
            " lstm_1 (LSTM)               (None, 120)               62880     \n",
            "                                                                 \n",
            " dense_15 (Dense)            (None, 3)                 363       \n",
            "                                                                 \n",
            " activation_3 (Activation)   (None, 3)                 0         \n",
            "                                                                 \n",
            "=================================================================\n",
            "Total params: 63,243\n",
            "Trainable params: 63,243\n",
            "Non-trainable params: 0\n",
            "_________________________________________________________________\n"
          ]
        }
      ]
    },
    {
      "cell_type": "code",
      "source": [
        "model_RNN.compile(optimizer=tf.keras.optimizers.Adam(learning_rate=1e-3),\n",
        "              loss=tf.keras.losses.CategoricalCrossentropy()\n",
        "              , metrics=['accuracy'])"
      ],
      "metadata": {
        "id": "Uhgvt5AA-gB3"
      },
      "id": "Uhgvt5AA-gB3",
      "execution_count": 54,
      "outputs": []
    },
    {
      "cell_type": "code",
      "source": [
        "model_RNN.fit(x_train,y_train_enc,batch_size=64,epochs=10)"
      ],
      "metadata": {
        "colab": {
          "base_uri": "https://localhost:8080/"
        },
        "id": "8hvvQydk_b_M",
        "outputId": "9633e336-b721-4c76-de61-a538c57eca94"
      },
      "id": "8hvvQydk_b_M",
      "execution_count": 56,
      "outputs": [
        {
          "output_type": "stream",
          "name": "stdout",
          "text": [
            "Epoch 1/10\n",
            "1028/1028 [==============================] - 38s 35ms/step - loss: 0.5593 - accuracy: 0.7830\n",
            "Epoch 2/10\n",
            "1028/1028 [==============================] - 39s 38ms/step - loss: 0.4573 - accuracy: 0.8260\n",
            "Epoch 3/10\n",
            "1028/1028 [==============================] - 23s 22ms/step - loss: 0.4423 - accuracy: 0.8319\n",
            "Epoch 4/10\n",
            "1028/1028 [==============================] - 23s 22ms/step - loss: 0.4333 - accuracy: 0.8354\n",
            "Epoch 5/10\n",
            "1028/1028 [==============================] - 23s 23ms/step - loss: 0.4266 - accuracy: 0.8367\n",
            "Epoch 6/10\n",
            "1028/1028 [==============================] - 22s 21ms/step - loss: 0.4213 - accuracy: 0.8383\n",
            "Epoch 7/10\n",
            "1028/1028 [==============================] - 24s 23ms/step - loss: 0.4159 - accuracy: 0.8400\n",
            "Epoch 8/10\n",
            "1028/1028 [==============================] - 23s 22ms/step - loss: 0.4106 - accuracy: 0.8424\n",
            "Epoch 9/10\n",
            "1028/1028 [==============================] - 22s 21ms/step - loss: 0.4064 - accuracy: 0.8443\n",
            "Epoch 10/10\n",
            "1028/1028 [==============================] - 23s 22ms/step - loss: 0.4028 - accuracy: 0.8453\n"
          ]
        },
        {
          "output_type": "execute_result",
          "data": {
            "text/plain": [
              "<keras.callbacks.History at 0x7f224f090310>"
            ]
          },
          "metadata": {},
          "execution_count": 56
        }
      ]
    },
    {
      "cell_type": "code",
      "source": [
        "loss,acc=model_RNN.evaluate(x_test,y_test_enc)\n",
        "print(\"test loss :\", loss)\n",
        "print('test accuracy:',acc*100)\n",
        "print(\"____________________________\")\n",
        "loss,acc=model_RNN.evaluate(x_train,y_train_enc)\n",
        "print(\"trainig loss :\", loss)\n",
        "print('trainig accuracy:',acc*100)\n",
        "print(\"____________________________\")\n",
        "\n",
        "pred=model_RNN.predict(x_test)\n",
        "pred_list=[]\n",
        "for i in pred:\n",
        "  pred_list.append(np.argmax(i))\n",
        "cf1 = confusion_matrix(y_test,pred_list)\n",
        "sns.heatmap(cf1,annot=True,fmt = '.0f')\n",
        "plt.xlabel('prediction')\n",
        "plt.ylabel('Actual')\n",
        "plt.title(\"lstm\"+ ' Confusion Matrix')\n",
        "plt.show()\n",
        "print(\"true\")\n",
        "print(classification_report(y_test,pred_list  ))"
      ],
      "metadata": {
        "colab": {
          "base_uri": "https://localhost:8080/",
          "height": 642
        },
        "id": "_7mS5Z7v_jI-",
        "outputId": "13229dc8-7d8b-45d3-8a18-c3bba1febf33"
      },
      "id": "_7mS5Z7v_jI-",
      "execution_count": 57,
      "outputs": [
        {
          "output_type": "stream",
          "name": "stdout",
          "text": [
            "42/42 [==============================] - 1s 6ms/step - loss: 0.3977 - accuracy: 0.8466\n",
            "test loss : 0.39772137999534607\n",
            "test accuracy: 84.661203622818\n",
            "____________________________\n",
            "2056/2056 [==============================] - 17s 8ms/step - loss: 0.3932 - accuracy: 0.8490\n",
            "trainig loss : 0.3931567072868347\n",
            "trainig accuracy: 84.90164279937744\n",
            "____________________________\n",
            "42/42 [==============================] - 1s 13ms/step\n"
          ]
        },
        {
          "output_type": "display_data",
          "data": {
            "text/plain": [
              "<Figure size 432x288 with 2 Axes>"
            ],
            "image/png": "[encoded data removed]"
          },
          "metadata": {
            "needs_background": "light"
          }
        },
        {
          "output_type": "stream",
          "name": "stdout",
          "text": [
            "true\n",
            "              precision    recall  f1-score   support\n",
            "\n",
            "           0       0.81      0.89      0.85       472\n",
            "           1       0.94      0.82      0.87       490\n",
            "           2       0.80      0.83      0.82       381\n",
            "\n",
            "    accuracy                           0.85      1343\n",
            "   macro avg       0.85      0.85      0.85      1343\n",
            "weighted avg       0.85      0.85      0.85      1343\n",
            "\n"
          ]
        }
      ]
    }
  ],
  "metadata": {
    "colab": {
      "provenance": [],
      "include_colab_link": true
    },
    "kernelspec": {
      "display_name": "Python 3 (ipykernel)",
      "language": "python",
      "name": "python3"
    },
    "language_info": {
      "codemirror_mode": {
        "name": "ipython",
        "version": 3
      },
      "file_extension": ".py",
      "mimetype": "text/x-python",
      "name": "python",
      "nbconvert_exporter": "python",
      "pygments_lexer": "ipython3",
      "version": "3.9.7"
    }
  },
  "nbformat": 4,
  "nbformat_minor": 5
}
